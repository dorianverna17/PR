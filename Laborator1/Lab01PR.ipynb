{
  "cells": [
    {
      "cell_type": "markdown",
      "metadata": {
        "id": "kWOVYAgyI3T-"
      },
      "source": [
        "# Scopul Laboratorului\n",
        " \n",
        "In cadrul primului laborator vom exersa manipularea si extragerea informatiilor din dataset-uri folosind biblioteci din limbajul Python.\n",
        " "
      ]
    },
    {
      "cell_type": "markdown",
      "metadata": {
        "id": "TqyAyH6op7pv"
      },
      "source": [
        "### *Atentie!* Inainte de a incepe laboratorul descarcati dataset-urile de la link-ul următor https://drive.google.com/file/d/150MHlLzas_lvvDHxNDxQFZT2E2RTd441/view?usp=sharing si incarcati-le la Files in Colab.\n"
      ]
    },
    {
      "cell_type": "markdown",
      "metadata": {
        "id": "Dz0J271ZI9DJ"
      },
      "source": [
        "# Cuvinte-Cheie\n",
        " \n",
        "*   Numpy\n",
        "*   Pandas\n",
        "*   Series\n",
        "*   DataFrame\n",
        "*   Data Cleaning"
      ]
    },
    {
      "cell_type": "markdown",
      "metadata": {
        "id": "ZfcR-oiyI-EC"
      },
      "source": [
        "# Utilizari in Lumea Reala\n",
        " \n",
        "*   analiza metricilor unui sistem/unei aplicatii (performante, erori)\n",
        "*   meteorologie (vizualizare, predictii)\n",
        "*   statistici in domeniul medical (de exemplu, rata de imbolnavire cu un virus la persoanele vacinate fata de cele vaccinate)\n",
        "*   observarea tendintelor sociale/politice/financiare (corelarea studiilor sau a categoriei de varsta cu preferintele unui individ)\n",
        "*   procesarea limbajului natural\n",
        "*   analiza feedback-ului consumatorilor (pentru imbunatatirea serviciilor)\n",
        "*   analiza retelelor sociale\n",
        "\n",
        "![picture](https://drive.google.com/uc?export=view&id=1bUWb8LXnkmviWqnCRbNPSjC0L3e7m49d)\n",
        " "
      ]
    },
    {
      "cell_type": "markdown",
      "metadata": {
        "id": "ZGXvyZF2PdUw"
      },
      "source": [
        "# Python Memento\n",
        "\n",
        "Amitim cateva facilitati oferite de limbajul Python:"
      ]
    },
    {
      "cell_type": "markdown",
      "metadata": {
        "id": "1G36OQqIofIe"
      },
      "source": [
        "### List Comprehension\n",
        "Creeaza o lista pornind de la elementele unei alte liste intr-un one-liner."
      ]
    },
    {
      "cell_type": "code",
      "execution_count": null,
      "metadata": {
        "colab": {
          "base_uri": "https://localhost:8080/"
        },
        "id": "o5WmCqx9igaJ",
        "outputId": "885a5dd1-bc7f-4d58-fa30-021d2b374d65"
      },
      "outputs": [],
      "source": [
        "import numpy\n",
        "integers = [x for x in list(range(0, 10))]\n",
        "print(integers)"
      ]
    },
    {
      "cell_type": "markdown",
      "metadata": {
        "id": "0f8gIF8MP2XR"
      },
      "source": [
        "### Slicing\n",
        "Extrage un fragment contiguu dintr-o lista.\n",
        "\n",
        "\n",
        "*Atentie!* Un slice [n:m] va intoarce elementele listei pornind *de la indexul n pana la indexul m-1*, intrucat indexarea in Python incepe de la 0."
      ]
    },
    {
      "cell_type": "code",
      "execution_count": null,
      "metadata": {
        "colab": {
          "base_uri": "https://localhost:8080/"
        },
        "id": "AjhEUbcAP56b",
        "outputId": "131c3f27-b214-42e6-deaf-c6755e6beb82"
      },
      "outputs": [],
      "source": [
        "half = integers[:5]\n",
        "print(half)"
      ]
    },
    {
      "cell_type": "code",
      "execution_count": null,
      "metadata": {
        "colab": {
          "base_uri": "https://localhost:8080/"
        },
        "id": "bEo3n3hSvhYi",
        "outputId": "e7e151c7-87cb-4d9e-bbca-63482af6fe69"
      },
      "outputs": [],
      "source": [
        "mid = integers[4:6]\n",
        "print(mid)"
      ]
    },
    {
      "cell_type": "code",
      "execution_count": null,
      "metadata": {
        "colab": {
          "base_uri": "https://localhost:8080/"
        },
        "id": "km1UWiyYvhtd",
        "outputId": "f45572a6-c75f-4169-8182-703b0f258ef2"
      },
      "outputs": [],
      "source": [
        "all = integers[:]\n",
        "print(all)"
      ]
    },
    {
      "cell_type": "markdown",
      "metadata": {
        "id": "OJPLOh6_iR5x"
      },
      "source": [
        "### Lambdas\n",
        "\n",
        "Lambdas sunt functii anonime scrise ca one-liner. Pot primi oricate argumente si pot fi date drept parametru pentru functionale."
      ]
    },
    {
      "cell_type": "code",
      "execution_count": null,
      "metadata": {
        "colab": {
          "base_uri": "https://localhost:8080/"
        },
        "id": "q0a_R70n39xm",
        "outputId": "f29f2a8d-c6df-40c1-a929-f3dbbc920035"
      },
      "outputs": [],
      "source": [
        "foo = lambda x: x ** 2 + 3 * x + 1\n",
        "foo(5)"
      ]
    },
    {
      "cell_type": "markdown",
      "metadata": {
        "id": "_-1wvNUs4lnh"
      },
      "source": [
        "### Functional Programming"
      ]
    },
    {
      "cell_type": "markdown",
      "metadata": {
        "id": "mB95qk2CoPJr"
      },
      "source": [
        "### Filter"
      ]
    },
    {
      "cell_type": "code",
      "execution_count": null,
      "metadata": {
        "colab": {
          "base_uri": "https://localhost:8080/"
        },
        "id": "n6a2xadD49pT",
        "outputId": "9cbd9335-c9fb-48eb-efb6-3db333294873"
      },
      "outputs": [],
      "source": [
        "filter(lambda x: x % 2 == 1, integers)\n"
      ]
    },
    {
      "cell_type": "code",
      "execution_count": null,
      "metadata": {
        "colab": {
          "base_uri": "https://localhost:8080/"
        },
        "id": "dIjYsr0z5a4R",
        "outputId": "b1ecbefa-3880-40e7-fde1-7f1a26560ea7"
      },
      "outputs": [],
      "source": [
        "odd = list(filter(lambda x: x % 2 == 1, integers))\n",
        "print(odd)"
      ]
    },
    {
      "cell_type": "markdown",
      "metadata": {
        "id": "DI0fPWoBoTB9"
      },
      "source": [
        "### Map"
      ]
    },
    {
      "cell_type": "code",
      "execution_count": null,
      "metadata": {
        "colab": {
          "base_uri": "https://localhost:8080/"
        },
        "id": "XP27SM4X51fh",
        "outputId": "87a34513-a89f-4134-d940-2e0167fd8a97"
      },
      "outputs": [],
      "source": [
        "squares = list(map(lambda x: x ** 2, integers))\n",
        "print(squares)"
      ]
    },
    {
      "cell_type": "markdown",
      "metadata": {
        "id": "h91DrLDsoXat"
      },
      "source": [
        "### Reduce"
      ]
    },
    {
      "cell_type": "code",
      "execution_count": null,
      "metadata": {
        "colab": {
          "base_uri": "https://localhost:8080/"
        },
        "id": "3Qz7pmJE5_sY",
        "outputId": "62944c96-e512-4a7e-bd93-ac5f3425d56e"
      },
      "outputs": [],
      "source": [
        "from functools import reduce\n",
        "sum = reduce(lambda x, y: x + y, integers)\n",
        "print(sum)\n",
        "initial_value = 10\n",
        "sum = reduce(lambda x, y: x + y, integers, initial_value)\n",
        "print(sum)"
      ]
    },
    {
      "cell_type": "markdown",
      "metadata": {
        "id": "UN0zQNK5Q1gB"
      },
      "source": [
        "# NumPy\n",
        "\n",
        "NumPy este o biblioteca pentru limbajul Python specializata pe operatii matematice (structuri de date dedicate, vectorizari, functii optimizate). Ofera instrumente de creare, stocare si manipulare a informatiilor, ceea ce faciliteaza integrarea cu numeroase baze de date."
      ]
    },
    {
      "cell_type": "markdown",
      "metadata": {
        "id": "FfuLgI80qTsL"
      },
      "source": [
        "## Programare orientata pe Array-uri\n",
        "\n",
        "Elementul de baza in manipularea datelor folosind NumPy este np.array. Acesta poate fi creat fie pornind de la una sau mai multe liste, fie folosind functii speciale."
      ]
    },
    {
      "cell_type": "code",
      "execution_count": null,
      "metadata": {
        "colab": {
          "base_uri": "https://localhost:8080/"
        },
        "id": "mjgyxC9ErSVC",
        "outputId": "feb3a788-b1f8-455e-ad12-9b46d97925b6"
      },
      "outputs": [],
      "source": [
        "import numpy as np\n",
        "\n",
        "# array uni-dimensional de 5 elemente\n",
        "uni = np.array([0, 1, 2, 3, 4])\n",
        "print(uni)\n",
        "print(type(uni))"
      ]
    },
    {
      "cell_type": "code",
      "execution_count": null,
      "metadata": {
        "colab": {
          "base_uri": "https://localhost:8080/"
        },
        "id": "GBcZfdb-rrUT",
        "outputId": "0e34647b-34c0-4ecf-e2a3-2d7c90a685ce"
      },
      "outputs": [],
      "source": [
        "# array multi-dimensional, cu 2 dimensiuni, fiecare avand 4 elemente\n",
        "multi = np.array([[1, 1, 2, 3], [5, 8, 13, 21]])\n",
        "print(multi)"
      ]
    },
    {
      "cell_type": "markdown",
      "metadata": {
        "id": "Wbe10P3N69Fx"
      },
      "source": [
        "Pentru a afla *dimensiunile unui np.array*, putem folosi urmatoarele atribute:\n",
        "*   *shape*: forma array-ului (distributia elementelor pe linii si coloane)\n",
        "*   *ndim*: numarul de dimensiuni\n",
        "*   *size*: numarul total de elemente din array"
      ]
    },
    {
      "cell_type": "code",
      "execution_count": null,
      "metadata": {
        "colab": {
          "base_uri": "https://localhost:8080/"
        },
        "id": "_e3kvI7P7Cqh",
        "outputId": "b2c5d822-841f-4633-9590-1ba43ea31c3a"
      },
      "outputs": [],
      "source": [
        "print(\"Array shapes:\")\n",
        "print(uni.shape)\n",
        "print(multi.shape)\n",
        "print(\"\\n\")\n",
        "\n",
        "print(\"Array dimensions:\")\n",
        "print(uni.ndim)\n",
        "print(multi.ndim)\n",
        "print(\"\\n\")\n",
        "\n",
        "print(\"Array size:\")\n",
        "print(uni.size)\n",
        "print(multi.size)"
      ]
    },
    {
      "cell_type": "markdown",
      "metadata": {
        "id": "BKAko6yJqKk-"
      },
      "source": [
        "Cum putem adauga o noua dimensiune la un np.array?"
      ]
    },
    {
      "cell_type": "markdown",
      "metadata": {
        "id": "RYmctV1QqKk_"
      },
      "source": [
        "Exista doua variante: \\\n",
        "&emsp; - fie prin apelul metodei reshape careia ii dam drept parametrii *shape*-urile pe care ni le dorim sa le aiba *ndarray*-ul nostru \\\n",
        "&emsp; - fie prin apelul lui np.newaxis in interiorul [] care va adauga o noua dimensiune cu marimea 1 in pozitia in care este pus apelul; acest np.newaxis este doar un alias pentru *None*"
      ]
    },
    {
      "cell_type": "code",
      "execution_count": null,
      "metadata": {
        "id": "p_ODLnnLqKk_",
        "outputId": "f9a56a18-8374-42ec-ebd0-7af3b3496110"
      },
      "outputs": [],
      "source": [
        "uni_reshaped = uni.reshape(5, 1)\n",
        "print(uni_reshaped.shape)"
      ]
    },
    {
      "cell_type": "code",
      "execution_count": null,
      "metadata": {
        "id": "arhC8ZeHqKk_",
        "outputId": "1fd212e8-2394-49e4-af32-9fb0e4a11641"
      },
      "outputs": [],
      "source": [
        "uni_reshaped = uni[:, np.newaxis]\n",
        "print(uni_reshaped.shape)"
      ]
    },
    {
      "cell_type": "code",
      "execution_count": null,
      "metadata": {
        "id": "Vcy4zk7pqKk_",
        "outputId": "adce231f-c2e5-4c46-dd9f-57511686bc3d"
      },
      "outputs": [],
      "source": [
        "uni_reshaped = uni[:, None]\n",
        "print(uni_reshaped.shape)"
      ]
    },
    {
      "cell_type": "code",
      "execution_count": null,
      "metadata": {
        "colab": {
          "base_uri": "https://localhost:8080/"
        },
        "id": "2f28rJkuzng-",
        "outputId": "4a6feff6-9b5b-4459-9b53-748f366e6ff6"
      },
      "outputs": [],
      "source": [
        "# array multi-dimensional generat cu numere random:\n",
        "# np.random.rand(dim_no, dim_size)\n",
        "np.random.rand(2, 4)"
      ]
    },
    {
      "cell_type": "markdown",
      "metadata": {
        "id": "Ygi9GFPeqKk_"
      },
      "source": [
        "**Observatie**: In momentul generarii de numere aleatore folosind este recomandata folosirea unui *random seed*. Utilitatea acestui *random seed* rezida din dorinta noastra de a avea rezultate replicabile si de catre altii in momentul in care realizam experimente, astfel incat sa nu lucram pe numere diferite la rulari diferite. Singura conditie ce trebuie respectata de catre acest *random seed* este ca el sa nu fie aleatoriu la randul sau."
      ]
    },
    {
      "cell_type": "code",
      "execution_count": null,
      "metadata": {
        "colab": {
          "base_uri": "https://localhost:8080/"
        },
        "id": "uCKgqQPM13bj",
        "outputId": "f87c3f26-fb4c-4b75-88c9-96cda8c3fbc8"
      },
      "outputs": [],
      "source": [
        "# array generat printr-un interval si un pas:\n",
        "# np.arrange(start, stop, step)\n",
        "third = np.arange(0, 21, 3)\n",
        "print(third)"
      ]
    },
    {
      "cell_type": "code",
      "execution_count": null,
      "metadata": {
        "colab": {
          "base_uri": "https://localhost:8080/"
        },
        "id": "CeZDYTu92tNi",
        "outputId": "19dac713-feb2-4164-a795-79d52e3cdd6f"
      },
      "outputs": [],
      "source": [
        "# interval si un numar de elemente distribuite simetric intr-un spatiu liniar:\n",
        "# np.linspace(start, stop, elem_no)\n",
        "np.linspace(0, 10, 9)\n"
      ]
    },
    {
      "cell_type": "markdown",
      "metadata": {
        "id": "FWXfXKTF5iQH"
      },
      "source": [
        "## Functii Statistice si de Agregare\n"
      ]
    },
    {
      "cell_type": "code",
      "execution_count": null,
      "metadata": {
        "colab": {
          "base_uri": "https://localhost:8080/"
        },
        "id": "Tgzqh13GHzFP",
        "outputId": "33fe6dbe-eb42-4b46-973e-f88107c5075c"
      },
      "outputs": [],
      "source": [
        "neg = [x for x in range(-10, 0)]\n",
        "pos = [x for x in range(1, 11)]\n",
        "arr = np.array([neg, pos])\n",
        "print(arr)"
      ]
    },
    {
      "cell_type": "markdown",
      "metadata": {
        "id": "tqH0DfJI8KHc"
      },
      "source": [
        "###    *Media Aritmetica: np.mean()*\n",
        "\n"
      ]
    },
    {
      "cell_type": "code",
      "execution_count": null,
      "metadata": {
        "colab": {
          "base_uri": "https://localhost:8080/"
        },
        "id": "YIzqIgvf8GEF",
        "outputId": "5fdcbf17-2562-406f-f0c7-72c9e78fd719"
      },
      "outputs": [],
      "source": [
        "# media pe axa liniilor\n",
        "print(np.mean(arr, axis=0))"
      ]
    },
    {
      "cell_type": "code",
      "execution_count": null,
      "metadata": {
        "colab": {
          "base_uri": "https://localhost:8080/"
        },
        "id": "YqTnA5bg_q3B",
        "outputId": "cc96cb94-b89b-4a27-a8fe-9c5f9bad668a"
      },
      "outputs": [],
      "source": [
        "# media pe axa coloanelor\n",
        "print(np.mean(arr, axis=1))"
      ]
    },
    {
      "cell_type": "code",
      "execution_count": null,
      "metadata": {
        "colab": {
          "base_uri": "https://localhost:8080/"
        },
        "id": "AoCg7CQe_wHL",
        "outputId": "ddba475f-3612-4ba6-a879-90d7d8bf0368"
      },
      "outputs": [],
      "source": [
        "# media tuturor elementelor\n",
        "print(np.mean(arr))"
      ]
    },
    {
      "cell_type": "markdown",
      "metadata": {
        "id": "ViT_x0fAAIXX"
      },
      "source": [
        "### *Deviatia Standard:   np.std()*\n",
        "\n",
        "*Reminder*: deviatia standard indica dispersia unui set de date relativ la media elementelor sale\n",
        "\n",
        "    std = sqrt(mean(x)), unde x = abs(arr - arr.mean())**2\n"
      ]
    },
    {
      "cell_type": "code",
      "execution_count": null,
      "metadata": {
        "colab": {
          "base_uri": "https://localhost:8080/"
        },
        "id": "MRacNFrzAVpl",
        "outputId": "58f6d4e8-2f2c-4a8f-fda3-40c3a993e0f2"
      },
      "outputs": [],
      "source": [
        "np.std(arr)"
      ]
    },
    {
      "cell_type": "code",
      "execution_count": null,
      "metadata": {
        "colab": {
          "base_uri": "https://localhost:8080/"
        },
        "id": "_ndPWAssCvkY",
        "outputId": "ee401c6c-dd32-4b80-f8ec-c07216e25152"
      },
      "outputs": [],
      "source": [
        "np.std(arr, axis=0)"
      ]
    },
    {
      "cell_type": "code",
      "execution_count": null,
      "metadata": {
        "colab": {
          "base_uri": "https://localhost:8080/"
        },
        "id": "j3IF34vvCyyI",
        "outputId": "0fafa317-34bd-42d1-b6ca-1100fe7c05b8"
      },
      "outputs": [],
      "source": [
        "np.std(arr, axis=1)"
      ]
    },
    {
      "cell_type": "markdown",
      "metadata": {
        "id": "-QyT7XyDDjXV"
      },
      "source": [
        "### *Suma, Produs: np.sum(), np.prod()*"
      ]
    },
    {
      "cell_type": "code",
      "execution_count": null,
      "metadata": {
        "colab": {
          "base_uri": "https://localhost:8080/"
        },
        "id": "LP8xYGQ1DpO2",
        "outputId": "cb055e52-74ae-4cf3-cb38-8967884f5008"
      },
      "outputs": [],
      "source": [
        "np.sum(arr)"
      ]
    },
    {
      "cell_type": "code",
      "execution_count": null,
      "metadata": {
        "colab": {
          "base_uri": "https://localhost:8080/"
        },
        "id": "wMVkQeWGDr-E",
        "outputId": "72a477af-a3a5-4c9f-e165-dce4a8fe14bb"
      },
      "outputs": [],
      "source": [
        "np.sum(arr, axis=0)"
      ]
    },
    {
      "cell_type": "code",
      "execution_count": null,
      "metadata": {
        "colab": {
          "base_uri": "https://localhost:8080/"
        },
        "id": "AxFpMWHQDxgB",
        "outputId": "3a10a584-5a84-4dc0-bcb7-5733873b7105"
      },
      "outputs": [],
      "source": [
        "np.sum(arr, axis=1)"
      ]
    },
    {
      "cell_type": "code",
      "execution_count": null,
      "metadata": {
        "colab": {
          "base_uri": "https://localhost:8080/"
        },
        "id": "nN3OEcnEHen3",
        "outputId": "41dff21d-7077-443a-e525-5dd248dfb7c7"
      },
      "outputs": [],
      "source": [
        "np.prod(arr, axis=0)"
      ]
    },
    {
      "cell_type": "markdown",
      "metadata": {
        "id": "SGsYtPG-EtSv"
      },
      "source": [
        "### *Min, Max: np.min(), np.max()*"
      ]
    },
    {
      "cell_type": "code",
      "execution_count": null,
      "metadata": {
        "colab": {
          "base_uri": "https://localhost:8080/"
        },
        "id": "zvZoD20QE45K",
        "outputId": "a0cb33a1-cc7e-4b0a-d05e-b01b42919d29"
      },
      "outputs": [],
      "source": [
        "np.min(arr)"
      ]
    },
    {
      "cell_type": "code",
      "execution_count": null,
      "metadata": {
        "colab": {
          "base_uri": "https://localhost:8080/"
        },
        "id": "DNjH6ZcIFBzR",
        "outputId": "8c5a58bd-a38e-415f-c853-e5dc3ef32279"
      },
      "outputs": [],
      "source": [
        "np.max(arr, axis=1)"
      ]
    },
    {
      "cell_type": "markdown",
      "metadata": {
        "id": "JRJY7-TTFJpz"
      },
      "source": [
        "### *Min index, Max index: np.argmin(), np.argmax()*"
      ]
    },
    {
      "cell_type": "code",
      "execution_count": null,
      "metadata": {
        "colab": {
          "base_uri": "https://localhost:8080/"
        },
        "id": "CxLFAG6WF62z",
        "outputId": "0bf26ef0-6d42-43b5-8c61-8637ae3c84df"
      },
      "outputs": [],
      "source": [
        "np.argmin(arr)\n",
        "np.argmax(arr)"
      ]
    },
    {
      "cell_type": "code",
      "execution_count": null,
      "metadata": {
        "colab": {
          "base_uri": "https://localhost:8080/"
        },
        "id": "sobhcI8OG-_o",
        "outputId": "4ee8327c-b5e1-4a67-ddeb-3f69bf779cdc"
      },
      "outputs": [],
      "source": [
        "np.argmax(arr, axis=1)"
      ]
    },
    {
      "cell_type": "markdown",
      "metadata": {
        "id": "8rkNaHcVdQ2K"
      },
      "source": [
        "## Vectorizari\n",
        "\n",
        "In contextul limbajelor high-level (precum Python, MATLAB, R), vectorizarea descrie utilizarea codului optimizat si pre-compilat pentru a realiza operatii asupra unor secvente de date. Acest lucru presupune executia in-place a operatiei asupra tuturor elementelor colectiei, fara a mai fi nevoie de o iteratie explicita."
      ]
    },
    {
      "cell_type": "markdown",
      "metadata": {
        "id": "LR_Zi6gje1G_"
      },
      "source": [
        "Putem observa eficienta vectorizarii prin aplicarea functiei sum() in urmatorul exemplu:"
      ]
    },
    {
      "cell_type": "code",
      "execution_count": null,
      "metadata": {
        "id": "fXBKMo_tfbhk"
      },
      "outputs": [],
      "source": [
        "import timeit\n",
        "\n",
        "rand_arr = np.random.rand(30, 30)\n",
        "rand_arr_vect = rand_arr\n",
        "rand_arr_iter = rand_arr\n",
        "\n",
        "def add_vect(arr):\n",
        "  sum = np.sum(arr)\n",
        "\n",
        "def add_iter(arr):\n",
        "  sum = 0\n",
        "  for num in arr:\n",
        "    sum += num"
      ]
    },
    {
      "cell_type": "code",
      "execution_count": null,
      "metadata": {
        "colab": {
          "base_uri": "https://localhost:8080/"
        },
        "id": "C8DPR0ZvfsKE",
        "outputId": "989cd259-fece-4b73-bb36-dd928d73e45b"
      },
      "outputs": [],
      "source": [
        "%timeit add_vect(rand_arr_vect)"
      ]
    },
    {
      "cell_type": "code",
      "execution_count": null,
      "metadata": {
        "colab": {
          "base_uri": "https://localhost:8080/"
        },
        "id": "Wi0_BtS0k45F",
        "outputId": "db910244-9469-4032-ae8a-7f8a22887c80"
      },
      "outputs": [],
      "source": [
        "%timeit add_iter(rand_arr_iter)"
      ]
    },
    {
      "cell_type": "markdown",
      "metadata": {
        "id": "AskSyjrSnyEc"
      },
      "source": [
        "## Indexare Booleana\n",
        "Daca dorim sa accesam doar elementele care respecta o anumita conditie, putem folosi indexarea booleana.\n",
        "\n",
        "Aceasta presupune crearea unei *masti booleene* (ce verifica pentru fiecare element conditia data si indica True sau False in dreptul fiecarui index, daca aceasta este verificata sau nu), Rezultatul mastii este folosit ulterior drept index pentru gasirea valorilor cautate.\n",
        "\n",
        "Mastile booleene functioneaza pe array-uri continand orice tip de date (ex. numerice, string, bool)."
      ]
    },
    {
      "cell_type": "code",
      "execution_count": null,
      "metadata": {
        "colab": {
          "base_uri": "https://localhost:8080/"
        },
        "id": "hY8KHfDzk3K2",
        "outputId": "de751fe1-b0b3-41cd-bdb4-24ab06607c4d"
      },
      "outputs": [],
      "source": [
        "arr = np.array([[-10,8,-6,4],\n",
        "              [-2,0,2,-4],\n",
        "              [6,-8,10,-12]])\n",
        "print(arr)"
      ]
    },
    {
      "cell_type": "markdown",
      "metadata": {
        "id": "j0U9tq5znZkX"
      },
      "source": [
        "Sa presupunem ca dorim sa extragem doar elementele pozitive din array."
      ]
    },
    {
      "cell_type": "code",
      "execution_count": null,
      "metadata": {
        "colab": {
          "base_uri": "https://localhost:8080/"
        },
        "id": "FyGaj9KGnThf",
        "outputId": "d5505d00-378b-4fef-e586-87521d3e2ba7"
      },
      "outputs": [],
      "source": [
        "# cream o masca pentru a gasi pozitiile ce respecta conditia\n",
        "mask = arr >= 0\n",
        "print(mask)"
      ]
    },
    {
      "cell_type": "code",
      "execution_count": null,
      "metadata": {
        "colab": {
          "base_uri": "https://localhost:8080/"
        },
        "id": "saFPit2dnUQE",
        "outputId": "bdafa41d-e775-4144-da9a-bdc6bf9cf510"
      },
      "outputs": [],
      "source": [
        "# extragem elementele de pe pozitiile marcate cu True in masca\n",
        "pos = arr[mask]\n",
        "print(pos)"
      ]
    },
    {
      "cell_type": "markdown",
      "metadata": {
        "id": "e_yL_7nKoEwQ"
      },
      "source": [
        "## Slicing\n",
        "\n",
        "NumPy ofera posibilitatea de a extrage o vedere dintr-un array multidimensional prin slicing, similar cu cel din cazul listelor."
      ]
    },
    {
      "cell_type": "code",
      "execution_count": null,
      "metadata": {
        "colab": {
          "base_uri": "https://localhost:8080/"
        },
        "id": "GdXY9mwFt37i",
        "outputId": "32e4725a-d508-4a67-a125-7e906f2d6526"
      },
      "outputs": [],
      "source": [
        "arr = np.array([[10, 11, 12, 13, 14],\n",
        "               [15, 16, 17, 18, 19],\n",
        "               [20, 21, 22, 23, 24],\n",
        "               [25, 26, 27, 28, 29]])\n",
        "\n",
        "# primul slice extrage liniile, iar cel de-al doilea coloanele cu indecsii specificati\n",
        "print(arr[1:3, 2:5])"
      ]
    },
    {
      "cell_type": "markdown",
      "metadata": {
        "id": "djBYAsbvkRI5"
      },
      "source": [
        "# Pandas\n",
        "\n",
        "Pandas este o biblioteca pentru limbajul Python specializata pe lucrul cu date, construita peste NumPy. Datorita facilitatilor pe care le ofera, este extrem de utila in preprocesarea, analiza, si vizualizarea datelor, precum si in analiza statistica sau machine learning."
      ]
    },
    {
      "cell_type": "markdown",
      "metadata": {
        "id": "HO6MSiPBmqCK"
      },
      "source": [
        "## Series\n",
        "\n",
        "Un Pandas Series este un array *unidimensional* (sau, mai simplu, o coloana) care poate contine orice tip de date.\n",
        "\n",
        "Array-ul este *indexat* fie prin valori numerice, fie prin label-uri nominale."
      ]
    },
    {
      "cell_type": "markdown",
      "metadata": {
        "id": "d6KnGC2DmwDM"
      },
      "source": [
        "### Cum putem crea Pandas Series?"
      ]
    },
    {
      "cell_type": "markdown",
      "metadata": {
        "id": "-xO04pVInI_6"
      },
      "source": [
        "#### 1. Pornind de la o *lista*"
      ]
    },
    {
      "cell_type": "code",
      "execution_count": null,
      "metadata": {
        "colab": {
          "base_uri": "https://localhost:8080/"
        },
        "id": "Rt0l9GxUkjaP",
        "outputId": "40984850-24be-46b8-9b7f-839f7132a34e"
      },
      "outputs": [],
      "source": [
        "import numpy as np\n",
        "import pandas as pd\n",
        "\n",
        "topics = ['Data Science', 'Networking', 'Machine Learning', 'Bioinformatics', 'Cyber security', None]\n",
        "pd.Series(topics)"
      ]
    },
    {
      "cell_type": "markdown",
      "metadata": {
        "id": "Z3qPWIcNlnEy"
      },
      "source": [
        "#### 2. Pornind de la un *dictionar*"
      ]
    },
    {
      "cell_type": "code",
      "execution_count": null,
      "metadata": {
        "colab": {
          "base_uri": "https://localhost:8080/"
        },
        "id": "RiITJO4QllJf",
        "outputId": "636c58ff-1265-4019-b5fd-51fddb74fc68"
      },
      "outputs": [],
      "source": [
        "students_topics = {'Jack' : 'Networking',\n",
        "                   'Chloe' : 'Machine Learning',\n",
        "                   'Frank' : 'Cyber security',\n",
        "                   'Barbara' : 'Bioinformatics'}\n",
        "s = pd.Series(students_topics)\n",
        "print(s)\n",
        "print(s.index)"
      ]
    },
    {
      "cell_type": "markdown",
      "metadata": {
        "id": "BeJCEFhO4FZ2"
      },
      "source": [
        "#### 3. Pornind de la *o lista de valori si o lista de indecsi*"
      ]
    },
    {
      "cell_type": "code",
      "execution_count": null,
      "metadata": {
        "colab": {
          "base_uri": "https://localhost:8080/"
        },
        "id": "dzCyGObF4KM4",
        "outputId": "d719b407-d86b-4026-c943-86bc2af231f6"
      },
      "outputs": [],
      "source": [
        "s = pd.Series(['Data Science', 'Bioinformatics', 'Networking'], index=['Alice', 'Claire', 'John'])\n",
        "print(s)\n",
        "print(s.index)"
      ]
    },
    {
      "cell_type": "markdown",
      "metadata": {
        "id": "msehDr8u4bbL"
      },
      "source": [
        "### Cum accesam datele din Pandas Series?\n"
      ]
    },
    {
      "cell_type": "markdown",
      "metadata": {
        "id": "VcNudyHu4g1L"
      },
      "source": [
        "#### 1. **iloc**: prin pozitia indexului in cadrul Series"
      ]
    },
    {
      "cell_type": "code",
      "execution_count": null,
      "metadata": {
        "colab": {
          "base_uri": "https://localhost:8080/",
          "height": 35
        },
        "id": "Brxa_3ue4p1s",
        "outputId": "883586fa-684b-4177-f340-9c61aa909c6a"
      },
      "outputs": [],
      "source": [
        "s.iloc[1]"
      ]
    },
    {
      "cell_type": "markdown",
      "metadata": {
        "id": "9XX3Pqpb4tdI"
      },
      "source": [
        "#### 2. **loc**: prin valoarea indexului"
      ]
    },
    {
      "cell_type": "code",
      "execution_count": null,
      "metadata": {
        "colab": {
          "base_uri": "https://localhost:8080/",
          "height": 35
        },
        "id": "EoXSugBU4yFp",
        "outputId": "4f3b5ce0-0371-44f4-e427-3c4426d37fad"
      },
      "outputs": [],
      "source": [
        "s.loc['Claire']"
      ]
    },
    {
      "cell_type": "markdown",
      "metadata": {
        "id": "JE6zBN9D41Nm"
      },
      "source": [
        "#### Conventie\n",
        "Pentru a creste lizibilitatea codului, biblioteca Pandas foloseste o conventie de indexare:\n",
        " * daca vom accesa un element folosind un index *de tip intreg*, accesarea va fi echivalenta cu cea folosind atributul *iloc*\n",
        " * daca vom accesa un element folosind un index *de tip obiect*, accesarea va fi echivalenta cu cea folosind atributul *loc*"
      ]
    },
    {
      "cell_type": "code",
      "execution_count": null,
      "metadata": {
        "colab": {
          "base_uri": "https://localhost:8080/",
          "height": 35
        },
        "id": "KLhha53j5ZVY",
        "outputId": "774d98f1-2c79-4b99-d83a-37aee7a80b63"
      },
      "outputs": [],
      "source": [
        "s[1]"
      ]
    },
    {
      "cell_type": "code",
      "execution_count": null,
      "metadata": {
        "colab": {
          "base_uri": "https://localhost:8080/",
          "height": 35
        },
        "id": "B2Ao7f7_5bZZ",
        "outputId": "4580599e-2077-45ba-c9af-759e1b80cdad"
      },
      "outputs": [],
      "source": [
        "s['Claire']"
      ]
    },
    {
      "cell_type": "markdown",
      "metadata": {
        "id": "sNDWJb_Q9DfX"
      },
      "source": [
        "*Atentie!* Accesarea folosind un index *de tip intreg* poate fi inselatoare. Astfel, daca indecsii din Series sunt *de tip intreg*, in momentul accesarii pot aparea erori cauzate de faptul ca index-ul pe care dorim sa il folosim nu se afla in Series. Spre exemplu:"
      ]
    },
    {
      "cell_type": "code",
      "execution_count": null,
      "metadata": {
        "colab": {
          "base_uri": "https://localhost:8080/",
          "height": 566
        },
        "id": "Q0d29E9B958H",
        "outputId": "0ca4f459-18e3-4eea-e163-9cf8c1f08dc0"
      },
      "outputs": [],
      "source": [
        "s = pd.Series({20: 'John',\n",
        "               21: 'Claire',\n",
        "               22: 'Chloe'})\n",
        "s[0]"
      ]
    },
    {
      "cell_type": "markdown",
      "metadata": {
        "id": "UPtAryup-stN"
      },
      "source": [
        "Pentru a nu ne lovi de aceasta eroare vom folosi atributul iloc pentru a accesa primul element din Series."
      ]
    },
    {
      "cell_type": "code",
      "execution_count": null,
      "metadata": {
        "colab": {
          "base_uri": "https://localhost:8080/",
          "height": 35
        },
        "id": "ED6R5sbC-1vf",
        "outputId": "b80843db-b176-48e3-8064-b09a09a832b7"
      },
      "outputs": [],
      "source": [
        "s.iloc[0]"
      ]
    },
    {
      "cell_type": "markdown",
      "metadata": {
        "id": "wgE8_aCTnS-b"
      },
      "source": [
        "## DataFrame\n",
        "\n",
        "DataFrame este structura cea mai folosita din Pandas.\n",
        "\n",
        "Reprezinta un array *bidimensional* indexat (numeric sau nominal), in care o linie indica valori pentru o anumita intrare in setul de date, iar o coloana marcheaza elementul masurat. Astfel, valorile de pe o linie *pot* avea tipuri de date diferite, insa cele de pe o coloana *trebuie* sa fie omogene."
      ]
    },
    {
      "cell_type": "markdown",
      "metadata": {
        "id": "Gl4En2eDXrha"
      },
      "source": [
        "### Cum putem crea un DataFrame?"
      ]
    },
    {
      "cell_type": "markdown",
      "metadata": {
        "id": "ApCQ3DN-X5pm"
      },
      "source": [
        "#### 1. Pornind de la un *dictionar* / o *lista de dictionare*"
      ]
    },
    {
      "cell_type": "code",
      "execution_count": null,
      "metadata": {
        "colab": {
          "base_uri": "https://localhost:8080/",
          "height": 112
        },
        "id": "yw0PdK0a_2O4",
        "outputId": "31a36a5b-52d9-44b6-ac80-c1fdf96793c8"
      },
      "outputs": [],
      "source": [
        "import pandas as pd\n",
        "import numpy as np\n",
        "\n",
        "# dictionar\n",
        "subjects = {\"Subject\": [\"Computer Programming\", \"Data Structures\"],\\\n",
        "            \"Credits\": [\"5\", \"5\"]}\n",
        "df = pd.DataFrame(subjects)\n",
        "df\n"
      ]
    },
    {
      "cell_type": "markdown",
      "metadata": {
        "id": "ILMJ9EkFiYIZ"
      },
      "source": [
        "In exemplul precedent, indecsii iau automat valori numerice pornind de la 0.\n",
        "\n",
        "Avem insa posibilitatea de a seta indexul dataframe-ului *la momentul crearii* prin argumentul ***index=***:"
      ]
    },
    {
      "cell_type": "code",
      "execution_count": null,
      "metadata": {
        "colab": {
          "base_uri": "https://localhost:8080/",
          "height": 112
        },
        "id": "GF12EDRbh5U2",
        "outputId": "60a8860c-2961-42e3-ed5a-765f04318a6a"
      },
      "outputs": [],
      "source": [
        "df = pd.DataFrame(subjects, index=[\"S1\", \"S2\"])\n",
        "df"
      ]
    },
    {
      "cell_type": "markdown",
      "metadata": {
        "id": "i-_uGeVSjMND"
      },
      "source": [
        "Indexul mai poate fi setat la o coloana existenta folosind ***.set_index(\"column_name\")***:"
      ]
    },
    {
      "cell_type": "code",
      "execution_count": null,
      "metadata": {
        "colab": {
          "base_uri": "https://localhost:8080/",
          "height": 143
        },
        "id": "Nmx318_yhGCH",
        "outputId": "8f4fbbf1-8dbc-4a07-a52a-a2ce9aca6b86"
      },
      "outputs": [],
      "source": [
        "# lista de dictionare\n",
        "students = [{\"Name\": \"Alice\", \"Subject\": \"Computer Programming\", \"Score\": 90},\\\n",
        "            {\"Name\": \"Bob\", \"Subject\": \"Computer Programming\", \"Score\": 88}]\n",
        "df = pd.DataFrame(students)\n",
        "df.set_index(\"Name\")"
      ]
    },
    {
      "cell_type": "markdown",
      "metadata": {
        "id": "gYYX4I81md-y"
      },
      "source": [
        "Putem reseta indecsii la valorile initiale cu ajutorul ***.reset_index()***:"
      ]
    },
    {
      "cell_type": "code",
      "execution_count": null,
      "metadata": {
        "colab": {
          "base_uri": "https://localhost:8080/",
          "height": 112
        },
        "id": "HMUxFAwzm2--",
        "outputId": "7cc9a32d-19f7-4830-a65d-1200c55a0b79"
      },
      "outputs": [],
      "source": [
        "df.reset_index()\n",
        "df"
      ]
    },
    {
      "cell_type": "markdown",
      "metadata": {
        "id": "T8T7d0cpYHw0"
      },
      "source": [
        "#### 2. Pornind de la un *NumPy ndarray*"
      ]
    },
    {
      "cell_type": "code",
      "execution_count": null,
      "metadata": {
        "colab": {
          "base_uri": "https://localhost:8080/",
          "height": 112
        },
        "id": "m8hr3JLJYbgR",
        "outputId": "5b400372-62a3-4026-eba0-b58b5e4ae078"
      },
      "outputs": [],
      "source": [
        "students = np.array([[\"\", 'Subject', 'Score'],\n",
        "                [\"Alice\", \"Computer Programming\", 90],\n",
        "                [\"Bob\", \"Computer Programming\", 88]])\n",
        "\n",
        "df = pd.DataFrame(data=students[1:, 1:],\\\n",
        "                  index=students[1:, 0],\\\n",
        "                  columns=students[0, 1:])\n",
        "df"
      ]
    },
    {
      "cell_type": "markdown",
      "metadata": {
        "id": "C33-LNbDYccg"
      },
      "source": [
        "#### 3. Pornind de la Pandas *Series*"
      ]
    },
    {
      "cell_type": "code",
      "execution_count": null,
      "metadata": {
        "colab": {
          "base_uri": "https://localhost:8080/"
        },
        "id": "Ov7kiSRwYfT4",
        "outputId": "52e5a93b-4b8a-450f-9db5-a607de8fed35"
      },
      "outputs": [],
      "source": [
        "# creare a unei pd.Series pornind de la o lista\n",
        "subjects = pd.Series([\"Computer Programming\", \"Data Structures\",\\\n",
        "                      \"OOP\", \"Programming Paradigms\"])\n",
        "subjects"
      ]
    },
    {
      "cell_type": "code",
      "execution_count": null,
      "metadata": {
        "colab": {
          "base_uri": "https://localhost:8080/",
          "height": 175
        },
        "id": "CA5R9r5lpBGM",
        "outputId": "3d85cb06-5bdf-4766-f162-04140415644f"
      },
      "outputs": [],
      "source": [
        "df = pd.DataFrame(subjects, columns=[\"Subject\"])\n",
        "df"
      ]
    },
    {
      "cell_type": "markdown",
      "metadata": {
        "id": "VqWSjtqZYwmk"
      },
      "source": [
        "#### 4. Citind dataset-ul dintr-un *fisier* (.csv, .json, .xlsx etc.)"
      ]
    },
    {
      "cell_type": "code",
      "execution_count": null,
      "metadata": {
        "colab": {
          "base_uri": "https://localhost:8080/",
          "height": 206
        },
        "id": "6zx2wQC7mPfe",
        "outputId": "5a195993-351a-437c-e351-a9a37a899cdd"
      },
      "outputs": [],
      "source": [
        "df = pd.read_csv(\"datasets/AWS_Honeypot.csv\")\n",
        "df.head()"
      ]
    },
    {
      "cell_type": "markdown",
      "metadata": {
        "id": "CZq1QjkAqKlJ"
      },
      "source": [
        "Cum putem afla informatii despre dataframe-ul creat?"
      ]
    },
    {
      "cell_type": "code",
      "execution_count": null,
      "metadata": {
        "id": "B8r4fdl7qKlJ",
        "outputId": "b94bb682-eb04-4efa-ccc2-e5eb1286e99f"
      },
      "outputs": [],
      "source": [
        "df.info()"
      ]
    },
    {
      "cell_type": "markdown",
      "metadata": {
        "id": "6jH0WimnqKlJ"
      },
      "source": [
        "Acest apel de **df.info()** ne va da mai multe detalii precum coloanele ce le contine dataframe-ul creat de noi, tipurile datelor stocate pe acele coloane, numarul de valori ce nu sunt\n",
        "nule pe acele coloane, cat si memoria pe care o ocupa dataframe-ul nostru. \\\n",
        "De retinut: **memoria utilizata de dataframe** ce este intoarsa de **df.info()** este **memorie principala (RAM)** pentru ca *pandas* incarca dataframe-ul in RAM. Acest lucru poate fi costisitor si poate deveni un *bottleneck* in momentul in care lucram cu *Big Data*. \\\n",
        "Daca, totusi, dorim sa lucram cu date care sunt generate continuu, putem folosi Dask [1] sau PySpark [2]."
      ]
    },
    {
      "cell_type": "markdown",
      "metadata": {
        "id": "vP_zyEETqKlJ"
      },
      "source": [
        "## Valori Lipsa\n",
        "\n",
        "In practica, putem intalni seturi de date cu valori lipsa. Un data scientist va deduce semnificatia acestora sau le va elimina in procesul de *data cleaning*.\n",
        "\n",
        "NumPy foloseste ***np.nan*** pentru a indica valori lipsa. NaN (Not a Number) este o valoare de tip float in standardul IEEE, fapt ce permite utilizarea operatiilor matematice asupra structurilor care o contin. Toate operatiile efectuate asupra unor structuri ce contin NaN vor intoarce, la randul lor, NaN.\n",
        "\n",
        "*Atentie!* np.nan este diferit de None, obiect de tip NoneType care nu accepta operatii matematice."
      ]
    },
    {
      "cell_type": "code",
      "execution_count": null,
      "metadata": {
        "id": "cDsd9CuPqKlJ"
      },
      "outputs": [],
      "source": [
        "a = None\n",
        "b = np.nan\n",
        "print(a is b)"
      ]
    },
    {
      "cell_type": "code",
      "execution_count": null,
      "metadata": {
        "id": "Q9BIczqdqKlJ"
      },
      "outputs": [],
      "source": [
        "floats = np.array([2, np.nan, -1.3])\n",
        "print(np.sum(floats))"
      ]
    },
    {
      "cell_type": "markdown",
      "metadata": {
        "id": "NuovooewqKlJ"
      },
      "source": [
        "Pentru a verifica daca o structura contine sau nu valori lipsa, putem folosi *isnull()*."
      ]
    },
    {
      "cell_type": "code",
      "execution_count": null,
      "metadata": {
        "id": "D2BGOMhtqKlJ"
      },
      "outputs": [],
      "source": [
        "series = pd.Series([\"Jack\", np.nan, \"Frank\", None])\n",
        "series.isnull()"
      ]
    },
    {
      "cell_type": "markdown",
      "metadata": {
        "id": "37r0w6gf_R-d"
      },
      "source": [
        "In momentul in care lucram cu valori lipsa trebuie sa avem o atentie sporita atunci cand este nevoie sa aplicam asupra lor functii statistice si de agregare din NumPy. \n",
        "\n",
        "Cel mai bun exemplu in acest sens este reprezentat de utilizarea functiilor precum np.average, np.mean, np.std. Daca aceste functii sunt aplicate pe un set de date care contine valori lipsa, rezultatul intors de ele va fi np.nan."
      ]
    },
    {
      "cell_type": "code",
      "execution_count": null,
      "metadata": {
        "colab": {
          "base_uri": "https://localhost:8080/"
        },
        "id": "QzXjT8s4AACx",
        "outputId": "50fd6f3a-de30-472b-8120-286461ee3268"
      },
      "outputs": [],
      "source": [
        "np.average(floats)"
      ]
    },
    {
      "cell_type": "code",
      "execution_count": null,
      "metadata": {
        "colab": {
          "base_uri": "https://localhost:8080/"
        },
        "id": "c0fBhY5HAwcW",
        "outputId": "16730c4f-5f0e-4f57-bf65-58fa9830fe0e"
      },
      "outputs": [],
      "source": [
        "np.mean(floats)"
      ]
    },
    {
      "cell_type": "markdown",
      "metadata": {
        "id": "F62kE4oTAQow"
      },
      "source": [
        "Pentru a putea aplica functiile statistice si de agregare pe care le dorim numai asupra datelor relevante au aparut functiile corespondente - np.nanmean, np.nanstd. Aceste functii sunt construite in asa mod incat sa nu ia in considerare valorile de tip np.nan in momentul calculului. "
      ]
    },
    {
      "cell_type": "code",
      "execution_count": null,
      "metadata": {
        "colab": {
          "base_uri": "https://localhost:8080/"
        },
        "id": "UFgDi9QVBwgj",
        "outputId": "565471a4-e561-4021-f481-8265b74210f8"
      },
      "outputs": [],
      "source": [
        "np.nanmean(floats)"
      ]
    },
    {
      "cell_type": "code",
      "execution_count": null,
      "metadata": {
        "colab": {
          "base_uri": "https://localhost:8080/"
        },
        "id": "C2DtPcg6Byzq",
        "outputId": "f29590fa-2581-40b3-9e07-756b52c1069b"
      },
      "outputs": [],
      "source": [
        "np.nanstd(floats)"
      ]
    },
    {
      "cell_type": "markdown",
      "metadata": {
        "id": "-ilxol21ZUWw"
      },
      "source": [
        "### **Demo DataFrames**\n",
        "\n",
        "Vom folosi setul de date *AWS_Honeypot.csv*.\n",
        "\n",
        "#### *Ce este un Honeypot?*\n",
        "\n",
        "Un *honeypot* reprezinta un sistem atasat la retea drept \"momeala\" pentru atacurile cibernetice. Fiind intentionat vulnerabil, acesta face posibila detectarea, devierea si investigarea incercarilor neautorizate de a accesa informatii interne din sistemul principal. Masinile virtuale sunt deseori utilizate pentru a hosta honeypot-uri (pot fi usor restaurate daca sunt compromise).\n",
        "* *honeynet*: doua sau mai multe honeypot-uri\n",
        "* *honey farm*: colectie centralizata de honeypot-uri si instrumente de analiza a datelor\n",
        "\n",
        "![picture](https://drive.google.com/uc?export=view&id=1plXhhQF78u1NYy62JD49EK3vKwJOpv-O)\n",
        "\n",
        "In acest demo vom simula un analizor de honeypot.\n",
        "\n"
      ]
    },
    {
      "cell_type": "code",
      "execution_count": null,
      "metadata": {
        "colab": {
          "base_uri": "https://localhost:8080/",
          "height": 206
        },
        "id": "6OWZuYj4g-au",
        "outputId": "49368f62-2662-4673-d1eb-78ed54bf87df"
      },
      "outputs": [],
      "source": [
        "import pandas as pd\n",
        "import numpy as np\n",
        " \n",
        "# tinem datasetul honeypot intr-un dataframe\n",
        "honeypot = pd.read_csv(\"datasets/AWS_Honeypot.csv\")\n",
        "honeypot.head()"
      ]
    },
    {
      "cell_type": "markdown",
      "metadata": {
        "id": "vVx3cYsXkEY5"
      },
      "source": [
        "#### Cum accesam datele dintr-un dataframe?"
      ]
    },
    {
      "cell_type": "markdown",
      "metadata": {
        "id": "v90eAQ44EAhK"
      },
      "source": [
        "##### 1. ***iloc***\n",
        "\n",
        "In mod similar cu Series, atributul iloc[n] va intoarce a n-a inregistrare din tabel.\n",
        "\n",
        "Verificam data ultimei inregistrari din honeypot, inainte de restaurare:"
      ]
    },
    {
      "cell_type": "code",
      "execution_count": null,
      "metadata": {
        "colab": {
          "base_uri": "https://localhost:8080/"
        },
        "id": "VlWiVFuPkZnV",
        "outputId": "985a4f02-3952-4b9c-b69a-75e4b41cdbfd"
      },
      "outputs": [],
      "source": [
        "# va returna ultima intrare/rand din dataframe\n",
        "honeypot.iloc[-1]"
      ]
    },
    {
      "cell_type": "code",
      "execution_count": null,
      "metadata": {
        "colab": {
          "base_uri": "https://localhost:8080/",
          "height": 36
        },
        "id": "mHZuO5YkPS6O",
        "outputId": "d7d7fbb6-d295-4300-fe13-6e53f087abde"
      },
      "outputs": [],
      "source": [
        "# va returna primul element din ultima intrare din dataframe ce corespunde\n",
        "# \"datetime\"-ului\n",
        "honeypot.iloc[-1, 0]"
      ]
    },
    {
      "cell_type": "markdown",
      "metadata": {
        "id": "lMF_nqihFesi"
      },
      "source": [
        "##### 2. ***loc***\n",
        "\n",
        "Pentru a extrage datele despre toate atacurile cu sursa in Romania, putem indexa dupa tara, apoi selecta dupa label folosind atributul loc:"
      ]
    },
    {
      "cell_type": "code",
      "execution_count": null,
      "metadata": {
        "colab": {
          "base_uri": "https://localhost:8080/",
          "height": 206
        },
        "id": "fSexY7t4G7Fq",
        "outputId": "4d03bb02-337e-4bbb-debe-985fcde27a02"
      },
      "outputs": [],
      "source": [
        "honeypot.reset_index(inplace=True)\n",
        "honeypot.set_index(\"country\", inplace=True)\n",
        "honeypot.loc[\"Romania\"]"
      ]
    },
    {
      "cell_type": "code",
      "execution_count": null,
      "metadata": {
        "colab": {
          "base_uri": "https://localhost:8080/"
        },
        "id": "FQzuo_7NVnJG",
        "outputId": "2f51bb7d-16a6-45eb-c2b3-8610170b6572"
      },
      "outputs": [],
      "source": [
        "# pentru a gasi \"locale\" pentru Romania\n",
        "honeypot.loc[\"Romania\", \"locale\"].drop_duplicates()"
      ]
    },
    {
      "cell_type": "markdown",
      "metadata": {
        "id": "w9HktwHmRIL5"
      },
      "source": [
        "Putem folosi atributul loc pentru preluarea datelor dupa orice label nominal:"
      ]
    },
    {
      "cell_type": "code",
      "execution_count": null,
      "metadata": {
        "colab": {
          "base_uri": "https://localhost:8080/",
          "height": 175
        },
        "id": "-RQYqVSKRIeU",
        "outputId": "66932972-9eed-495a-fb7c-19b596c4e539"
      },
      "outputs": [],
      "source": [
        "# folosind .loc si masca booleana putem gasi toate atacurile din Germania\n",
        "honeypot = pd.read_csv(\"datasets/AWS_Honeypot.csv\")\n",
        "mask = honeypot[\"country\"]==\"Germany\"\n",
        "mask\n",
        "honeypot.loc[honeypot[\"country\"]==\"Germany\"]"
      ]
    },
    {
      "cell_type": "markdown",
      "metadata": {
        "id": "YWg-02YCKyHD"
      },
      "source": [
        "##### 3. Folosind *numele unei coloane*\n",
        "\n",
        "Extragem toate tarile din care s-au incercat atacurile catre acest honeypot:"
      ]
    },
    {
      "cell_type": "code",
      "execution_count": null,
      "metadata": {
        "colab": {
          "base_uri": "https://localhost:8080/"
        },
        "id": "zJaRwav2K2Xn",
        "outputId": "40145eef-4fc4-46ef-cb8f-64dda5fc94db"
      },
      "outputs": [],
      "source": [
        "attacker_countries = honeypot[\"country\"].drop_duplicates(keep=\"first\")\n",
        "attacker_countries.reset_index(drop=True)"
      ]
    },
    {
      "cell_type": "markdown",
      "metadata": {
        "id": "648AK_SmqKlL"
      },
      "source": [
        "De ce necesar apelul de **drop_duplicates()** in procesul de *curatare* al datelor? \\\n",
        "Deoarece in momentul in care antrenam algoritmi de *Machine Learning* pe seturi de date care contin duplicate, acestea pot favoriza un anumit exemplu sau anumite *features* ce sunt extrase din acel exemplu in detrimentul altora, din cauza ponderii pe care o au. De asemenea, poate pastrarea duplicatelor face mai usor *data leakage*-ul despre care vom vorbi in Laboratorul 10.  "
      ]
    },
    {
      "cell_type": "markdown",
      "metadata": {
        "id": "_gWHR-RTWjS9"
      },
      "source": [
        "##### 4. Prin *slicing* si/sau *subsetting* (lista de indecsi, coloane)"
      ]
    },
    {
      "cell_type": "code",
      "execution_count": null,
      "metadata": {
        "colab": {
          "base_uri": "https://localhost:8080/",
          "height": 423
        },
        "id": "qqJflOO3W3hu",
        "outputId": "e7bda368-acc3-46bb-dfc6-39eeaba9f739"
      },
      "outputs": [],
      "source": [
        "honeypot.loc[:100, [\"datetime\", \"spt\", \"dpt\"]]"
      ]
    },
    {
      "cell_type": "markdown",
      "metadata": {
        "id": "0z-st8dabLw7"
      },
      "source": [
        "#### Cum redenumim titlurile coloanelor?"
      ]
    },
    {
      "cell_type": "markdown",
      "metadata": {
        "id": "uULdTAYnbeJw"
      },
      "source": [
        "##### 1. ***df.rename***\n",
        "\n",
        "df.rename(columns={old:new, ...})"
      ]
    },
    {
      "cell_type": "code",
      "execution_count": null,
      "metadata": {
        "colab": {
          "base_uri": "https://localhost:8080/",
          "height": 206
        },
        "id": "Ru0Mj5hMcEQt",
        "outputId": "17764209-57c0-4758-ab72-450c67ccf45e"
      },
      "outputs": [],
      "source": [
        "honeypot.rename(columns={\"src\": \"bandwidth\", \"srcstr\": \"ip\"}, inplace=True)\n",
        "honeypot.head()"
      ]
    },
    {
      "cell_type": "markdown",
      "metadata": {
        "id": "qQrM5x22fEif"
      },
      "source": [
        "##### 2. ***mapper***\n",
        "\n",
        "Este folosit tot prin df.rename().\n",
        "\n",
        "De aceasta data, este data ca parametru o functie (mapper) care indica modificarile asupra titlurilor coloanelor (axis=1) sau indecsilor (axis=0)."
      ]
    },
    {
      "cell_type": "code",
      "execution_count": null,
      "metadata": {
        "colab": {
          "base_uri": "https://localhost:8080/",
          "height": 206
        },
        "id": "2mvfC9PtfiEq",
        "outputId": "71356a45-7a48-40b3-8692-8a15fc1d092b"
      },
      "outputs": [],
      "source": [
        "def port_foo(column):\n",
        "  if (column == \"spt\"):\n",
        "    return \"Src Port\"\n",
        "  if (column == \"dpt\"):\n",
        "    return \"Dst Port\"\n",
        "  return column\n",
        " \n",
        "honeypot.rename(mapper=port_foo, axis=1, inplace=True)\n",
        "honeypot.head()"
      ]
    },
    {
      "cell_type": "markdown",
      "metadata": {
        "id": "Z10HkGNlc6cD"
      },
      "source": [
        "##### 3. ***df.columns***\n",
        "\n",
        "df.columns = [\"col0_new\", \"col1_new\", ....]\n",
        "\n",
        "Se precizeaza noile valori pentru toate coloanele, in ordine."
      ]
    },
    {
      "cell_type": "code",
      "execution_count": null,
      "metadata": {
        "colab": {
          "base_uri": "https://localhost:8080/",
          "height": 206
        },
        "id": "_Z_b3qskdRst",
        "outputId": "723f4f4d-122e-44b7-e735-f1e4a934969e"
      },
      "outputs": [],
      "source": [
        "honeypot.columns = [\"DateTime\", \"Host\", \"Bandwidth\", \"Protocol\",\\\n",
        "                    \"Type\", \"SrcPort\", \"DstPort\", \"IP\", \"Country\",\\\n",
        "                    \"Locale\", \"Latitude\", \"Longitude\"]\n",
        "honeypot.head()"
      ]
    },
    {
      "cell_type": "markdown",
      "metadata": {
        "id": "k6xjo5-1jdtP"
      },
      "source": [
        "#### Cum scriem query-uri folosind Boolean Masking?\n",
        "\n",
        "Vrem sa gasim date despre atacurile din China interceptate incepand cu ora 5:00 (toate inregistrarile din honeypot-ul dat au loc in aceeasi zi) ."
      ]
    },
    {
      "cell_type": "markdown",
      "metadata": {
        "id": "NgqIKE17s9xa"
      },
      "source": [
        "*Pandas are functionalitati speciale pentru lucrul cu date si ore. De exemplu, pd.to_datetime() converteste orice format orar la unul standard.*"
      ]
    },
    {
      "cell_type": "code",
      "execution_count": null,
      "metadata": {
        "colab": {
          "base_uri": "https://localhost:8080/",
          "height": 206
        },
        "id": "AknMRTQYjkIM",
        "outputId": "d64c1fda-0030-4d35-c6d5-19e1fc1b5f6d"
      },
      "outputs": [],
      "source": [
        "import datetime\n",
        "honeypot = pd.read_csv(\"datasets/AWS_Honeypot.csv\")\n",
        "honeypot[\"datetime\"] = pd.to_datetime(honeypot[\"datetime\"])\n",
        "honeypot.head()"
      ]
    },
    {
      "cell_type": "markdown",
      "metadata": {
        "id": "6237hJU6uE-4"
      },
      "source": [
        "Putem crea doua masti - una pentru fiecare conditie - si sa accesam dataframe-ul cu ajutorul lor.\n",
        "\n",
        "*Atentie!*\n",
        "* operatorii logici sunt bitwise-like (fata de Python, unde avem \"and\", \"or\")\n",
        "* locul parantezelor conteaza\n",
        "\n",
        "Avem doua posibilitati:"
      ]
    },
    {
      "cell_type": "markdown",
      "metadata": {
        "id": "qNZ-0qRyuREA"
      },
      "source": [
        "##### 1. *df[mask]*"
      ]
    },
    {
      "cell_type": "code",
      "execution_count": null,
      "metadata": {
        "colab": {
          "base_uri": "https://localhost:8080/",
          "height": 423
        },
        "id": "8_r3qspauahW",
        "outputId": "f73a5a27-06ae-4e2c-d833-fdc6a78f0472"
      },
      "outputs": [],
      "source": [
        "start_time = \"2013-03-08 05:00:00\"\n",
        " \n",
        "honeypot[(honeypot[\"datetime\"] >= start_time) & (honeypot[\"country\"] == \"China\")].reset_index(drop=True)"
      ]
    },
    {
      "cell_type": "markdown",
      "metadata": {
        "id": "MfwDsduEubQS"
      },
      "source": [
        "##### 2. *df.where(mask)*\n",
        "\n",
        "Mai jos avem un exemplu de *Pandas Chaining*. Mai multe metode sunt aplicate pe rand aceluiasi obiect prin inlantuire, crescand lizibilitatea codului. In cazul nostru, mai intai aplicam o masca pentru filtrare, apoi eliminam liniile care au cel putin doua valori NaN."
      ]
    },
    {
      "cell_type": "code",
      "execution_count": null,
      "metadata": {
        "colab": {
          "base_uri": "https://localhost:8080/",
          "height": 423
        },
        "id": "GZYE-80gujBf",
        "outputId": "caf52740-1477-4b80-909a-e3a11f2e61f4"
      },
      "outputs": [],
      "source": [
        "honeypot.where((honeypot[\"datetime\"] >= start_time) & (honeypot[\"country\"] == \"China\")).dropna(thresh=2)\n"
      ]
    },
    {
      "cell_type": "markdown",
      "metadata": {
        "id": "1NNsSA9CwCLI"
      },
      "source": [
        "#### Cum manipulam un DataFrame folosind functionale?\n",
        "\n",
        "Acest honey farm colecteaza valorile bandwidth-ului unui atac in bps (biti per secunda), ceea ce le face greu de urmarit.\n",
        "\n",
        "Vom crea o functie care va converti bandwidth-ul la Gbps (gigabiti per secunda) si o vom aplica pe datele din dataframe folosind *apply()*."
      ]
    },
    {
      "cell_type": "code",
      "execution_count": null,
      "metadata": {
        "colab": {
          "base_uri": "https://localhost:8080/",
          "height": 206
        },
        "id": "naQuRYg515dE",
        "outputId": "3135b282-8fed-41eb-dec9-c6e6e944b53c"
      },
      "outputs": [],
      "source": [
        "honeypot = pd.read_csv(\"datasets/AWS_Honeypot.csv\")\n",
        "\n",
        "def convert_to_gbps(bandwidth):\n",
        "  return round((float) (bandwidth / (10 ** 9)), 2)\n",
        "\n",
        "honeypot[\"src\"] = honeypot[\"src\"].apply(lambda x: convert_to_gbps(x))\n",
        "honeypot.head()"
      ]
    },
    {
      "cell_type": "markdown",
      "metadata": {
        "id": "to4hV4VX5lCa"
      },
      "source": [
        "#### Cum intelegem datele la nivel de grup? *(groupby)*\n",
        "\n",
        "Dorim sa interpretam datele in functie de protocolul folosit in atac:"
      ]
    },
    {
      "cell_type": "code",
      "execution_count": null,
      "metadata": {
        "colab": {
          "base_uri": "https://localhost:8080/"
        },
        "id": "J96WhG8u52jJ",
        "outputId": "1838b720-d1f4-436a-bfaf-64d8599fa688"
      },
      "outputs": [],
      "source": [
        "for group, frame in honeypot.groupby(\"proto\"):\n",
        "  print(str(group) + \": \" + str(len(frame)) + \" records\")"
      ]
    },
    {
      "cell_type": "markdown",
      "metadata": {
        "id": "mDDy1BOF6V9D"
      },
      "source": [
        "##### **GroupBy** este un proces ce implica cel putin unul din pasii *split-apply-combine*:\n",
        "\n",
        "*   *split*: datele se impart in grupuri dupa un criteriu\n",
        "*   *apply*: se aplica o functie pe fiecare grup\n",
        "*   *combine*: rezultatele sunt agregate intr-o structura\n",
        "\n",
        "La pasul apply, putem folosi groupby() impreuna cu una din functiile:"
      ]
    },
    {
      "cell_type": "markdown",
      "metadata": {
        "id": "2y7Q22Ha9dLd"
      },
      "source": [
        "*Aggregate*\n",
        "\n",
        "Pasam un dictionar avand numele coloanelor de interpretat drept chei si functiile necesare interpretarii drept valori.\n",
        "\n",
        "Analizam in continuare grupurile, calculand bandwidth-ul mediu si latitudinea minima pentru fiecare:"
      ]
    },
    {
      "cell_type": "code",
      "execution_count": null,
      "metadata": {
        "colab": {
          "base_uri": "https://localhost:8080/",
          "height": 175
        },
        "id": "Px8eBFOL7hz5",
        "outputId": "e5f8bef9-5ab9-4e5c-d18a-80e048ab3f48"
      },
      "outputs": [],
      "source": [
        "honeypot.groupby(\"proto\").agg({\"src\": np.nanmean, \"latitude\": np.min})"
      ]
    },
    {
      "cell_type": "markdown",
      "metadata": {
        "id": "zx92u8VHCTlD"
      },
      "source": [
        "*Filter*\n",
        "\n",
        "Pasam o functie care se aplica pe fiecare grup si intoarce True sau False, in functie de rezultatul grupului la filtru.\n",
        "\n",
        "Vrem sa gasim informatii doar despre atacurile din grupurile care au media bandwidth-ului mai mare de 2.5 Gbps:"
      ]
    },
    {
      "cell_type": "code",
      "execution_count": null,
      "metadata": {
        "colab": {
          "base_uri": "https://localhost:8080/",
          "height": 423
        },
        "id": "32alyrLLCW6j",
        "outputId": "4a55547a-3efc-4958-940d-d964626ec981"
      },
      "outputs": [],
      "source": [
        "# gasim informatii doar despre atacurile din grupurile care au media\n",
        "# bandwidth-ului mai mare de 2.5 Gbps\n",
        "bw = honeypot.groupby(\"proto\").filter(lambda df: np.nanmean(df[\"src\"]) > 2.5)\n",
        "bw.reset_index(inplace=True)\n",
        "bw.drop(columns=\"index\")\n"
      ]
    },
    {
      "cell_type": "markdown",
      "metadata": {
        "id": "kOfAxbEPCXgG"
      },
      "source": [
        "*Apply*"
      ]
    },
    {
      "cell_type": "markdown",
      "metadata": {
        "id": "gF54KdX_MW3i"
      },
      "source": [
        "Pasam o functie care se va aplica pe fiecare grup, oferindu-ne posibilitatea de a pastra rezultatele obtinute in cadrul aceluiasi dataframe.\n",
        "\n",
        "Intentionam sa grupam atacurile dupa protocolul folosit si sa aflam care este deviatia standard a fiecarui atac fata de media grupului din care face parte."
      ]
    },
    {
      "cell_type": "code",
      "execution_count": null,
      "metadata": {
        "colab": {
          "base_uri": "https://localhost:8080/",
          "height": 423
        },
        "id": "QZejQ1VnCZ9r",
        "outputId": "8d2a4f3b-8da7-45f2-b1a9-4505ff5257df"
      },
      "outputs": [],
      "source": [
        "df = honeypot[['src', 'proto']]\n",
        "\n",
        "def compute_std_dev(group):\n",
        "  avg = np.nanmean(group['src'])\n",
        "  group['avg'] = avg\n",
        "  group['std_dev'] = np.abs(avg - group['src'])\n",
        "  return group\n",
        "\n",
        "df.groupby('proto').apply(compute_std_dev)"
      ]
    },
    {
      "cell_type": "markdown",
      "metadata": {
        "id": "mTcmK7ObCicu"
      },
      "source": [
        "#### Cum analizam datele din mai multe surse? *(merging dataframes)*\n",
        "\n",
        "Pandas vine la dispozitie cu instrumente in acest scop, precum *merge()* (similar join-ului din SQL) si *concat()*.\n",
        "\n",
        "![picture](https://drive.google.com/uc?export=view&id=1M3knXIAZxlk_lKoAIhW8FMYLuE8pPCwj)"
      ]
    },
    {
      "cell_type": "code",
      "execution_count": null,
      "metadata": {
        "colab": {
          "base_uri": "https://localhost:8080/",
          "height": 225
        },
        "id": "j6Z3gerbC9SI",
        "outputId": "6cf11409-99c7-42cf-cc8e-eda3b5dd1262"
      },
      "outputs": [],
      "source": [
        "first = pd.read_csv(\"datasets/AWS_Honeypot.csv\")\n",
        "first = first.head(5)\n",
        "print(first.shape)\n",
        "first"
      ]
    },
    {
      "cell_type": "code",
      "execution_count": null,
      "metadata": {
        "colab": {
          "base_uri": "https://localhost:8080/"
        },
        "id": "AhElUE77FJyw",
        "outputId": "26692229-c446-4e7c-ec5f-abd040d71ef6"
      },
      "outputs": [],
      "source": [
        "pip install pandas-ods-reader"
      ]
    },
    {
      "cell_type": "code",
      "execution_count": null,
      "metadata": {
        "colab": {
          "base_uri": "https://localhost:8080/"
        },
        "id": "jnDneLHsaEIg",
        "outputId": "c712e060-727b-4a46-b7f3-1d238747a04f"
      },
      "outputs": [],
      "source": [
        "pip install odfpy"
      ]
    },
    {
      "cell_type": "code",
      "execution_count": null,
      "metadata": {
        "colab": {
          "base_uri": "https://localhost:8080/",
          "height": 381
        },
        "id": "W76Nu16LHig4",
        "outputId": "6f3e36c9-c908-47b3-c6ae-8ebfb1137b5c"
      },
      "outputs": [],
      "source": [
        "#loc = pd.read_ods(\"AWS_Honeypot_location.ods\")\n",
        "loc = pd.read_excel(\"datasets/AWS_Honeypot_location.ods\", engine=\"odf\")\n",
        "loc = loc.head(10)\n",
        "print(loc.shape)\n",
        "loc"
      ]
    },
    {
      "cell_type": "markdown",
      "metadata": {
        "id": "DtWUh9w_rIdh"
      },
      "source": [
        "##### *Inner Merge*\n",
        "\n",
        "Join-ul se va face dupa coloanele comune.\n",
        "Este tipul implicit de merge."
      ]
    },
    {
      "cell_type": "code",
      "execution_count": null,
      "metadata": {
        "colab": {
          "base_uri": "https://localhost:8080/",
          "height": 287
        },
        "id": "CtQ-0eKaf15C",
        "outputId": "fc491054-6058-4d9d-d8d0-a6c12acbb78f"
      },
      "outputs": [],
      "source": [
        "inner = pd.merge(first, loc)\n",
        "print(inner.shape)\n",
        "inner"
      ]
    },
    {
      "cell_type": "markdown",
      "metadata": {
        "id": "whQgYbDH9g7F"
      },
      "source": [
        "Putem preciza coloanele dupa care vrem sa facem merge folosind *on*.\n",
        "\n",
        "Coloanele care se regasesc in ambele dataframe-uri, dar nu sunt folosite drept valori pentru *on*, se vor interpreta individual si, deci, vor aparea impreuna in noul dataframe. Acestea se vor diferentia prin indicele atasat la final (*_x*, *_y*)."
      ]
    },
    {
      "cell_type": "code",
      "execution_count": null,
      "metadata": {
        "colab": {
          "base_uri": "https://localhost:8080/",
          "height": 429
        },
        "id": "GGuP1sxxgMmR",
        "outputId": "34c55d4a-7831-473e-b5ac-49263cb62a8a"
      },
      "outputs": [],
      "source": [
        "inner = pd.merge(first, loc, on=[\"host\", \"srcstr\"])\n",
        "print(inner.shape)\n",
        "inner"
      ]
    },
    {
      "cell_type": "markdown",
      "metadata": {
        "id": "2KzPW1HI-y7b"
      },
      "source": [
        "##### *Outer Merge*\n",
        "\n",
        "Combina toate liniile din cele doua dataframe-uri, adaugand NaN acolo unde nu se gasesc valori corespunzatoare."
      ]
    },
    {
      "cell_type": "code",
      "execution_count": null,
      "metadata": {
        "colab": {
          "base_uri": "https://localhost:8080/",
          "height": 635
        },
        "id": "oJBrjnTehlTq",
        "outputId": "85a67ae5-473c-4fe4-f9d3-11f3accdccae"
      },
      "outputs": [],
      "source": [
        "outer = pd.merge(first, loc, how=\"outer\")\n",
        "print(outer.shape)\n",
        "outer"
      ]
    },
    {
      "cell_type": "markdown",
      "metadata": {
        "id": "sNdz3X2n-7PU"
      },
      "source": [
        "##### *Left (Outer) Merge*\n",
        "\n",
        "Pastreaza toate liniile din dataframe-ul stang. Va adauga NaN acolo unde nu exista valori corespunzatoare pentru variabila *on* in dataframe-ul drept."
      ]
    },
    {
      "cell_type": "code",
      "execution_count": null,
      "metadata": {
        "colab": {
          "base_uri": "https://localhost:8080/",
          "height": 409
        },
        "id": "F_QLLmnmiHto",
        "outputId": "e6417f90-8c7d-4a43-c2f9-736176ccde27"
      },
      "outputs": [],
      "source": [
        "left = pd.merge(first, loc, how=\"left\", on=[\"datetime\", \"host\", \"latitude\", \"longitude\"])\n",
        "print(left.shape)\n",
        "left"
      ]
    },
    {
      "cell_type": "markdown",
      "metadata": {
        "id": "jRBYOLq2_D1x"
      },
      "source": [
        "##### *Right (Outer) Merge*\n",
        "\n",
        "Pastreaza toate liniile din dataframe-ul drept. Va adauga NaN acolo unde nu exista valori corespunzatoare pentru variabila *on* in dataframe-ul stang."
      ]
    },
    {
      "cell_type": "code",
      "execution_count": null,
      "metadata": {
        "colab": {
          "base_uri": "https://localhost:8080/",
          "height": 673
        },
        "id": "a3kZHdFji52I",
        "outputId": "0bc70da0-22a8-47d0-92c8-9eb6853d12a4"
      },
      "outputs": [],
      "source": [
        "right = pd.merge(first, loc, how=\"right\", on=[\"datetime\", \"host\", \"latitude\", \"longitude\"])\n",
        "print(right.shape)\n",
        "right"
      ]
    },
    {
      "cell_type": "markdown",
      "metadata": {
        "id": "fIA4UOKdUes-"
      },
      "source": [
        "Primim un nou set de date din honeypot."
      ]
    },
    {
      "cell_type": "markdown",
      "metadata": {
        "id": "0nwAqI-6_Kzo"
      },
      "source": [
        "##### *Concat*"
      ]
    },
    {
      "cell_type": "code",
      "execution_count": null,
      "metadata": {
        "colab": {
          "base_uri": "https://localhost:8080/",
          "height": 311
        },
        "id": "b1jiJS1tUiV6",
        "outputId": "470e1f25-440a-46fa-e362-d0c56c73fce9"
      },
      "outputs": [],
      "source": [
        "from pandas_ods_reader import read_ods\n",
        "\n",
        "second = read_ods(\"datasets/AWS_Honeypot_2.ods\")\n",
        "second = second.head(5)\n",
        "print(second.shape)\n",
        "second"
      ]
    },
    {
      "cell_type": "markdown",
      "metadata": {
        "id": "GsnenppxLvaL"
      },
      "source": [
        "Folosind parametrul axis, putem specifica daca dorim concatenarea dataframe-urilor pe verticala, de-a lungul liniilor (axis=0) sau pe orizontala, de-a lungul coloanelor (axis=1)."
      ]
    },
    {
      "cell_type": "code",
      "execution_count": null,
      "metadata": {
        "colab": {
          "base_uri": "https://localhost:8080/",
          "height": 555
        },
        "id": "BmzJA-4Ujgs7",
        "outputId": "f6fa543a-8bc3-48cb-f4ef-6f43a64e45a0"
      },
      "outputs": [],
      "source": [
        "all = pd.concat([first, second], axis=0)\n",
        "print(all.shape)\n",
        "all"
      ]
    },
    {
      "cell_type": "code",
      "execution_count": null,
      "metadata": {
        "colab": {
          "base_uri": "https://localhost:8080/",
          "height": 575
        },
        "id": "XSL_UzGNjph0",
        "outputId": "6f233445-be87-4524-8b1c-98237d657f78"
      },
      "outputs": [],
      "source": [
        "all = pd.concat([first, loc], axis=1)\n",
        "# ruleaza celula, apoi decomenteaza linia urmatoare\n",
        "all = all.loc[:,~all.columns.duplicated()]\n",
        "print(all.shape)\n",
        "all"
      ]
    },
    {
      "cell_type": "markdown",
      "metadata": {
        "id": "7slWSIxuvh91"
      },
      "source": [
        "# Exercitii Laborator\n",
        "\n",
        "In exercitiile propuse spre rezolvare, vom folosi urmatoarele dataset-uri:\n",
        "*   *movies.csv*\n",
        "      * contine date despre filmele din top 100 IMDB (precum titlul, anul aparitiei, rating, gen)\n",
        "*   *academy_awards.xlsx*\n",
        "* *bafta.xlsx*\n",
        "* *golden_globes.xlsx*\n",
        "  \n",
        "  * contin informatii despre nominalizari si premii castigate la 3 festivaluri de catre filmele din top 100 IMDB\n",
        "  * cele 6 categorii luate in considerare (ex. best film, best actor) au aceeasi denumire in toate cele 3 dataset-uri\n",
        "  * in dreptul unei categorii, un film poate avea una din urmatoarele valori:\n",
        "    * *1*, daca filmul a castigat acel premiu\n",
        "    * *2*, daca filmul a fost nominalizat pentru acel premiu, dar nu a castigat\n",
        "    * *nicio valoare*, daca filmul nu a fost nici macar nominalizat pentru acel premiu (se poate interpreta ca nan)\n"
      ]
    },
    {
      "cell_type": "markdown",
      "metadata": {
        "id": "vQRuUeO32P77"
      },
      "source": []
    },
    {
      "cell_type": "code",
      "execution_count": 116,
      "metadata": {
        "colab": {
          "base_uri": "https://localhost:8080/",
          "height": 291
        },
        "id": "1-e24WJx06vR",
        "outputId": "7571540b-9499-40a0-ee61-e94ee786efb6"
      },
      "outputs": [
        {
          "data": {
            "text/html": [
              "<div>\n",
              "<style scoped>\n",
              "    .dataframe tbody tr th:only-of-type {\n",
              "        vertical-align: middle;\n",
              "    }\n",
              "\n",
              "    .dataframe tbody tr th {\n",
              "        vertical-align: top;\n",
              "    }\n",
              "\n",
              "    .dataframe thead th {\n",
              "        text-align: right;\n",
              "    }\n",
              "</style>\n",
              "<table border=\"1\" class=\"dataframe\">\n",
              "  <thead>\n",
              "    <tr style=\"text-align: right;\">\n",
              "      <th></th>\n",
              "      <th>imdb_title_id</th>\n",
              "      <th>original_title</th>\n",
              "      <th>year</th>\n",
              "      <th>genre</th>\n",
              "      <th>duration</th>\n",
              "      <th>director</th>\n",
              "      <th>writer</th>\n",
              "      <th>production_company</th>\n",
              "      <th>actors</th>\n",
              "      <th>description</th>\n",
              "      <th>avg_vote</th>\n",
              "      <th>votes</th>\n",
              "    </tr>\n",
              "  </thead>\n",
              "  <tbody>\n",
              "    <tr>\n",
              "      <th>0</th>\n",
              "      <td>tt0111161</td>\n",
              "      <td>The Shawshank Redemption</td>\n",
              "      <td>1994</td>\n",
              "      <td>Drama</td>\n",
              "      <td>142</td>\n",
              "      <td>Frank Darabont</td>\n",
              "      <td>Stephen King, Frank Darabont</td>\n",
              "      <td>Castle Rock Entertainment</td>\n",
              "      <td>Tim Robbins, Morgan Freeman, Bob Gunton, Willi...</td>\n",
              "      <td>Two imprisoned men bond over a number of years...</td>\n",
              "      <td>9.3</td>\n",
              "      <td>2278845</td>\n",
              "    </tr>\n",
              "    <tr>\n",
              "      <th>1</th>\n",
              "      <td>tt0068646</td>\n",
              "      <td>The Godfather</td>\n",
              "      <td>1972</td>\n",
              "      <td>Crime, Drama</td>\n",
              "      <td>175</td>\n",
              "      <td>Francis Ford Coppola</td>\n",
              "      <td>Mario Puzo, Francis Ford Coppola</td>\n",
              "      <td>Paramount Pictures</td>\n",
              "      <td>Marlon Brando, Al Pacino, James Caan, Richard ...</td>\n",
              "      <td>The aging patriarch of an organized crime dyna...</td>\n",
              "      <td>9.2</td>\n",
              "      <td>1572674</td>\n",
              "    </tr>\n",
              "    <tr>\n",
              "      <th>2</th>\n",
              "      <td>tt0071562</td>\n",
              "      <td>The Godfather: Part II</td>\n",
              "      <td>1974</td>\n",
              "      <td>Crime, Drama</td>\n",
              "      <td>202</td>\n",
              "      <td>Francis Ford Coppola</td>\n",
              "      <td>Francis Ford Coppola, Mario Puzo</td>\n",
              "      <td>Paramount Pictures</td>\n",
              "      <td>Al Pacino, Robert Duvall, Diane Keaton, Robert...</td>\n",
              "      <td>The early life and career of Vito Corleone in ...</td>\n",
              "      <td>9.0</td>\n",
              "      <td>1098714</td>\n",
              "    </tr>\n",
              "    <tr>\n",
              "      <th>3</th>\n",
              "      <td>tt0468569</td>\n",
              "      <td>The Dark Knight</td>\n",
              "      <td>2008</td>\n",
              "      <td>Action, Crime, Drama</td>\n",
              "      <td>152</td>\n",
              "      <td>Christopher Nolan</td>\n",
              "      <td>Jonathan Nolan, Christopher Nolan</td>\n",
              "      <td>Warner Bros.</td>\n",
              "      <td>Christian Bale, Heath Ledger, Aaron Eckhart, M...</td>\n",
              "      <td>When the menace known as the Joker wreaks havo...</td>\n",
              "      <td>9.0</td>\n",
              "      <td>2241615</td>\n",
              "    </tr>\n",
              "    <tr>\n",
              "      <th>4</th>\n",
              "      <td>tt0050083</td>\n",
              "      <td>12 Angry Men</td>\n",
              "      <td>1957</td>\n",
              "      <td>Crime, Drama</td>\n",
              "      <td>96</td>\n",
              "      <td>Sidney Lumet</td>\n",
              "      <td>Reginald Rose, Reginald Rose</td>\n",
              "      <td>Orion-Nova Productions</td>\n",
              "      <td>Martin Balsam, John Fiedler, Lee J. Cobb, E.G....</td>\n",
              "      <td>A jury holdout attempts to prevent a miscarria...</td>\n",
              "      <td>8.9</td>\n",
              "      <td>668473</td>\n",
              "    </tr>\n",
              "  </tbody>\n",
              "</table>\n",
              "</div>"
            ],
            "text/plain": [
              "  imdb_title_id            original_title  year                 genre  \\\n",
              "0     tt0111161  The Shawshank Redemption  1994                 Drama   \n",
              "1     tt0068646             The Godfather  1972          Crime, Drama   \n",
              "2     tt0071562    The Godfather: Part II  1974          Crime, Drama   \n",
              "3     tt0468569           The Dark Knight  2008  Action, Crime, Drama   \n",
              "4     tt0050083              12 Angry Men  1957          Crime, Drama   \n",
              "\n",
              "   duration              director                             writer  \\\n",
              "0       142        Frank Darabont       Stephen King, Frank Darabont   \n",
              "1       175  Francis Ford Coppola   Mario Puzo, Francis Ford Coppola   \n",
              "2       202  Francis Ford Coppola   Francis Ford Coppola, Mario Puzo   \n",
              "3       152     Christopher Nolan  Jonathan Nolan, Christopher Nolan   \n",
              "4        96          Sidney Lumet       Reginald Rose, Reginald Rose   \n",
              "\n",
              "          production_company  \\\n",
              "0  Castle Rock Entertainment   \n",
              "1         Paramount Pictures   \n",
              "2         Paramount Pictures   \n",
              "3               Warner Bros.   \n",
              "4     Orion-Nova Productions   \n",
              "\n",
              "                                              actors  \\\n",
              "0  Tim Robbins, Morgan Freeman, Bob Gunton, Willi...   \n",
              "1  Marlon Brando, Al Pacino, James Caan, Richard ...   \n",
              "2  Al Pacino, Robert Duvall, Diane Keaton, Robert...   \n",
              "3  Christian Bale, Heath Ledger, Aaron Eckhart, M...   \n",
              "4  Martin Balsam, John Fiedler, Lee J. Cobb, E.G....   \n",
              "\n",
              "                                         description  avg_vote    votes  \n",
              "0  Two imprisoned men bond over a number of years...       9.3  2278845  \n",
              "1  The aging patriarch of an organized crime dyna...       9.2  1572674  \n",
              "2  The early life and career of Vito Corleone in ...       9.0  1098714  \n",
              "3  When the menace known as the Joker wreaks havo...       9.0  2241615  \n",
              "4  A jury holdout attempts to prevent a miscarria...       8.9   668473  "
            ]
          },
          "execution_count": 116,
          "metadata": {},
          "output_type": "execute_result"
        }
      ],
      "source": [
        "import pandas as pd\n",
        "import numpy as np\n",
        " \n",
        "# top 100 IMDB movies\n",
        "movies = pd.read_csv(\"datasets/movies.csv\")\n",
        "movies.head()"
      ]
    },
    {
      "cell_type": "code",
      "execution_count": 119,
      "metadata": {
        "colab": {
          "base_uri": "https://localhost:8080/",
          "height": 205
        },
        "id": "GmERC3O657Kq",
        "outputId": "ee743d02-e5e6-4ab0-ebc6-f08d985dd8e1"
      },
      "outputs": [
        {
          "data": {
            "text/html": [
              "<div>\n",
              "<style scoped>\n",
              "    .dataframe tbody tr th:only-of-type {\n",
              "        vertical-align: middle;\n",
              "    }\n",
              "\n",
              "    .dataframe tbody tr th {\n",
              "        vertical-align: top;\n",
              "    }\n",
              "\n",
              "    .dataframe thead th {\n",
              "        text-align: right;\n",
              "    }\n",
              "</style>\n",
              "<table border=\"1\" class=\"dataframe\">\n",
              "  <thead>\n",
              "    <tr style=\"text-align: right;\">\n",
              "      <th></th>\n",
              "      <th>id</th>\n",
              "      <th>original_title</th>\n",
              "      <th>Festival</th>\n",
              "      <th>Year</th>\n",
              "      <th>Best 1 (picture)</th>\n",
              "      <th>Best 2 (actor)</th>\n",
              "      <th>Best 3 (actress)</th>\n",
              "      <th>Best 4 (director)</th>\n",
              "      <th>Best 5 (supporting actor)</th>\n",
              "      <th>Best 6 (supporting actress)</th>\n",
              "    </tr>\n",
              "  </thead>\n",
              "  <tbody>\n",
              "    <tr>\n",
              "      <th>0</th>\n",
              "      <td>1</td>\n",
              "      <td>The Shawshank Redemption</td>\n",
              "      <td>Academy Awards</td>\n",
              "      <td>1995</td>\n",
              "      <td>2.0</td>\n",
              "      <td>2.0</td>\n",
              "      <td>NaN</td>\n",
              "      <td>NaN</td>\n",
              "      <td>NaN</td>\n",
              "      <td>NaN</td>\n",
              "    </tr>\n",
              "    <tr>\n",
              "      <th>1</th>\n",
              "      <td>2</td>\n",
              "      <td>The Godfather</td>\n",
              "      <td>Academy Awards</td>\n",
              "      <td>1973</td>\n",
              "      <td>1.0</td>\n",
              "      <td>1.0</td>\n",
              "      <td>NaN</td>\n",
              "      <td>2.0</td>\n",
              "      <td>2.0</td>\n",
              "      <td>NaN</td>\n",
              "    </tr>\n",
              "    <tr>\n",
              "      <th>2</th>\n",
              "      <td>3</td>\n",
              "      <td>The Godfather: Part II</td>\n",
              "      <td>Academy Awards</td>\n",
              "      <td>1975</td>\n",
              "      <td>1.0</td>\n",
              "      <td>2.0</td>\n",
              "      <td>NaN</td>\n",
              "      <td>1.0</td>\n",
              "      <td>1.0</td>\n",
              "      <td>NaN</td>\n",
              "    </tr>\n",
              "    <tr>\n",
              "      <th>3</th>\n",
              "      <td>4</td>\n",
              "      <td>The Dark Knight</td>\n",
              "      <td>Academy Awards</td>\n",
              "      <td>2009</td>\n",
              "      <td>NaN</td>\n",
              "      <td>NaN</td>\n",
              "      <td>NaN</td>\n",
              "      <td>NaN</td>\n",
              "      <td>1.0</td>\n",
              "      <td>NaN</td>\n",
              "    </tr>\n",
              "    <tr>\n",
              "      <th>4</th>\n",
              "      <td>5</td>\n",
              "      <td>12 Angry Men</td>\n",
              "      <td>Academy Awards</td>\n",
              "      <td>1958</td>\n",
              "      <td>2.0</td>\n",
              "      <td>NaN</td>\n",
              "      <td>NaN</td>\n",
              "      <td>2.0</td>\n",
              "      <td>NaN</td>\n",
              "      <td>NaN</td>\n",
              "    </tr>\n",
              "  </tbody>\n",
              "</table>\n",
              "</div>"
            ],
            "text/plain": [
              "   id            original_title        Festival  Year  Best 1 (picture)  \\\n",
              "0   1  The Shawshank Redemption  Academy Awards  1995               2.0   \n",
              "1   2             The Godfather  Academy Awards  1973               1.0   \n",
              "2   3    The Godfather: Part II  Academy Awards  1975               1.0   \n",
              "3   4           The Dark Knight  Academy Awards  2009               NaN   \n",
              "4   5              12 Angry Men  Academy Awards  1958               2.0   \n",
              "\n",
              "   Best 2 (actor)  Best 3 (actress)  Best 4 (director)   \\\n",
              "0             2.0               NaN                 NaN   \n",
              "1             1.0               NaN                 2.0   \n",
              "2             2.0               NaN                 1.0   \n",
              "3             NaN               NaN                 NaN   \n",
              "4             NaN               NaN                 2.0   \n",
              "\n",
              "   Best 5 (supporting actor)  Best 6 (supporting actress)  \n",
              "0                        NaN                          NaN  \n",
              "1                        2.0                          NaN  \n",
              "2                        1.0                          NaN  \n",
              "3                        1.0                          NaN  \n",
              "4                        NaN                          NaN  "
            ]
          },
          "execution_count": 119,
          "metadata": {},
          "output_type": "execute_result"
        }
      ],
      "source": [
        "# awards\n",
        "academy_awards = pd.read_excel(\"datasets/academy_awards.xlsx\")\n",
        "bafta = pd.read_excel(\"datasets/bafta.xlsx\")\n",
        "golden_globes = pd.read_excel(\"datasets/golden_globes.xlsx\")\n",
        "\n",
        "# academy_awards.drop(columns=\"id\", inplace=True)\n",
        "academy_awards.head()"
      ]
    },
    {
      "cell_type": "markdown",
      "metadata": {
        "id": "OyvdysW1xBJN"
      },
      "source": [
        "### 1. In dataframe-urile corespunzatoare celor trei festivaluri, redenumiti astfel:"
      ]
    },
    {
      "cell_type": "markdown",
      "metadata": {
        "id": "E1te3EcNvpDq"
      },
      "source": [
        "  * Numele coloanelor corespunzatoare categoriilor de premii:\n",
        "\n",
        "        \"Best 1 (picture)\": \"Best Picture\"\n",
        "        \"Best 2 (actor)\": \"Best Actor\"\n",
        "        \"Best 3 (actress)\": \"Best Actress\"\n",
        "        \"Best 4 (director)\": \"Best Director\"\n",
        "        \"Best 5 (supporting actor)\": \"Best Supporting Actor\"\n",
        "        \"Best 6 (supporting actress)\": \"Best Supporting Actress\"\n",
        "\n",
        "  * Numele unor titluri de film cu traducerile lor in engleza:\n",
        "  \n",
        "        \"Il buono, il brutto, il cattivo\" : \"The Good, the Bad and the Ugly\"\n",
        "        \"Dag II\" : \"The Mountain II\"\n",
        "        \"Schichinin no samurai\" : \"Seven Samurai\"\n",
        "        \"Sen to Chihiro no kamikakushi\" : \"Spirited Away\"\n",
        "        \"Gisaengchung\" : \"Parasite\"\n",
        "        \"C'era una volta il West\" : \"Once Upon A Time  in the West\"\n",
        "        \"Hotaru no haka\" : \"Grave of the Fireflies\" \n",
        "        \"Mononoke-hime\" : \"Princess Mononoke\"\n",
        "        \"Oldeuboi\" : \"Oldboy\" \n",
        "        \"Das Leben ser Anderen\" : \"The Lives of Others\"\n",
        "        \"Kimi no na wa.\" : \"Your Name.\"\n",
        "        \"Capharnaüm\" : \"Capernaum\"\n",
        "        \"Ladri di biciclette\" : \"Bycicle Thieves\"\n",
        "        \"Per qualche dollaro in più\" : \"For a Few Dollars More\"\n"
      ]
    },
    {
      "cell_type": "code",
      "execution_count": 120,
      "metadata": {
        "id": "l5coNGU4wxg_"
      },
      "outputs": [],
      "source": [
        "titles = {\"Il buono, il brutto, il cattivo\" : \"The Good, the Bad and the Ugly\",\n",
        "          \"Dag II\" : \"The Mountain II\",\n",
        "          \"Shichinin no samurai\" : \"Seven Samurai\",\n",
        "          \"Sen to Chihiro no kamikakushi\" : \"Spirited Away\",\n",
        "          \"Gisaengchung\" : \"Parasite\",\n",
        "          \"C'era una volta il West\" : \"Once Upon A Time  in the West\",\n",
        "          \"Hotaru no haka\" : \"Grave of the Fireflies\",\n",
        "          \"Mononoke-hime\" : \"Princess Mononoke\",\n",
        "          \"Oldeuboi\" : \"Oldboy\",\n",
        "          \"Das Leben ser Anderen\" : \"The Lives of Others\",\n",
        "          \"Kimi no na wa.\" : \"Your Name.\",\n",
        "          \"Capharnaüm\" : \"Capernaum\",\n",
        "          \"Ladri di biciclette\" : \"Bycicle Thieves\",\n",
        "          \"Per qualche dollaro in più\" : \"For a Few Dollars More\",\n",
        "}"
      ]
    },
    {
      "cell_type": "code",
      "execution_count": 121,
      "metadata": {},
      "outputs": [
        {
          "data": {
            "text/html": [
              "<div>\n",
              "<style scoped>\n",
              "    .dataframe tbody tr th:only-of-type {\n",
              "        vertical-align: middle;\n",
              "    }\n",
              "\n",
              "    .dataframe tbody tr th {\n",
              "        vertical-align: top;\n",
              "    }\n",
              "\n",
              "    .dataframe thead th {\n",
              "        text-align: right;\n",
              "    }\n",
              "</style>\n",
              "<table border=\"1\" class=\"dataframe\">\n",
              "  <thead>\n",
              "    <tr style=\"text-align: right;\">\n",
              "      <th></th>\n",
              "      <th>id</th>\n",
              "      <th>original_title</th>\n",
              "      <th>Festival</th>\n",
              "      <th>Year</th>\n",
              "      <th>Best Picture</th>\n",
              "      <th>Best Actor</th>\n",
              "      <th>Best Actress</th>\n",
              "      <th>Best Director</th>\n",
              "      <th>Best Supporting Actor</th>\n",
              "      <th>Best Supporting Actress</th>\n",
              "    </tr>\n",
              "  </thead>\n",
              "  <tbody>\n",
              "    <tr>\n",
              "      <th>0</th>\n",
              "      <td>1</td>\n",
              "      <td>The Shawshank Redemption</td>\n",
              "      <td>Academy Awards</td>\n",
              "      <td>1995</td>\n",
              "      <td>2.0</td>\n",
              "      <td>2.0</td>\n",
              "      <td>NaN</td>\n",
              "      <td>NaN</td>\n",
              "      <td>NaN</td>\n",
              "      <td>NaN</td>\n",
              "    </tr>\n",
              "    <tr>\n",
              "      <th>1</th>\n",
              "      <td>2</td>\n",
              "      <td>The Godfather</td>\n",
              "      <td>Academy Awards</td>\n",
              "      <td>1973</td>\n",
              "      <td>1.0</td>\n",
              "      <td>1.0</td>\n",
              "      <td>NaN</td>\n",
              "      <td>2.0</td>\n",
              "      <td>2.0</td>\n",
              "      <td>NaN</td>\n",
              "    </tr>\n",
              "    <tr>\n",
              "      <th>2</th>\n",
              "      <td>3</td>\n",
              "      <td>The Godfather: Part II</td>\n",
              "      <td>Academy Awards</td>\n",
              "      <td>1975</td>\n",
              "      <td>1.0</td>\n",
              "      <td>2.0</td>\n",
              "      <td>NaN</td>\n",
              "      <td>1.0</td>\n",
              "      <td>1.0</td>\n",
              "      <td>NaN</td>\n",
              "    </tr>\n",
              "    <tr>\n",
              "      <th>3</th>\n",
              "      <td>4</td>\n",
              "      <td>The Dark Knight</td>\n",
              "      <td>Academy Awards</td>\n",
              "      <td>2009</td>\n",
              "      <td>NaN</td>\n",
              "      <td>NaN</td>\n",
              "      <td>NaN</td>\n",
              "      <td>NaN</td>\n",
              "      <td>1.0</td>\n",
              "      <td>NaN</td>\n",
              "    </tr>\n",
              "    <tr>\n",
              "      <th>4</th>\n",
              "      <td>5</td>\n",
              "      <td>12 Angry Men</td>\n",
              "      <td>Academy Awards</td>\n",
              "      <td>1958</td>\n",
              "      <td>2.0</td>\n",
              "      <td>NaN</td>\n",
              "      <td>NaN</td>\n",
              "      <td>2.0</td>\n",
              "      <td>NaN</td>\n",
              "      <td>NaN</td>\n",
              "    </tr>\n",
              "    <tr>\n",
              "      <th>...</th>\n",
              "      <td>...</td>\n",
              "      <td>...</td>\n",
              "      <td>...</td>\n",
              "      <td>...</td>\n",
              "      <td>...</td>\n",
              "      <td>...</td>\n",
              "      <td>...</td>\n",
              "      <td>...</td>\n",
              "      <td>...</td>\n",
              "      <td>...</td>\n",
              "    </tr>\n",
              "    <tr>\n",
              "      <th>95</th>\n",
              "      <td>96</td>\n",
              "      <td>Taxi Driver</td>\n",
              "      <td>Academy Awards</td>\n",
              "      <td>1977</td>\n",
              "      <td>2.0</td>\n",
              "      <td>2.0</td>\n",
              "      <td>NaN</td>\n",
              "      <td>NaN</td>\n",
              "      <td>NaN</td>\n",
              "      <td>2.0</td>\n",
              "    </tr>\n",
              "    <tr>\n",
              "      <th>96</th>\n",
              "      <td>97</td>\n",
              "      <td>Das Boot</td>\n",
              "      <td>Academy Awards</td>\n",
              "      <td>1983</td>\n",
              "      <td>NaN</td>\n",
              "      <td>NaN</td>\n",
              "      <td>NaN</td>\n",
              "      <td>2.0</td>\n",
              "      <td>NaN</td>\n",
              "      <td>NaN</td>\n",
              "    </tr>\n",
              "    <tr>\n",
              "      <th>97</th>\n",
              "      <td>98</td>\n",
              "      <td>Star Wars: Episode VI - Return of the Jedi</td>\n",
              "      <td>Academy Awards</td>\n",
              "      <td>1984</td>\n",
              "      <td>NaN</td>\n",
              "      <td>NaN</td>\n",
              "      <td>NaN</td>\n",
              "      <td>NaN</td>\n",
              "      <td>NaN</td>\n",
              "      <td>NaN</td>\n",
              "    </tr>\n",
              "    <tr>\n",
              "      <th>98</th>\n",
              "      <td>99</td>\n",
              "      <td>Scarface</td>\n",
              "      <td>Academy Awards</td>\n",
              "      <td>1984</td>\n",
              "      <td>NaN</td>\n",
              "      <td>NaN</td>\n",
              "      <td>NaN</td>\n",
              "      <td>NaN</td>\n",
              "      <td>NaN</td>\n",
              "      <td>NaN</td>\n",
              "    </tr>\n",
              "    <tr>\n",
              "      <th>99</th>\n",
              "      <td>100</td>\n",
              "      <td>Amadeus</td>\n",
              "      <td>Academy Awards</td>\n",
              "      <td>1985</td>\n",
              "      <td>1.0</td>\n",
              "      <td>1.0</td>\n",
              "      <td>NaN</td>\n",
              "      <td>1.0</td>\n",
              "      <td>NaN</td>\n",
              "      <td>NaN</td>\n",
              "    </tr>\n",
              "  </tbody>\n",
              "</table>\n",
              "<p>100 rows × 10 columns</p>\n",
              "</div>"
            ],
            "text/plain": [
              "     id                              original_title        Festival  Year  \\\n",
              "0     1                    The Shawshank Redemption  Academy Awards  1995   \n",
              "1     2                               The Godfather  Academy Awards  1973   \n",
              "2     3                      The Godfather: Part II  Academy Awards  1975   \n",
              "3     4                             The Dark Knight  Academy Awards  2009   \n",
              "4     5                                12 Angry Men  Academy Awards  1958   \n",
              "..  ...                                         ...             ...   ...   \n",
              "95   96                                 Taxi Driver  Academy Awards  1977   \n",
              "96   97                                    Das Boot  Academy Awards  1983   \n",
              "97   98  Star Wars: Episode VI - Return of the Jedi  Academy Awards  1984   \n",
              "98   99                                    Scarface  Academy Awards  1984   \n",
              "99  100                                     Amadeus  Academy Awards  1985   \n",
              "\n",
              "    Best Picture  Best Actor  Best Actress  Best Director  \\\n",
              "0            2.0         2.0           NaN            NaN   \n",
              "1            1.0         1.0           NaN            2.0   \n",
              "2            1.0         2.0           NaN            1.0   \n",
              "3            NaN         NaN           NaN            NaN   \n",
              "4            2.0         NaN           NaN            2.0   \n",
              "..           ...         ...           ...            ...   \n",
              "95           2.0         2.0           NaN            NaN   \n",
              "96           NaN         NaN           NaN            2.0   \n",
              "97           NaN         NaN           NaN            NaN   \n",
              "98           NaN         NaN           NaN            NaN   \n",
              "99           1.0         1.0           NaN            1.0   \n",
              "\n",
              "    Best Supporting Actor  Best Supporting Actress  \n",
              "0                     NaN                      NaN  \n",
              "1                     2.0                      NaN  \n",
              "2                     1.0                      NaN  \n",
              "3                     1.0                      NaN  \n",
              "4                     NaN                      NaN  \n",
              "..                    ...                      ...  \n",
              "95                    NaN                      2.0  \n",
              "96                    NaN                      NaN  \n",
              "97                    NaN                      NaN  \n",
              "98                    NaN                      NaN  \n",
              "99                    NaN                      NaN  \n",
              "\n",
              "[100 rows x 10 columns]"
            ]
          },
          "execution_count": 121,
          "metadata": {},
          "output_type": "execute_result"
        }
      ],
      "source": [
        "academy_awards.rename(columns={\"Best 1 (picture)\": \"Best Picture\",\n",
        "                               \"Best 2 (actor)\": \"Best Actor\",\n",
        "                               \"Best 3 (actress)\": \"Best Actress\",\n",
        "                               \"Best 4 (director) \": \"Best Director\",\n",
        "                               \"Best 5 (supporting actor)\": \"Best Supporting Actor\",\n",
        "                               \"Best 6 (supporting actress)\": \"Best Supporting Actress\"},\n",
        "                      inplace=True)\n",
        "academy_awards[\"original_title\"] = academy_awards[\"original_title\"].apply(lambda x: titles[x] if(x in titles.keys()) else x)\n",
        "academy_awards"
      ]
    },
    {
      "cell_type": "code",
      "execution_count": 122,
      "metadata": {},
      "outputs": [
        {
          "data": {
            "text/html": [
              "<div>\n",
              "<style scoped>\n",
              "    .dataframe tbody tr th:only-of-type {\n",
              "        vertical-align: middle;\n",
              "    }\n",
              "\n",
              "    .dataframe tbody tr th {\n",
              "        vertical-align: top;\n",
              "    }\n",
              "\n",
              "    .dataframe thead th {\n",
              "        text-align: right;\n",
              "    }\n",
              "</style>\n",
              "<table border=\"1\" class=\"dataframe\">\n",
              "  <thead>\n",
              "    <tr style=\"text-align: right;\">\n",
              "      <th></th>\n",
              "      <th>id</th>\n",
              "      <th>original_title</th>\n",
              "      <th>Festival</th>\n",
              "      <th>Year</th>\n",
              "      <th>Best Picture</th>\n",
              "      <th>Best Actor</th>\n",
              "      <th>Best Actress</th>\n",
              "      <th>Best Director</th>\n",
              "      <th>Best Supporting Actor</th>\n",
              "      <th>Best Supporting Actress</th>\n",
              "    </tr>\n",
              "  </thead>\n",
              "  <tbody>\n",
              "    <tr>\n",
              "      <th>0</th>\n",
              "      <td>1</td>\n",
              "      <td>The Shawshank Redemption</td>\n",
              "      <td>BAFTA</td>\n",
              "      <td>1995</td>\n",
              "      <td>NaN</td>\n",
              "      <td>NaN</td>\n",
              "      <td>NaN</td>\n",
              "      <td>NaN</td>\n",
              "      <td>NaN</td>\n",
              "      <td>NaN</td>\n",
              "    </tr>\n",
              "    <tr>\n",
              "      <th>1</th>\n",
              "      <td>2</td>\n",
              "      <td>The Godfather</td>\n",
              "      <td>BAFTA</td>\n",
              "      <td>1973</td>\n",
              "      <td>NaN</td>\n",
              "      <td>2.0</td>\n",
              "      <td>NaN</td>\n",
              "      <td>NaN</td>\n",
              "      <td>2.0</td>\n",
              "      <td>NaN</td>\n",
              "    </tr>\n",
              "    <tr>\n",
              "      <th>2</th>\n",
              "      <td>3</td>\n",
              "      <td>The Godfather: Part II</td>\n",
              "      <td>BAFTA</td>\n",
              "      <td>1976</td>\n",
              "      <td>NaN</td>\n",
              "      <td>1.0</td>\n",
              "      <td>NaN</td>\n",
              "      <td>NaN</td>\n",
              "      <td>NaN</td>\n",
              "      <td>NaN</td>\n",
              "    </tr>\n",
              "    <tr>\n",
              "      <th>3</th>\n",
              "      <td>4</td>\n",
              "      <td>The Dark Knight</td>\n",
              "      <td>BAFTA</td>\n",
              "      <td>2009</td>\n",
              "      <td>NaN</td>\n",
              "      <td>NaN</td>\n",
              "      <td>NaN</td>\n",
              "      <td>NaN</td>\n",
              "      <td>1.0</td>\n",
              "      <td>NaN</td>\n",
              "    </tr>\n",
              "    <tr>\n",
              "      <th>4</th>\n",
              "      <td>5</td>\n",
              "      <td>12 Angry Men</td>\n",
              "      <td>BAFTA</td>\n",
              "      <td>1958</td>\n",
              "      <td>2.0</td>\n",
              "      <td>1.0</td>\n",
              "      <td>NaN</td>\n",
              "      <td>NaN</td>\n",
              "      <td>NaN</td>\n",
              "      <td>NaN</td>\n",
              "    </tr>\n",
              "    <tr>\n",
              "      <th>...</th>\n",
              "      <td>...</td>\n",
              "      <td>...</td>\n",
              "      <td>...</td>\n",
              "      <td>...</td>\n",
              "      <td>...</td>\n",
              "      <td>...</td>\n",
              "      <td>...</td>\n",
              "      <td>...</td>\n",
              "      <td>...</td>\n",
              "      <td>...</td>\n",
              "    </tr>\n",
              "    <tr>\n",
              "      <th>95</th>\n",
              "      <td>96</td>\n",
              "      <td>Taxi Driver</td>\n",
              "      <td>BAFTA</td>\n",
              "      <td>1977</td>\n",
              "      <td>2.0</td>\n",
              "      <td>2.0</td>\n",
              "      <td>NaN</td>\n",
              "      <td>2.0</td>\n",
              "      <td>NaN</td>\n",
              "      <td>1.0</td>\n",
              "    </tr>\n",
              "    <tr>\n",
              "      <th>96</th>\n",
              "      <td>97</td>\n",
              "      <td>Das Boot</td>\n",
              "      <td>BAFTA</td>\n",
              "      <td>1983</td>\n",
              "      <td>NaN</td>\n",
              "      <td>NaN</td>\n",
              "      <td>NaN</td>\n",
              "      <td>NaN</td>\n",
              "      <td>NaN</td>\n",
              "      <td>NaN</td>\n",
              "    </tr>\n",
              "    <tr>\n",
              "      <th>97</th>\n",
              "      <td>98</td>\n",
              "      <td>Star Wars: Episode VI - Return of the Jedi</td>\n",
              "      <td>BAFTA</td>\n",
              "      <td>1984</td>\n",
              "      <td>NaN</td>\n",
              "      <td>NaN</td>\n",
              "      <td>NaN</td>\n",
              "      <td>NaN</td>\n",
              "      <td>NaN</td>\n",
              "      <td>NaN</td>\n",
              "    </tr>\n",
              "    <tr>\n",
              "      <th>98</th>\n",
              "      <td>99</td>\n",
              "      <td>Scarface</td>\n",
              "      <td>BAFTA</td>\n",
              "      <td>1984</td>\n",
              "      <td>NaN</td>\n",
              "      <td>NaN</td>\n",
              "      <td>NaN</td>\n",
              "      <td>NaN</td>\n",
              "      <td>NaN</td>\n",
              "      <td>NaN</td>\n",
              "    </tr>\n",
              "    <tr>\n",
              "      <th>99</th>\n",
              "      <td>100</td>\n",
              "      <td>Amadeus</td>\n",
              "      <td>BAFTA</td>\n",
              "      <td>1986</td>\n",
              "      <td>2.0</td>\n",
              "      <td>2.0</td>\n",
              "      <td>NaN</td>\n",
              "      <td>NaN</td>\n",
              "      <td>NaN</td>\n",
              "      <td>NaN</td>\n",
              "    </tr>\n",
              "  </tbody>\n",
              "</table>\n",
              "<p>100 rows × 10 columns</p>\n",
              "</div>"
            ],
            "text/plain": [
              "     id                              original_title Festival  Year  \\\n",
              "0     1                    The Shawshank Redemption    BAFTA  1995   \n",
              "1     2                               The Godfather    BAFTA  1973   \n",
              "2     3                      The Godfather: Part II    BAFTA  1976   \n",
              "3     4                             The Dark Knight    BAFTA  2009   \n",
              "4     5                                12 Angry Men    BAFTA  1958   \n",
              "..  ...                                         ...      ...   ...   \n",
              "95   96                                 Taxi Driver    BAFTA  1977   \n",
              "96   97                                    Das Boot    BAFTA  1983   \n",
              "97   98  Star Wars: Episode VI - Return of the Jedi    BAFTA  1984   \n",
              "98   99                                    Scarface    BAFTA  1984   \n",
              "99  100                                     Amadeus    BAFTA  1986   \n",
              "\n",
              "    Best Picture  Best Actor  Best Actress  Best Director  \\\n",
              "0            NaN         NaN           NaN            NaN   \n",
              "1            NaN         2.0           NaN            NaN   \n",
              "2            NaN         1.0           NaN            NaN   \n",
              "3            NaN         NaN           NaN            NaN   \n",
              "4            2.0         1.0           NaN            NaN   \n",
              "..           ...         ...           ...            ...   \n",
              "95           2.0         2.0           NaN            2.0   \n",
              "96           NaN         NaN           NaN            NaN   \n",
              "97           NaN         NaN           NaN            NaN   \n",
              "98           NaN         NaN           NaN            NaN   \n",
              "99           2.0         2.0           NaN            NaN   \n",
              "\n",
              "    Best Supporting Actor  Best Supporting Actress  \n",
              "0                     NaN                      NaN  \n",
              "1                     2.0                      NaN  \n",
              "2                     NaN                      NaN  \n",
              "3                     1.0                      NaN  \n",
              "4                     NaN                      NaN  \n",
              "..                    ...                      ...  \n",
              "95                    NaN                      1.0  \n",
              "96                    NaN                      NaN  \n",
              "97                    NaN                      NaN  \n",
              "98                    NaN                      NaN  \n",
              "99                    NaN                      NaN  \n",
              "\n",
              "[100 rows x 10 columns]"
            ]
          },
          "execution_count": 122,
          "metadata": {},
          "output_type": "execute_result"
        }
      ],
      "source": [
        "bafta.rename(columns={\"Best 1 (picture)\": \"Best Picture\",\n",
        "                               \"Best 2 (actor)\": \"Best Actor\",\n",
        "                               \"Best 3 (actress)\": \"Best Actress\",\n",
        "                               \"Best 4 (director)\": \"Best Director\",\n",
        "                               \"Best 5 (supporting actor)\": \"Best Supporting Actor\",\n",
        "                               \"Best 6 (supporting actress)\": \"Best Supporting Actress\"},\n",
        "                      inplace=True)\n",
        "bafta[\"original_title\"] = bafta[\"original_title\"].apply(lambda x: titles[x] if(x in titles.keys()) else x)\n",
        "bafta"
      ]
    },
    {
      "cell_type": "code",
      "execution_count": 123,
      "metadata": {},
      "outputs": [
        {
          "data": {
            "text/html": [
              "<div>\n",
              "<style scoped>\n",
              "    .dataframe tbody tr th:only-of-type {\n",
              "        vertical-align: middle;\n",
              "    }\n",
              "\n",
              "    .dataframe tbody tr th {\n",
              "        vertical-align: top;\n",
              "    }\n",
              "\n",
              "    .dataframe thead th {\n",
              "        text-align: right;\n",
              "    }\n",
              "</style>\n",
              "<table border=\"1\" class=\"dataframe\">\n",
              "  <thead>\n",
              "    <tr style=\"text-align: right;\">\n",
              "      <th></th>\n",
              "      <th>id</th>\n",
              "      <th>original_title</th>\n",
              "      <th>Festival</th>\n",
              "      <th>Year</th>\n",
              "      <th>Best Picture</th>\n",
              "      <th>Best Actor</th>\n",
              "      <th>Best Actress</th>\n",
              "      <th>Best Director</th>\n",
              "      <th>Best Supporting Actor</th>\n",
              "      <th>Best Supporting Actress</th>\n",
              "    </tr>\n",
              "  </thead>\n",
              "  <tbody>\n",
              "    <tr>\n",
              "      <th>0</th>\n",
              "      <td>1</td>\n",
              "      <td>The Shawshank Redemption</td>\n",
              "      <td>Golden Globes</td>\n",
              "      <td>1995</td>\n",
              "      <td>NaN</td>\n",
              "      <td>1.0</td>\n",
              "      <td>NaN</td>\n",
              "      <td>NaN</td>\n",
              "      <td>NaN</td>\n",
              "      <td>NaN</td>\n",
              "    </tr>\n",
              "    <tr>\n",
              "      <th>1</th>\n",
              "      <td>2</td>\n",
              "      <td>The Godfather</td>\n",
              "      <td>Golden Globes</td>\n",
              "      <td>1973</td>\n",
              "      <td>1.0</td>\n",
              "      <td>1.0</td>\n",
              "      <td>NaN</td>\n",
              "      <td>1.0</td>\n",
              "      <td>2.0</td>\n",
              "      <td>NaN</td>\n",
              "    </tr>\n",
              "    <tr>\n",
              "      <th>2</th>\n",
              "      <td>3</td>\n",
              "      <td>The Godfather: Part II</td>\n",
              "      <td>Golden Globes</td>\n",
              "      <td>1975</td>\n",
              "      <td>2.0</td>\n",
              "      <td>2.0</td>\n",
              "      <td>NaN</td>\n",
              "      <td>2.0</td>\n",
              "      <td>NaN</td>\n",
              "      <td>NaN</td>\n",
              "    </tr>\n",
              "    <tr>\n",
              "      <th>3</th>\n",
              "      <td>4</td>\n",
              "      <td>The Dark Knight</td>\n",
              "      <td>Golden Globes</td>\n",
              "      <td>2009</td>\n",
              "      <td>NaN</td>\n",
              "      <td>1.0</td>\n",
              "      <td>NaN</td>\n",
              "      <td>NaN</td>\n",
              "      <td>NaN</td>\n",
              "      <td>NaN</td>\n",
              "    </tr>\n",
              "    <tr>\n",
              "      <th>4</th>\n",
              "      <td>5</td>\n",
              "      <td>12 Angry Men</td>\n",
              "      <td>Golden Globes</td>\n",
              "      <td>1998</td>\n",
              "      <td>NaN</td>\n",
              "      <td>1.0</td>\n",
              "      <td>NaN</td>\n",
              "      <td>NaN</td>\n",
              "      <td>NaN</td>\n",
              "      <td>NaN</td>\n",
              "    </tr>\n",
              "    <tr>\n",
              "      <th>...</th>\n",
              "      <td>...</td>\n",
              "      <td>...</td>\n",
              "      <td>...</td>\n",
              "      <td>...</td>\n",
              "      <td>...</td>\n",
              "      <td>...</td>\n",
              "      <td>...</td>\n",
              "      <td>...</td>\n",
              "      <td>...</td>\n",
              "      <td>...</td>\n",
              "    </tr>\n",
              "    <tr>\n",
              "      <th>95</th>\n",
              "      <td>96</td>\n",
              "      <td>Taxi Driver</td>\n",
              "      <td>Golden Globes</td>\n",
              "      <td>1977</td>\n",
              "      <td>NaN</td>\n",
              "      <td>1.0</td>\n",
              "      <td>NaN</td>\n",
              "      <td>NaN</td>\n",
              "      <td>NaN</td>\n",
              "      <td>NaN</td>\n",
              "    </tr>\n",
              "    <tr>\n",
              "      <th>96</th>\n",
              "      <td>97</td>\n",
              "      <td>Das Boot</td>\n",
              "      <td>Golden Globes</td>\n",
              "      <td>1982</td>\n",
              "      <td>NaN</td>\n",
              "      <td>NaN</td>\n",
              "      <td>NaN</td>\n",
              "      <td>NaN</td>\n",
              "      <td>NaN</td>\n",
              "      <td>NaN</td>\n",
              "    </tr>\n",
              "    <tr>\n",
              "      <th>97</th>\n",
              "      <td>98</td>\n",
              "      <td>Star Wars: Episode VI - Return of the Jedi</td>\n",
              "      <td>Golden Globes</td>\n",
              "      <td>1984</td>\n",
              "      <td>NaN</td>\n",
              "      <td>NaN</td>\n",
              "      <td>NaN</td>\n",
              "      <td>NaN</td>\n",
              "      <td>NaN</td>\n",
              "      <td>NaN</td>\n",
              "    </tr>\n",
              "    <tr>\n",
              "      <th>98</th>\n",
              "      <td>99</td>\n",
              "      <td>Scarface</td>\n",
              "      <td>Golden Globes</td>\n",
              "      <td>1984</td>\n",
              "      <td>NaN</td>\n",
              "      <td>2.0</td>\n",
              "      <td>NaN</td>\n",
              "      <td>NaN</td>\n",
              "      <td>2.0</td>\n",
              "      <td>NaN</td>\n",
              "    </tr>\n",
              "    <tr>\n",
              "      <th>99</th>\n",
              "      <td>100</td>\n",
              "      <td>Amadeus</td>\n",
              "      <td>Golden Globes</td>\n",
              "      <td>1985</td>\n",
              "      <td>NaN</td>\n",
              "      <td>1.0</td>\n",
              "      <td>NaN</td>\n",
              "      <td>1.0</td>\n",
              "      <td>1.0</td>\n",
              "      <td>NaN</td>\n",
              "    </tr>\n",
              "  </tbody>\n",
              "</table>\n",
              "<p>100 rows × 10 columns</p>\n",
              "</div>"
            ],
            "text/plain": [
              "     id                              original_title       Festival  Year  \\\n",
              "0     1                    The Shawshank Redemption  Golden Globes  1995   \n",
              "1     2                               The Godfather  Golden Globes  1973   \n",
              "2     3                      The Godfather: Part II  Golden Globes  1975   \n",
              "3     4                             The Dark Knight  Golden Globes  2009   \n",
              "4     5                                12 Angry Men  Golden Globes  1998   \n",
              "..  ...                                         ...            ...   ...   \n",
              "95   96                                 Taxi Driver  Golden Globes  1977   \n",
              "96   97                                    Das Boot  Golden Globes  1982   \n",
              "97   98  Star Wars: Episode VI - Return of the Jedi  Golden Globes  1984   \n",
              "98   99                                    Scarface  Golden Globes  1984   \n",
              "99  100                                     Amadeus  Golden Globes  1985   \n",
              "\n",
              "    Best Picture  Best Actor  Best Actress  Best Director  \\\n",
              "0            NaN         1.0           NaN            NaN   \n",
              "1            1.0         1.0           NaN            1.0   \n",
              "2            2.0         2.0           NaN            2.0   \n",
              "3            NaN         1.0           NaN            NaN   \n",
              "4            NaN         1.0           NaN            NaN   \n",
              "..           ...         ...           ...            ...   \n",
              "95           NaN         1.0           NaN            NaN   \n",
              "96           NaN         NaN           NaN            NaN   \n",
              "97           NaN         NaN           NaN            NaN   \n",
              "98           NaN         2.0           NaN            NaN   \n",
              "99           NaN         1.0           NaN            1.0   \n",
              "\n",
              "    Best Supporting Actor  Best Supporting Actress  \n",
              "0                     NaN                      NaN  \n",
              "1                     2.0                      NaN  \n",
              "2                     NaN                      NaN  \n",
              "3                     NaN                      NaN  \n",
              "4                     NaN                      NaN  \n",
              "..                    ...                      ...  \n",
              "95                    NaN                      NaN  \n",
              "96                    NaN                      NaN  \n",
              "97                    NaN                      NaN  \n",
              "98                    2.0                      NaN  \n",
              "99                    1.0                      NaN  \n",
              "\n",
              "[100 rows x 10 columns]"
            ]
          },
          "execution_count": 123,
          "metadata": {},
          "output_type": "execute_result"
        }
      ],
      "source": [
        "golden_globes.rename(columns={\"Best 1 (picture)\": \"Best Picture\",\n",
        "                               \"Best 2 (actor)\": \"Best Actor\",\n",
        "                               \"Best 3 (actress)\": \"Best Actress\",\n",
        "                               \"Best 4 (director)\": \"Best Director\",\n",
        "                               \"Best 5 (supporting actor)\": \"Best Supporting Actor\",\n",
        "                               \"Best 6 (supporting actress)\": \"Best Supporting Actress\"},\n",
        "                      inplace=True)\n",
        "golden_globes[\"original_title\"] = golden_globes[\"original_title\"].apply(lambda x: titles[x] if(x in titles.keys()) else x)\n",
        "golden_globes"
      ]
    },
    {
      "cell_type": "markdown",
      "metadata": {
        "id": "o8qX91LTxhU2"
      },
      "source": [
        "### 2. Adaugati cate doua coloane noi fiecaruia dintre cele trei dataframe-uri de tip festival, astfel:\n"
      ]
    },
    {
      "cell_type": "markdown",
      "metadata": {
        "id": "-Wgv47g2zaMC"
      },
      "source": [
        "* o coloana numita \"Winner\", continand numarul total de premii castigate de un film\n",
        "* o coloana numita \"Nominee\", continand numarul total de nominalizari ale unui film\n",
        "\n",
        "  *Atentie!* In acest calcul, vom considera ca un premiu castigat implica si o nominalizare."
      ]
    },
    {
      "cell_type": "code",
      "execution_count": 124,
      "metadata": {
        "id": "wd8TeySLzblt"
      },
      "outputs": [],
      "source": [
        "import math\n",
        "\n",
        "def compute_winner(df_line):\n",
        "  sum = 0\n",
        "\n",
        "  if not math.isnan(df_line[\"Best Picture\"]) and df_line[\"Best Picture\"] == 1:\n",
        "    sum += 1\n",
        "  if not math.isnan(df_line[\"Best Actor\"]) and df_line[\"Best Actor\"] == 1:\n",
        "    sum += 1\n",
        "  if not math.isnan(df_line[\"Best Actress\"]) and df_line[\"Best Actress\"] == 1:\n",
        "    sum += 1\n",
        "  if not math.isnan(df_line[\"Best Director\"]) and df_line[\"Best Director\"] == 1:\n",
        "    sum += 1\n",
        "  if not math.isnan(df_line[\"Best Supporting Actor\"]) and df_line[\"Best Supporting Actor\"] == 1:\n",
        "    sum += 1\n",
        "  if not math.isnan(df_line[\"Best Supporting Actress\"]) and df_line[\"Best Supporting Actress\"] == 1:\n",
        "    sum += 1\n",
        "\n",
        "  return sum\n",
        "\n",
        "def compute_nominee(df_line):\n",
        "  sum = 0\n",
        "\n",
        "  if not math.isnan(df_line[\"Best Picture\"]):\n",
        "    sum += 1\n",
        "  if not math.isnan(df_line[\"Best Actor\"]):\n",
        "    sum += 1\n",
        "  if not math.isnan(df_line[\"Best Actress\"]):\n",
        "    sum += 1\n",
        "  if not math.isnan(df_line[\"Best Director\"]):\n",
        "    sum += 1\n",
        "  if not math.isnan(df_line[\"Best Supporting Actor\"]):\n",
        "    sum += 1\n",
        "  if not math.isnan(df_line[\"Best Supporting Actress\"]):\n",
        "    sum += 1\n",
        "\n",
        "  return sum"
      ]
    },
    {
      "cell_type": "code",
      "execution_count": 125,
      "metadata": {},
      "outputs": [],
      "source": [
        "def add_columns(df_line):\n",
        "  df_line[\"Winner\"] = compute_winner(df_line)\n",
        "  df_line[\"Nominee\"] = compute_nominee(df_line)\n",
        "  return df_line"
      ]
    },
    {
      "cell_type": "code",
      "execution_count": 126,
      "metadata": {},
      "outputs": [
        {
          "data": {
            "text/html": [
              "<div>\n",
              "<style scoped>\n",
              "    .dataframe tbody tr th:only-of-type {\n",
              "        vertical-align: middle;\n",
              "    }\n",
              "\n",
              "    .dataframe tbody tr th {\n",
              "        vertical-align: top;\n",
              "    }\n",
              "\n",
              "    .dataframe thead th {\n",
              "        text-align: right;\n",
              "    }\n",
              "</style>\n",
              "<table border=\"1\" class=\"dataframe\">\n",
              "  <thead>\n",
              "    <tr style=\"text-align: right;\">\n",
              "      <th></th>\n",
              "      <th>id</th>\n",
              "      <th>original_title</th>\n",
              "      <th>Festival</th>\n",
              "      <th>Year</th>\n",
              "      <th>Best Picture</th>\n",
              "      <th>Best Actor</th>\n",
              "      <th>Best Actress</th>\n",
              "      <th>Best Director</th>\n",
              "      <th>Best Supporting Actor</th>\n",
              "      <th>Best Supporting Actress</th>\n",
              "      <th>Winner</th>\n",
              "      <th>Nominee</th>\n",
              "    </tr>\n",
              "  </thead>\n",
              "  <tbody>\n",
              "    <tr>\n",
              "      <th>0</th>\n",
              "      <td>1</td>\n",
              "      <td>The Shawshank Redemption</td>\n",
              "      <td>Academy Awards</td>\n",
              "      <td>1995</td>\n",
              "      <td>2.0</td>\n",
              "      <td>2.0</td>\n",
              "      <td>NaN</td>\n",
              "      <td>NaN</td>\n",
              "      <td>NaN</td>\n",
              "      <td>NaN</td>\n",
              "      <td>0</td>\n",
              "      <td>2</td>\n",
              "    </tr>\n",
              "    <tr>\n",
              "      <th>1</th>\n",
              "      <td>2</td>\n",
              "      <td>The Godfather</td>\n",
              "      <td>Academy Awards</td>\n",
              "      <td>1973</td>\n",
              "      <td>1.0</td>\n",
              "      <td>1.0</td>\n",
              "      <td>NaN</td>\n",
              "      <td>2.0</td>\n",
              "      <td>2.0</td>\n",
              "      <td>NaN</td>\n",
              "      <td>2</td>\n",
              "      <td>4</td>\n",
              "    </tr>\n",
              "    <tr>\n",
              "      <th>2</th>\n",
              "      <td>3</td>\n",
              "      <td>The Godfather: Part II</td>\n",
              "      <td>Academy Awards</td>\n",
              "      <td>1975</td>\n",
              "      <td>1.0</td>\n",
              "      <td>2.0</td>\n",
              "      <td>NaN</td>\n",
              "      <td>1.0</td>\n",
              "      <td>1.0</td>\n",
              "      <td>NaN</td>\n",
              "      <td>3</td>\n",
              "      <td>4</td>\n",
              "    </tr>\n",
              "    <tr>\n",
              "      <th>3</th>\n",
              "      <td>4</td>\n",
              "      <td>The Dark Knight</td>\n",
              "      <td>Academy Awards</td>\n",
              "      <td>2009</td>\n",
              "      <td>NaN</td>\n",
              "      <td>NaN</td>\n",
              "      <td>NaN</td>\n",
              "      <td>NaN</td>\n",
              "      <td>1.0</td>\n",
              "      <td>NaN</td>\n",
              "      <td>1</td>\n",
              "      <td>1</td>\n",
              "    </tr>\n",
              "    <tr>\n",
              "      <th>4</th>\n",
              "      <td>5</td>\n",
              "      <td>12 Angry Men</td>\n",
              "      <td>Academy Awards</td>\n",
              "      <td>1958</td>\n",
              "      <td>2.0</td>\n",
              "      <td>NaN</td>\n",
              "      <td>NaN</td>\n",
              "      <td>2.0</td>\n",
              "      <td>NaN</td>\n",
              "      <td>NaN</td>\n",
              "      <td>0</td>\n",
              "      <td>2</td>\n",
              "    </tr>\n",
              "    <tr>\n",
              "      <th>...</th>\n",
              "      <td>...</td>\n",
              "      <td>...</td>\n",
              "      <td>...</td>\n",
              "      <td>...</td>\n",
              "      <td>...</td>\n",
              "      <td>...</td>\n",
              "      <td>...</td>\n",
              "      <td>...</td>\n",
              "      <td>...</td>\n",
              "      <td>...</td>\n",
              "      <td>...</td>\n",
              "      <td>...</td>\n",
              "    </tr>\n",
              "    <tr>\n",
              "      <th>95</th>\n",
              "      <td>96</td>\n",
              "      <td>Taxi Driver</td>\n",
              "      <td>Academy Awards</td>\n",
              "      <td>1977</td>\n",
              "      <td>2.0</td>\n",
              "      <td>2.0</td>\n",
              "      <td>NaN</td>\n",
              "      <td>NaN</td>\n",
              "      <td>NaN</td>\n",
              "      <td>2.0</td>\n",
              "      <td>0</td>\n",
              "      <td>3</td>\n",
              "    </tr>\n",
              "    <tr>\n",
              "      <th>96</th>\n",
              "      <td>97</td>\n",
              "      <td>Das Boot</td>\n",
              "      <td>Academy Awards</td>\n",
              "      <td>1983</td>\n",
              "      <td>NaN</td>\n",
              "      <td>NaN</td>\n",
              "      <td>NaN</td>\n",
              "      <td>2.0</td>\n",
              "      <td>NaN</td>\n",
              "      <td>NaN</td>\n",
              "      <td>0</td>\n",
              "      <td>1</td>\n",
              "    </tr>\n",
              "    <tr>\n",
              "      <th>97</th>\n",
              "      <td>98</td>\n",
              "      <td>Star Wars: Episode VI - Return of the Jedi</td>\n",
              "      <td>Academy Awards</td>\n",
              "      <td>1984</td>\n",
              "      <td>NaN</td>\n",
              "      <td>NaN</td>\n",
              "      <td>NaN</td>\n",
              "      <td>NaN</td>\n",
              "      <td>NaN</td>\n",
              "      <td>NaN</td>\n",
              "      <td>0</td>\n",
              "      <td>0</td>\n",
              "    </tr>\n",
              "    <tr>\n",
              "      <th>98</th>\n",
              "      <td>99</td>\n",
              "      <td>Scarface</td>\n",
              "      <td>Academy Awards</td>\n",
              "      <td>1984</td>\n",
              "      <td>NaN</td>\n",
              "      <td>NaN</td>\n",
              "      <td>NaN</td>\n",
              "      <td>NaN</td>\n",
              "      <td>NaN</td>\n",
              "      <td>NaN</td>\n",
              "      <td>0</td>\n",
              "      <td>0</td>\n",
              "    </tr>\n",
              "    <tr>\n",
              "      <th>99</th>\n",
              "      <td>100</td>\n",
              "      <td>Amadeus</td>\n",
              "      <td>Academy Awards</td>\n",
              "      <td>1985</td>\n",
              "      <td>1.0</td>\n",
              "      <td>1.0</td>\n",
              "      <td>NaN</td>\n",
              "      <td>1.0</td>\n",
              "      <td>NaN</td>\n",
              "      <td>NaN</td>\n",
              "      <td>3</td>\n",
              "      <td>3</td>\n",
              "    </tr>\n",
              "  </tbody>\n",
              "</table>\n",
              "<p>100 rows × 12 columns</p>\n",
              "</div>"
            ],
            "text/plain": [
              "     id                              original_title        Festival  Year  \\\n",
              "0     1                    The Shawshank Redemption  Academy Awards  1995   \n",
              "1     2                               The Godfather  Academy Awards  1973   \n",
              "2     3                      The Godfather: Part II  Academy Awards  1975   \n",
              "3     4                             The Dark Knight  Academy Awards  2009   \n",
              "4     5                                12 Angry Men  Academy Awards  1958   \n",
              "..  ...                                         ...             ...   ...   \n",
              "95   96                                 Taxi Driver  Academy Awards  1977   \n",
              "96   97                                    Das Boot  Academy Awards  1983   \n",
              "97   98  Star Wars: Episode VI - Return of the Jedi  Academy Awards  1984   \n",
              "98   99                                    Scarface  Academy Awards  1984   \n",
              "99  100                                     Amadeus  Academy Awards  1985   \n",
              "\n",
              "    Best Picture  Best Actor  Best Actress  Best Director  \\\n",
              "0            2.0         2.0           NaN            NaN   \n",
              "1            1.0         1.0           NaN            2.0   \n",
              "2            1.0         2.0           NaN            1.0   \n",
              "3            NaN         NaN           NaN            NaN   \n",
              "4            2.0         NaN           NaN            2.0   \n",
              "..           ...         ...           ...            ...   \n",
              "95           2.0         2.0           NaN            NaN   \n",
              "96           NaN         NaN           NaN            2.0   \n",
              "97           NaN         NaN           NaN            NaN   \n",
              "98           NaN         NaN           NaN            NaN   \n",
              "99           1.0         1.0           NaN            1.0   \n",
              "\n",
              "    Best Supporting Actor  Best Supporting Actress  Winner  Nominee  \n",
              "0                     NaN                      NaN       0        2  \n",
              "1                     2.0                      NaN       2        4  \n",
              "2                     1.0                      NaN       3        4  \n",
              "3                     1.0                      NaN       1        1  \n",
              "4                     NaN                      NaN       0        2  \n",
              "..                    ...                      ...     ...      ...  \n",
              "95                    NaN                      2.0       0        3  \n",
              "96                    NaN                      NaN       0        1  \n",
              "97                    NaN                      NaN       0        0  \n",
              "98                    NaN                      NaN       0        0  \n",
              "99                    NaN                      NaN       3        3  \n",
              "\n",
              "[100 rows x 12 columns]"
            ]
          },
          "execution_count": 126,
          "metadata": {},
          "output_type": "execute_result"
        }
      ],
      "source": [
        "academy_awards = academy_awards.apply(add_columns, 1)\n",
        "academy_awards"
      ]
    },
    {
      "cell_type": "code",
      "execution_count": 127,
      "metadata": {},
      "outputs": [
        {
          "data": {
            "text/html": [
              "<div>\n",
              "<style scoped>\n",
              "    .dataframe tbody tr th:only-of-type {\n",
              "        vertical-align: middle;\n",
              "    }\n",
              "\n",
              "    .dataframe tbody tr th {\n",
              "        vertical-align: top;\n",
              "    }\n",
              "\n",
              "    .dataframe thead th {\n",
              "        text-align: right;\n",
              "    }\n",
              "</style>\n",
              "<table border=\"1\" class=\"dataframe\">\n",
              "  <thead>\n",
              "    <tr style=\"text-align: right;\">\n",
              "      <th></th>\n",
              "      <th>id</th>\n",
              "      <th>original_title</th>\n",
              "      <th>Festival</th>\n",
              "      <th>Year</th>\n",
              "      <th>Best Picture</th>\n",
              "      <th>Best Actor</th>\n",
              "      <th>Best Actress</th>\n",
              "      <th>Best Director</th>\n",
              "      <th>Best Supporting Actor</th>\n",
              "      <th>Best Supporting Actress</th>\n",
              "      <th>Winner</th>\n",
              "      <th>Nominee</th>\n",
              "    </tr>\n",
              "  </thead>\n",
              "  <tbody>\n",
              "    <tr>\n",
              "      <th>0</th>\n",
              "      <td>1</td>\n",
              "      <td>The Shawshank Redemption</td>\n",
              "      <td>BAFTA</td>\n",
              "      <td>1995</td>\n",
              "      <td>NaN</td>\n",
              "      <td>NaN</td>\n",
              "      <td>NaN</td>\n",
              "      <td>NaN</td>\n",
              "      <td>NaN</td>\n",
              "      <td>NaN</td>\n",
              "      <td>0</td>\n",
              "      <td>0</td>\n",
              "    </tr>\n",
              "    <tr>\n",
              "      <th>1</th>\n",
              "      <td>2</td>\n",
              "      <td>The Godfather</td>\n",
              "      <td>BAFTA</td>\n",
              "      <td>1973</td>\n",
              "      <td>NaN</td>\n",
              "      <td>2.0</td>\n",
              "      <td>NaN</td>\n",
              "      <td>NaN</td>\n",
              "      <td>2.0</td>\n",
              "      <td>NaN</td>\n",
              "      <td>0</td>\n",
              "      <td>2</td>\n",
              "    </tr>\n",
              "    <tr>\n",
              "      <th>2</th>\n",
              "      <td>3</td>\n",
              "      <td>The Godfather: Part II</td>\n",
              "      <td>BAFTA</td>\n",
              "      <td>1976</td>\n",
              "      <td>NaN</td>\n",
              "      <td>1.0</td>\n",
              "      <td>NaN</td>\n",
              "      <td>NaN</td>\n",
              "      <td>NaN</td>\n",
              "      <td>NaN</td>\n",
              "      <td>1</td>\n",
              "      <td>1</td>\n",
              "    </tr>\n",
              "    <tr>\n",
              "      <th>3</th>\n",
              "      <td>4</td>\n",
              "      <td>The Dark Knight</td>\n",
              "      <td>BAFTA</td>\n",
              "      <td>2009</td>\n",
              "      <td>NaN</td>\n",
              "      <td>NaN</td>\n",
              "      <td>NaN</td>\n",
              "      <td>NaN</td>\n",
              "      <td>1.0</td>\n",
              "      <td>NaN</td>\n",
              "      <td>1</td>\n",
              "      <td>1</td>\n",
              "    </tr>\n",
              "    <tr>\n",
              "      <th>4</th>\n",
              "      <td>5</td>\n",
              "      <td>12 Angry Men</td>\n",
              "      <td>BAFTA</td>\n",
              "      <td>1958</td>\n",
              "      <td>2.0</td>\n",
              "      <td>1.0</td>\n",
              "      <td>NaN</td>\n",
              "      <td>NaN</td>\n",
              "      <td>NaN</td>\n",
              "      <td>NaN</td>\n",
              "      <td>1</td>\n",
              "      <td>2</td>\n",
              "    </tr>\n",
              "    <tr>\n",
              "      <th>...</th>\n",
              "      <td>...</td>\n",
              "      <td>...</td>\n",
              "      <td>...</td>\n",
              "      <td>...</td>\n",
              "      <td>...</td>\n",
              "      <td>...</td>\n",
              "      <td>...</td>\n",
              "      <td>...</td>\n",
              "      <td>...</td>\n",
              "      <td>...</td>\n",
              "      <td>...</td>\n",
              "      <td>...</td>\n",
              "    </tr>\n",
              "    <tr>\n",
              "      <th>95</th>\n",
              "      <td>96</td>\n",
              "      <td>Taxi Driver</td>\n",
              "      <td>BAFTA</td>\n",
              "      <td>1977</td>\n",
              "      <td>2.0</td>\n",
              "      <td>2.0</td>\n",
              "      <td>NaN</td>\n",
              "      <td>2.0</td>\n",
              "      <td>NaN</td>\n",
              "      <td>1.0</td>\n",
              "      <td>1</td>\n",
              "      <td>4</td>\n",
              "    </tr>\n",
              "    <tr>\n",
              "      <th>96</th>\n",
              "      <td>97</td>\n",
              "      <td>Das Boot</td>\n",
              "      <td>BAFTA</td>\n",
              "      <td>1983</td>\n",
              "      <td>NaN</td>\n",
              "      <td>NaN</td>\n",
              "      <td>NaN</td>\n",
              "      <td>NaN</td>\n",
              "      <td>NaN</td>\n",
              "      <td>NaN</td>\n",
              "      <td>0</td>\n",
              "      <td>0</td>\n",
              "    </tr>\n",
              "    <tr>\n",
              "      <th>97</th>\n",
              "      <td>98</td>\n",
              "      <td>Star Wars: Episode VI - Return of the Jedi</td>\n",
              "      <td>BAFTA</td>\n",
              "      <td>1984</td>\n",
              "      <td>NaN</td>\n",
              "      <td>NaN</td>\n",
              "      <td>NaN</td>\n",
              "      <td>NaN</td>\n",
              "      <td>NaN</td>\n",
              "      <td>NaN</td>\n",
              "      <td>0</td>\n",
              "      <td>0</td>\n",
              "    </tr>\n",
              "    <tr>\n",
              "      <th>98</th>\n",
              "      <td>99</td>\n",
              "      <td>Scarface</td>\n",
              "      <td>BAFTA</td>\n",
              "      <td>1984</td>\n",
              "      <td>NaN</td>\n",
              "      <td>NaN</td>\n",
              "      <td>NaN</td>\n",
              "      <td>NaN</td>\n",
              "      <td>NaN</td>\n",
              "      <td>NaN</td>\n",
              "      <td>0</td>\n",
              "      <td>0</td>\n",
              "    </tr>\n",
              "    <tr>\n",
              "      <th>99</th>\n",
              "      <td>100</td>\n",
              "      <td>Amadeus</td>\n",
              "      <td>BAFTA</td>\n",
              "      <td>1986</td>\n",
              "      <td>2.0</td>\n",
              "      <td>2.0</td>\n",
              "      <td>NaN</td>\n",
              "      <td>NaN</td>\n",
              "      <td>NaN</td>\n",
              "      <td>NaN</td>\n",
              "      <td>0</td>\n",
              "      <td>2</td>\n",
              "    </tr>\n",
              "  </tbody>\n",
              "</table>\n",
              "<p>100 rows × 12 columns</p>\n",
              "</div>"
            ],
            "text/plain": [
              "     id                              original_title Festival  Year  \\\n",
              "0     1                    The Shawshank Redemption    BAFTA  1995   \n",
              "1     2                               The Godfather    BAFTA  1973   \n",
              "2     3                      The Godfather: Part II    BAFTA  1976   \n",
              "3     4                             The Dark Knight    BAFTA  2009   \n",
              "4     5                                12 Angry Men    BAFTA  1958   \n",
              "..  ...                                         ...      ...   ...   \n",
              "95   96                                 Taxi Driver    BAFTA  1977   \n",
              "96   97                                    Das Boot    BAFTA  1983   \n",
              "97   98  Star Wars: Episode VI - Return of the Jedi    BAFTA  1984   \n",
              "98   99                                    Scarface    BAFTA  1984   \n",
              "99  100                                     Amadeus    BAFTA  1986   \n",
              "\n",
              "    Best Picture  Best Actor  Best Actress  Best Director  \\\n",
              "0            NaN         NaN           NaN            NaN   \n",
              "1            NaN         2.0           NaN            NaN   \n",
              "2            NaN         1.0           NaN            NaN   \n",
              "3            NaN         NaN           NaN            NaN   \n",
              "4            2.0         1.0           NaN            NaN   \n",
              "..           ...         ...           ...            ...   \n",
              "95           2.0         2.0           NaN            2.0   \n",
              "96           NaN         NaN           NaN            NaN   \n",
              "97           NaN         NaN           NaN            NaN   \n",
              "98           NaN         NaN           NaN            NaN   \n",
              "99           2.0         2.0           NaN            NaN   \n",
              "\n",
              "    Best Supporting Actor  Best Supporting Actress  Winner  Nominee  \n",
              "0                     NaN                      NaN       0        0  \n",
              "1                     2.0                      NaN       0        2  \n",
              "2                     NaN                      NaN       1        1  \n",
              "3                     1.0                      NaN       1        1  \n",
              "4                     NaN                      NaN       1        2  \n",
              "..                    ...                      ...     ...      ...  \n",
              "95                    NaN                      1.0       1        4  \n",
              "96                    NaN                      NaN       0        0  \n",
              "97                    NaN                      NaN       0        0  \n",
              "98                    NaN                      NaN       0        0  \n",
              "99                    NaN                      NaN       0        2  \n",
              "\n",
              "[100 rows x 12 columns]"
            ]
          },
          "execution_count": 127,
          "metadata": {},
          "output_type": "execute_result"
        }
      ],
      "source": [
        "bafta = bafta.apply(add_columns, 1)\n",
        "bafta"
      ]
    },
    {
      "cell_type": "code",
      "execution_count": 128,
      "metadata": {},
      "outputs": [
        {
          "data": {
            "text/html": [
              "<div>\n",
              "<style scoped>\n",
              "    .dataframe tbody tr th:only-of-type {\n",
              "        vertical-align: middle;\n",
              "    }\n",
              "\n",
              "    .dataframe tbody tr th {\n",
              "        vertical-align: top;\n",
              "    }\n",
              "\n",
              "    .dataframe thead th {\n",
              "        text-align: right;\n",
              "    }\n",
              "</style>\n",
              "<table border=\"1\" class=\"dataframe\">\n",
              "  <thead>\n",
              "    <tr style=\"text-align: right;\">\n",
              "      <th></th>\n",
              "      <th>id</th>\n",
              "      <th>original_title</th>\n",
              "      <th>Festival</th>\n",
              "      <th>Year</th>\n",
              "      <th>Best Picture</th>\n",
              "      <th>Best Actor</th>\n",
              "      <th>Best Actress</th>\n",
              "      <th>Best Director</th>\n",
              "      <th>Best Supporting Actor</th>\n",
              "      <th>Best Supporting Actress</th>\n",
              "      <th>Winner</th>\n",
              "      <th>Nominee</th>\n",
              "    </tr>\n",
              "  </thead>\n",
              "  <tbody>\n",
              "    <tr>\n",
              "      <th>0</th>\n",
              "      <td>1</td>\n",
              "      <td>The Shawshank Redemption</td>\n",
              "      <td>Golden Globes</td>\n",
              "      <td>1995</td>\n",
              "      <td>NaN</td>\n",
              "      <td>1.0</td>\n",
              "      <td>NaN</td>\n",
              "      <td>NaN</td>\n",
              "      <td>NaN</td>\n",
              "      <td>NaN</td>\n",
              "      <td>1</td>\n",
              "      <td>1</td>\n",
              "    </tr>\n",
              "    <tr>\n",
              "      <th>1</th>\n",
              "      <td>2</td>\n",
              "      <td>The Godfather</td>\n",
              "      <td>Golden Globes</td>\n",
              "      <td>1973</td>\n",
              "      <td>1.0</td>\n",
              "      <td>1.0</td>\n",
              "      <td>NaN</td>\n",
              "      <td>1.0</td>\n",
              "      <td>2.0</td>\n",
              "      <td>NaN</td>\n",
              "      <td>3</td>\n",
              "      <td>4</td>\n",
              "    </tr>\n",
              "    <tr>\n",
              "      <th>2</th>\n",
              "      <td>3</td>\n",
              "      <td>The Godfather: Part II</td>\n",
              "      <td>Golden Globes</td>\n",
              "      <td>1975</td>\n",
              "      <td>2.0</td>\n",
              "      <td>2.0</td>\n",
              "      <td>NaN</td>\n",
              "      <td>2.0</td>\n",
              "      <td>NaN</td>\n",
              "      <td>NaN</td>\n",
              "      <td>0</td>\n",
              "      <td>3</td>\n",
              "    </tr>\n",
              "    <tr>\n",
              "      <th>3</th>\n",
              "      <td>4</td>\n",
              "      <td>The Dark Knight</td>\n",
              "      <td>Golden Globes</td>\n",
              "      <td>2009</td>\n",
              "      <td>NaN</td>\n",
              "      <td>1.0</td>\n",
              "      <td>NaN</td>\n",
              "      <td>NaN</td>\n",
              "      <td>NaN</td>\n",
              "      <td>NaN</td>\n",
              "      <td>1</td>\n",
              "      <td>1</td>\n",
              "    </tr>\n",
              "    <tr>\n",
              "      <th>4</th>\n",
              "      <td>5</td>\n",
              "      <td>12 Angry Men</td>\n",
              "      <td>Golden Globes</td>\n",
              "      <td>1998</td>\n",
              "      <td>NaN</td>\n",
              "      <td>1.0</td>\n",
              "      <td>NaN</td>\n",
              "      <td>NaN</td>\n",
              "      <td>NaN</td>\n",
              "      <td>NaN</td>\n",
              "      <td>1</td>\n",
              "      <td>1</td>\n",
              "    </tr>\n",
              "    <tr>\n",
              "      <th>...</th>\n",
              "      <td>...</td>\n",
              "      <td>...</td>\n",
              "      <td>...</td>\n",
              "      <td>...</td>\n",
              "      <td>...</td>\n",
              "      <td>...</td>\n",
              "      <td>...</td>\n",
              "      <td>...</td>\n",
              "      <td>...</td>\n",
              "      <td>...</td>\n",
              "      <td>...</td>\n",
              "      <td>...</td>\n",
              "    </tr>\n",
              "    <tr>\n",
              "      <th>95</th>\n",
              "      <td>96</td>\n",
              "      <td>Taxi Driver</td>\n",
              "      <td>Golden Globes</td>\n",
              "      <td>1977</td>\n",
              "      <td>NaN</td>\n",
              "      <td>1.0</td>\n",
              "      <td>NaN</td>\n",
              "      <td>NaN</td>\n",
              "      <td>NaN</td>\n",
              "      <td>NaN</td>\n",
              "      <td>1</td>\n",
              "      <td>1</td>\n",
              "    </tr>\n",
              "    <tr>\n",
              "      <th>96</th>\n",
              "      <td>97</td>\n",
              "      <td>Das Boot</td>\n",
              "      <td>Golden Globes</td>\n",
              "      <td>1982</td>\n",
              "      <td>NaN</td>\n",
              "      <td>NaN</td>\n",
              "      <td>NaN</td>\n",
              "      <td>NaN</td>\n",
              "      <td>NaN</td>\n",
              "      <td>NaN</td>\n",
              "      <td>0</td>\n",
              "      <td>0</td>\n",
              "    </tr>\n",
              "    <tr>\n",
              "      <th>97</th>\n",
              "      <td>98</td>\n",
              "      <td>Star Wars: Episode VI - Return of the Jedi</td>\n",
              "      <td>Golden Globes</td>\n",
              "      <td>1984</td>\n",
              "      <td>NaN</td>\n",
              "      <td>NaN</td>\n",
              "      <td>NaN</td>\n",
              "      <td>NaN</td>\n",
              "      <td>NaN</td>\n",
              "      <td>NaN</td>\n",
              "      <td>0</td>\n",
              "      <td>0</td>\n",
              "    </tr>\n",
              "    <tr>\n",
              "      <th>98</th>\n",
              "      <td>99</td>\n",
              "      <td>Scarface</td>\n",
              "      <td>Golden Globes</td>\n",
              "      <td>1984</td>\n",
              "      <td>NaN</td>\n",
              "      <td>2.0</td>\n",
              "      <td>NaN</td>\n",
              "      <td>NaN</td>\n",
              "      <td>2.0</td>\n",
              "      <td>NaN</td>\n",
              "      <td>0</td>\n",
              "      <td>2</td>\n",
              "    </tr>\n",
              "    <tr>\n",
              "      <th>99</th>\n",
              "      <td>100</td>\n",
              "      <td>Amadeus</td>\n",
              "      <td>Golden Globes</td>\n",
              "      <td>1985</td>\n",
              "      <td>NaN</td>\n",
              "      <td>1.0</td>\n",
              "      <td>NaN</td>\n",
              "      <td>1.0</td>\n",
              "      <td>1.0</td>\n",
              "      <td>NaN</td>\n",
              "      <td>3</td>\n",
              "      <td>3</td>\n",
              "    </tr>\n",
              "  </tbody>\n",
              "</table>\n",
              "<p>100 rows × 12 columns</p>\n",
              "</div>"
            ],
            "text/plain": [
              "     id                              original_title       Festival  Year  \\\n",
              "0     1                    The Shawshank Redemption  Golden Globes  1995   \n",
              "1     2                               The Godfather  Golden Globes  1973   \n",
              "2     3                      The Godfather: Part II  Golden Globes  1975   \n",
              "3     4                             The Dark Knight  Golden Globes  2009   \n",
              "4     5                                12 Angry Men  Golden Globes  1998   \n",
              "..  ...                                         ...            ...   ...   \n",
              "95   96                                 Taxi Driver  Golden Globes  1977   \n",
              "96   97                                    Das Boot  Golden Globes  1982   \n",
              "97   98  Star Wars: Episode VI - Return of the Jedi  Golden Globes  1984   \n",
              "98   99                                    Scarface  Golden Globes  1984   \n",
              "99  100                                     Amadeus  Golden Globes  1985   \n",
              "\n",
              "    Best Picture  Best Actor  Best Actress  Best Director  \\\n",
              "0            NaN         1.0           NaN            NaN   \n",
              "1            1.0         1.0           NaN            1.0   \n",
              "2            2.0         2.0           NaN            2.0   \n",
              "3            NaN         1.0           NaN            NaN   \n",
              "4            NaN         1.0           NaN            NaN   \n",
              "..           ...         ...           ...            ...   \n",
              "95           NaN         1.0           NaN            NaN   \n",
              "96           NaN         NaN           NaN            NaN   \n",
              "97           NaN         NaN           NaN            NaN   \n",
              "98           NaN         2.0           NaN            NaN   \n",
              "99           NaN         1.0           NaN            1.0   \n",
              "\n",
              "    Best Supporting Actor  Best Supporting Actress  Winner  Nominee  \n",
              "0                     NaN                      NaN       1        1  \n",
              "1                     2.0                      NaN       3        4  \n",
              "2                     NaN                      NaN       0        3  \n",
              "3                     NaN                      NaN       1        1  \n",
              "4                     NaN                      NaN       1        1  \n",
              "..                    ...                      ...     ...      ...  \n",
              "95                    NaN                      NaN       1        1  \n",
              "96                    NaN                      NaN       0        0  \n",
              "97                    NaN                      NaN       0        0  \n",
              "98                    2.0                      NaN       0        2  \n",
              "99                    1.0                      NaN       3        3  \n",
              "\n",
              "[100 rows x 12 columns]"
            ]
          },
          "execution_count": 128,
          "metadata": {},
          "output_type": "execute_result"
        }
      ],
      "source": [
        "golden_globes = golden_globes.apply(add_columns, 1)\n",
        "golden_globes"
      ]
    },
    {
      "cell_type": "markdown",
      "metadata": {
        "id": "Puxmwbghx97f"
      },
      "source": [
        "Acum avem o evidenta generala a castigurilor si nominalizarilor.\n",
        "\n",
        "* Eliminati coloanele corespunzatoare celor sase categorii din fiecare dataframe si pastrati doar valorile calculate anterior."
      ]
    },
    {
      "cell_type": "code",
      "execution_count": 129,
      "metadata": {
        "id": "jDK3gERS1KkG"
      },
      "outputs": [
        {
          "data": {
            "text/html": [
              "<div>\n",
              "<style scoped>\n",
              "    .dataframe tbody tr th:only-of-type {\n",
              "        vertical-align: middle;\n",
              "    }\n",
              "\n",
              "    .dataframe tbody tr th {\n",
              "        vertical-align: top;\n",
              "    }\n",
              "\n",
              "    .dataframe thead th {\n",
              "        text-align: right;\n",
              "    }\n",
              "</style>\n",
              "<table border=\"1\" class=\"dataframe\">\n",
              "  <thead>\n",
              "    <tr style=\"text-align: right;\">\n",
              "      <th></th>\n",
              "      <th>id</th>\n",
              "      <th>original_title</th>\n",
              "      <th>Festival</th>\n",
              "      <th>Year</th>\n",
              "      <th>Winner</th>\n",
              "      <th>Nominee</th>\n",
              "    </tr>\n",
              "  </thead>\n",
              "  <tbody>\n",
              "    <tr>\n",
              "      <th>0</th>\n",
              "      <td>1</td>\n",
              "      <td>The Shawshank Redemption</td>\n",
              "      <td>Academy Awards</td>\n",
              "      <td>1995</td>\n",
              "      <td>0</td>\n",
              "      <td>2</td>\n",
              "    </tr>\n",
              "    <tr>\n",
              "      <th>1</th>\n",
              "      <td>2</td>\n",
              "      <td>The Godfather</td>\n",
              "      <td>Academy Awards</td>\n",
              "      <td>1973</td>\n",
              "      <td>2</td>\n",
              "      <td>4</td>\n",
              "    </tr>\n",
              "    <tr>\n",
              "      <th>2</th>\n",
              "      <td>3</td>\n",
              "      <td>The Godfather: Part II</td>\n",
              "      <td>Academy Awards</td>\n",
              "      <td>1975</td>\n",
              "      <td>3</td>\n",
              "      <td>4</td>\n",
              "    </tr>\n",
              "    <tr>\n",
              "      <th>3</th>\n",
              "      <td>4</td>\n",
              "      <td>The Dark Knight</td>\n",
              "      <td>Academy Awards</td>\n",
              "      <td>2009</td>\n",
              "      <td>1</td>\n",
              "      <td>1</td>\n",
              "    </tr>\n",
              "    <tr>\n",
              "      <th>4</th>\n",
              "      <td>5</td>\n",
              "      <td>12 Angry Men</td>\n",
              "      <td>Academy Awards</td>\n",
              "      <td>1958</td>\n",
              "      <td>0</td>\n",
              "      <td>2</td>\n",
              "    </tr>\n",
              "    <tr>\n",
              "      <th>...</th>\n",
              "      <td>...</td>\n",
              "      <td>...</td>\n",
              "      <td>...</td>\n",
              "      <td>...</td>\n",
              "      <td>...</td>\n",
              "      <td>...</td>\n",
              "    </tr>\n",
              "    <tr>\n",
              "      <th>95</th>\n",
              "      <td>96</td>\n",
              "      <td>Taxi Driver</td>\n",
              "      <td>Academy Awards</td>\n",
              "      <td>1977</td>\n",
              "      <td>0</td>\n",
              "      <td>3</td>\n",
              "    </tr>\n",
              "    <tr>\n",
              "      <th>96</th>\n",
              "      <td>97</td>\n",
              "      <td>Das Boot</td>\n",
              "      <td>Academy Awards</td>\n",
              "      <td>1983</td>\n",
              "      <td>0</td>\n",
              "      <td>1</td>\n",
              "    </tr>\n",
              "    <tr>\n",
              "      <th>97</th>\n",
              "      <td>98</td>\n",
              "      <td>Star Wars: Episode VI - Return of the Jedi</td>\n",
              "      <td>Academy Awards</td>\n",
              "      <td>1984</td>\n",
              "      <td>0</td>\n",
              "      <td>0</td>\n",
              "    </tr>\n",
              "    <tr>\n",
              "      <th>98</th>\n",
              "      <td>99</td>\n",
              "      <td>Scarface</td>\n",
              "      <td>Academy Awards</td>\n",
              "      <td>1984</td>\n",
              "      <td>0</td>\n",
              "      <td>0</td>\n",
              "    </tr>\n",
              "    <tr>\n",
              "      <th>99</th>\n",
              "      <td>100</td>\n",
              "      <td>Amadeus</td>\n",
              "      <td>Academy Awards</td>\n",
              "      <td>1985</td>\n",
              "      <td>3</td>\n",
              "      <td>3</td>\n",
              "    </tr>\n",
              "  </tbody>\n",
              "</table>\n",
              "<p>100 rows × 6 columns</p>\n",
              "</div>"
            ],
            "text/plain": [
              "     id                              original_title        Festival  Year  \\\n",
              "0     1                    The Shawshank Redemption  Academy Awards  1995   \n",
              "1     2                               The Godfather  Academy Awards  1973   \n",
              "2     3                      The Godfather: Part II  Academy Awards  1975   \n",
              "3     4                             The Dark Knight  Academy Awards  2009   \n",
              "4     5                                12 Angry Men  Academy Awards  1958   \n",
              "..  ...                                         ...             ...   ...   \n",
              "95   96                                 Taxi Driver  Academy Awards  1977   \n",
              "96   97                                    Das Boot  Academy Awards  1983   \n",
              "97   98  Star Wars: Episode VI - Return of the Jedi  Academy Awards  1984   \n",
              "98   99                                    Scarface  Academy Awards  1984   \n",
              "99  100                                     Amadeus  Academy Awards  1985   \n",
              "\n",
              "    Winner  Nominee  \n",
              "0        0        2  \n",
              "1        2        4  \n",
              "2        3        4  \n",
              "3        1        1  \n",
              "4        0        2  \n",
              "..     ...      ...  \n",
              "95       0        3  \n",
              "96       0        1  \n",
              "97       0        0  \n",
              "98       0        0  \n",
              "99       3        3  \n",
              "\n",
              "[100 rows x 6 columns]"
            ]
          },
          "execution_count": 129,
          "metadata": {},
          "output_type": "execute_result"
        }
      ],
      "source": [
        "academy_awards = academy_awards[[\"id\", \"original_title\", \"Festival\", \"Year\", \"Winner\", \"Nominee\"]]\n",
        "academy_awards"
      ]
    },
    {
      "cell_type": "code",
      "execution_count": 130,
      "metadata": {},
      "outputs": [
        {
          "data": {
            "text/html": [
              "<div>\n",
              "<style scoped>\n",
              "    .dataframe tbody tr th:only-of-type {\n",
              "        vertical-align: middle;\n",
              "    }\n",
              "\n",
              "    .dataframe tbody tr th {\n",
              "        vertical-align: top;\n",
              "    }\n",
              "\n",
              "    .dataframe thead th {\n",
              "        text-align: right;\n",
              "    }\n",
              "</style>\n",
              "<table border=\"1\" class=\"dataframe\">\n",
              "  <thead>\n",
              "    <tr style=\"text-align: right;\">\n",
              "      <th></th>\n",
              "      <th>id</th>\n",
              "      <th>original_title</th>\n",
              "      <th>Festival</th>\n",
              "      <th>Year</th>\n",
              "      <th>Winner</th>\n",
              "      <th>Nominee</th>\n",
              "    </tr>\n",
              "  </thead>\n",
              "  <tbody>\n",
              "    <tr>\n",
              "      <th>0</th>\n",
              "      <td>1</td>\n",
              "      <td>The Shawshank Redemption</td>\n",
              "      <td>BAFTA</td>\n",
              "      <td>1995</td>\n",
              "      <td>0</td>\n",
              "      <td>0</td>\n",
              "    </tr>\n",
              "    <tr>\n",
              "      <th>1</th>\n",
              "      <td>2</td>\n",
              "      <td>The Godfather</td>\n",
              "      <td>BAFTA</td>\n",
              "      <td>1973</td>\n",
              "      <td>0</td>\n",
              "      <td>2</td>\n",
              "    </tr>\n",
              "    <tr>\n",
              "      <th>2</th>\n",
              "      <td>3</td>\n",
              "      <td>The Godfather: Part II</td>\n",
              "      <td>BAFTA</td>\n",
              "      <td>1976</td>\n",
              "      <td>1</td>\n",
              "      <td>1</td>\n",
              "    </tr>\n",
              "    <tr>\n",
              "      <th>3</th>\n",
              "      <td>4</td>\n",
              "      <td>The Dark Knight</td>\n",
              "      <td>BAFTA</td>\n",
              "      <td>2009</td>\n",
              "      <td>1</td>\n",
              "      <td>1</td>\n",
              "    </tr>\n",
              "    <tr>\n",
              "      <th>4</th>\n",
              "      <td>5</td>\n",
              "      <td>12 Angry Men</td>\n",
              "      <td>BAFTA</td>\n",
              "      <td>1958</td>\n",
              "      <td>1</td>\n",
              "      <td>2</td>\n",
              "    </tr>\n",
              "    <tr>\n",
              "      <th>...</th>\n",
              "      <td>...</td>\n",
              "      <td>...</td>\n",
              "      <td>...</td>\n",
              "      <td>...</td>\n",
              "      <td>...</td>\n",
              "      <td>...</td>\n",
              "    </tr>\n",
              "    <tr>\n",
              "      <th>95</th>\n",
              "      <td>96</td>\n",
              "      <td>Taxi Driver</td>\n",
              "      <td>BAFTA</td>\n",
              "      <td>1977</td>\n",
              "      <td>1</td>\n",
              "      <td>4</td>\n",
              "    </tr>\n",
              "    <tr>\n",
              "      <th>96</th>\n",
              "      <td>97</td>\n",
              "      <td>Das Boot</td>\n",
              "      <td>BAFTA</td>\n",
              "      <td>1983</td>\n",
              "      <td>0</td>\n",
              "      <td>0</td>\n",
              "    </tr>\n",
              "    <tr>\n",
              "      <th>97</th>\n",
              "      <td>98</td>\n",
              "      <td>Star Wars: Episode VI - Return of the Jedi</td>\n",
              "      <td>BAFTA</td>\n",
              "      <td>1984</td>\n",
              "      <td>0</td>\n",
              "      <td>0</td>\n",
              "    </tr>\n",
              "    <tr>\n",
              "      <th>98</th>\n",
              "      <td>99</td>\n",
              "      <td>Scarface</td>\n",
              "      <td>BAFTA</td>\n",
              "      <td>1984</td>\n",
              "      <td>0</td>\n",
              "      <td>0</td>\n",
              "    </tr>\n",
              "    <tr>\n",
              "      <th>99</th>\n",
              "      <td>100</td>\n",
              "      <td>Amadeus</td>\n",
              "      <td>BAFTA</td>\n",
              "      <td>1986</td>\n",
              "      <td>0</td>\n",
              "      <td>2</td>\n",
              "    </tr>\n",
              "  </tbody>\n",
              "</table>\n",
              "<p>100 rows × 6 columns</p>\n",
              "</div>"
            ],
            "text/plain": [
              "     id                              original_title Festival  Year  Winner  \\\n",
              "0     1                    The Shawshank Redemption    BAFTA  1995       0   \n",
              "1     2                               The Godfather    BAFTA  1973       0   \n",
              "2     3                      The Godfather: Part II    BAFTA  1976       1   \n",
              "3     4                             The Dark Knight    BAFTA  2009       1   \n",
              "4     5                                12 Angry Men    BAFTA  1958       1   \n",
              "..  ...                                         ...      ...   ...     ...   \n",
              "95   96                                 Taxi Driver    BAFTA  1977       1   \n",
              "96   97                                    Das Boot    BAFTA  1983       0   \n",
              "97   98  Star Wars: Episode VI - Return of the Jedi    BAFTA  1984       0   \n",
              "98   99                                    Scarface    BAFTA  1984       0   \n",
              "99  100                                     Amadeus    BAFTA  1986       0   \n",
              "\n",
              "    Nominee  \n",
              "0         0  \n",
              "1         2  \n",
              "2         1  \n",
              "3         1  \n",
              "4         2  \n",
              "..      ...  \n",
              "95        4  \n",
              "96        0  \n",
              "97        0  \n",
              "98        0  \n",
              "99        2  \n",
              "\n",
              "[100 rows x 6 columns]"
            ]
          },
          "execution_count": 130,
          "metadata": {},
          "output_type": "execute_result"
        }
      ],
      "source": [
        "bafta = bafta[[\"id\", \"original_title\", \"Festival\", \"Year\", \"Winner\", \"Nominee\"]]\n",
        "bafta"
      ]
    },
    {
      "cell_type": "code",
      "execution_count": 131,
      "metadata": {},
      "outputs": [
        {
          "data": {
            "text/html": [
              "<div>\n",
              "<style scoped>\n",
              "    .dataframe tbody tr th:only-of-type {\n",
              "        vertical-align: middle;\n",
              "    }\n",
              "\n",
              "    .dataframe tbody tr th {\n",
              "        vertical-align: top;\n",
              "    }\n",
              "\n",
              "    .dataframe thead th {\n",
              "        text-align: right;\n",
              "    }\n",
              "</style>\n",
              "<table border=\"1\" class=\"dataframe\">\n",
              "  <thead>\n",
              "    <tr style=\"text-align: right;\">\n",
              "      <th></th>\n",
              "      <th>id</th>\n",
              "      <th>original_title</th>\n",
              "      <th>Festival</th>\n",
              "      <th>Year</th>\n",
              "      <th>Winner</th>\n",
              "      <th>Nominee</th>\n",
              "    </tr>\n",
              "  </thead>\n",
              "  <tbody>\n",
              "    <tr>\n",
              "      <th>0</th>\n",
              "      <td>1</td>\n",
              "      <td>The Shawshank Redemption</td>\n",
              "      <td>Golden Globes</td>\n",
              "      <td>1995</td>\n",
              "      <td>1</td>\n",
              "      <td>1</td>\n",
              "    </tr>\n",
              "    <tr>\n",
              "      <th>1</th>\n",
              "      <td>2</td>\n",
              "      <td>The Godfather</td>\n",
              "      <td>Golden Globes</td>\n",
              "      <td>1973</td>\n",
              "      <td>3</td>\n",
              "      <td>4</td>\n",
              "    </tr>\n",
              "    <tr>\n",
              "      <th>2</th>\n",
              "      <td>3</td>\n",
              "      <td>The Godfather: Part II</td>\n",
              "      <td>Golden Globes</td>\n",
              "      <td>1975</td>\n",
              "      <td>0</td>\n",
              "      <td>3</td>\n",
              "    </tr>\n",
              "    <tr>\n",
              "      <th>3</th>\n",
              "      <td>4</td>\n",
              "      <td>The Dark Knight</td>\n",
              "      <td>Golden Globes</td>\n",
              "      <td>2009</td>\n",
              "      <td>1</td>\n",
              "      <td>1</td>\n",
              "    </tr>\n",
              "    <tr>\n",
              "      <th>4</th>\n",
              "      <td>5</td>\n",
              "      <td>12 Angry Men</td>\n",
              "      <td>Golden Globes</td>\n",
              "      <td>1998</td>\n",
              "      <td>1</td>\n",
              "      <td>1</td>\n",
              "    </tr>\n",
              "    <tr>\n",
              "      <th>...</th>\n",
              "      <td>...</td>\n",
              "      <td>...</td>\n",
              "      <td>...</td>\n",
              "      <td>...</td>\n",
              "      <td>...</td>\n",
              "      <td>...</td>\n",
              "    </tr>\n",
              "    <tr>\n",
              "      <th>95</th>\n",
              "      <td>96</td>\n",
              "      <td>Taxi Driver</td>\n",
              "      <td>Golden Globes</td>\n",
              "      <td>1977</td>\n",
              "      <td>1</td>\n",
              "      <td>1</td>\n",
              "    </tr>\n",
              "    <tr>\n",
              "      <th>96</th>\n",
              "      <td>97</td>\n",
              "      <td>Das Boot</td>\n",
              "      <td>Golden Globes</td>\n",
              "      <td>1982</td>\n",
              "      <td>0</td>\n",
              "      <td>0</td>\n",
              "    </tr>\n",
              "    <tr>\n",
              "      <th>97</th>\n",
              "      <td>98</td>\n",
              "      <td>Star Wars: Episode VI - Return of the Jedi</td>\n",
              "      <td>Golden Globes</td>\n",
              "      <td>1984</td>\n",
              "      <td>0</td>\n",
              "      <td>0</td>\n",
              "    </tr>\n",
              "    <tr>\n",
              "      <th>98</th>\n",
              "      <td>99</td>\n",
              "      <td>Scarface</td>\n",
              "      <td>Golden Globes</td>\n",
              "      <td>1984</td>\n",
              "      <td>0</td>\n",
              "      <td>2</td>\n",
              "    </tr>\n",
              "    <tr>\n",
              "      <th>99</th>\n",
              "      <td>100</td>\n",
              "      <td>Amadeus</td>\n",
              "      <td>Golden Globes</td>\n",
              "      <td>1985</td>\n",
              "      <td>3</td>\n",
              "      <td>3</td>\n",
              "    </tr>\n",
              "  </tbody>\n",
              "</table>\n",
              "<p>100 rows × 6 columns</p>\n",
              "</div>"
            ],
            "text/plain": [
              "     id                              original_title       Festival  Year  \\\n",
              "0     1                    The Shawshank Redemption  Golden Globes  1995   \n",
              "1     2                               The Godfather  Golden Globes  1973   \n",
              "2     3                      The Godfather: Part II  Golden Globes  1975   \n",
              "3     4                             The Dark Knight  Golden Globes  2009   \n",
              "4     5                                12 Angry Men  Golden Globes  1998   \n",
              "..  ...                                         ...            ...   ...   \n",
              "95   96                                 Taxi Driver  Golden Globes  1977   \n",
              "96   97                                    Das Boot  Golden Globes  1982   \n",
              "97   98  Star Wars: Episode VI - Return of the Jedi  Golden Globes  1984   \n",
              "98   99                                    Scarface  Golden Globes  1984   \n",
              "99  100                                     Amadeus  Golden Globes  1985   \n",
              "\n",
              "    Winner  Nominee  \n",
              "0        1        1  \n",
              "1        3        4  \n",
              "2        0        3  \n",
              "3        1        1  \n",
              "4        1        1  \n",
              "..     ...      ...  \n",
              "95       1        1  \n",
              "96       0        0  \n",
              "97       0        0  \n",
              "98       0        2  \n",
              "99       3        3  \n",
              "\n",
              "[100 rows x 6 columns]"
            ]
          },
          "execution_count": 131,
          "metadata": {},
          "output_type": "execute_result"
        }
      ],
      "source": [
        "golden_globes = golden_globes[[\"id\", \"original_title\", \"Festival\", \"Year\", \"Winner\", \"Nominee\"]]\n",
        "golden_globes"
      ]
    },
    {
      "cell_type": "markdown",
      "metadata": {
        "id": "5uzP2nu02zd_"
      },
      "source": [
        "### 3. Extrageti din fiecare festival filmul care a castigat cele mai multe premii. Creati un nou dataframe care sa contina aceste trei filme."
      ]
    },
    {
      "cell_type": "code",
      "execution_count": 132,
      "metadata": {
        "id": "BUDJqQoa3WYa"
      },
      "outputs": [
        {
          "name": "stdout",
          "output_type": "stream",
          "text": [
            "   id                   original_title        Festival  Year  Winner  Nominee\n",
            "0  16  One Flew Over the Cuckoo's Nest  Academy Awards  1976       4        5\n",
            "1  24         The Silence of the Lambs  Academy Awards  1992       4        4\n",
            "2  16  One Flew Over the Cuckoo's Nest           BAFTA  1977       5        5\n",
            "3  16  One Flew Over the Cuckoo's Nest   Golden Globes  1976       4        4\n",
            "\n",
            "   id                   original_title        Festival  Year  Winner  Nominee\n",
            "0  16  One Flew Over the Cuckoo's Nest  Academy Awards  1976       4        5\n",
            "1  24         The Silence of the Lambs  Academy Awards  1992       4        4\n"
          ]
        }
      ],
      "source": [
        "max_winner = np.max(academy_awards[\"Winner\"])\n",
        "academy_award_movie = academy_awards[academy_awards[\"Winner\"] == max_winner]\n",
        "\n",
        "max_winner = np.max(bafta[\"Winner\"])\n",
        "bafta_movie = bafta[bafta[\"Winner\"] == max_winner]\n",
        "\n",
        "max_winner = np.max(golden_globes[\"Winner\"])\n",
        "golden_globes_movie = golden_globes[golden_globes[\"Winner\"] == max_winner]\n",
        "\n",
        "winner_movies = pd.DataFrame(academy_award_movie)\n",
        "winner_movies = winner_movies.append(bafta_movie, ignore_index=True)\n",
        "winner_movies = winner_movies.append(golden_globes_movie, ignore_index=True)\n",
        "print(winner_movies)\n",
        "\n",
        "# If we want to delete the duplicates\n",
        "winner_movies = winner_movies.drop_duplicates(subset=['id', 'original_title'])\n",
        "print()\n",
        "print(winner_movies)"
      ]
    },
    {
      "cell_type": "markdown",
      "metadata": {
        "id": "HP7qzKVz5Wsp"
      },
      "source": [
        "### 4. Care este filmul cu cele mai multe nominalizari la toate cele 3 festivaluri?"
      ]
    },
    {
      "cell_type": "markdown",
      "metadata": {
        "id": "1IhMEy7n53Bk"
      },
      "source": [
        "*Hint: concat(), set_index().*"
      ]
    },
    {
      "cell_type": "code",
      "execution_count": 134,
      "metadata": {
        "id": "V21gG-Nn57Ea"
      },
      "outputs": [
        {
          "name": "stdout",
          "output_type": "stream",
          "text": [
            "   Nominee  id                   original_title\n",
            "0       14   7                     Pulp Fiction\n",
            "1       14  16  One Flew Over the Cuckoo's Nest\n"
          ]
        }
      ],
      "source": [
        "nominee_movies = pd.DataFrame(academy_awards)\n",
        "nominee_movies = pd.concat([nominee_movies[['id', 'Nominee', 'original_title']], bafta[\"Nominee\"], golden_globes[\"Nominee\"]], axis=1)\n",
        "nominee_movies = nominee_movies.groupby(nominee_movies.columns, axis=1).sum()\n",
        "\n",
        "max_nominee = np.max(nominee_movies['Nominee'])\n",
        "\n",
        "nominee_movies_res = nominee_movies[nominee_movies['Nominee'] == max_nominee]\n",
        "nominee_movies_res = nominee_movies_res.reset_index(drop=True)\n",
        "print(nominee_movies_res)"
      ]
    },
    {
      "cell_type": "markdown",
      "metadata": {
        "id": "Dketv5Se6YSA"
      },
      "source": [
        "### 5. Ce proportie din filmele din top 100 IMDB nu au fost nominalizate la nici macar un festival?"
      ]
    },
    {
      "cell_type": "code",
      "execution_count": 136,
      "metadata": {
        "id": "iuO0xCmc6i_f"
      },
      "outputs": [
        {
          "name": "stdout",
          "output_type": "stream",
          "text": [
            "41.0%\n"
          ]
        }
      ],
      "source": [
        "nominee_movies_zero = nominee_movies[nominee_movies['Nominee'] == 0]\n",
        "no_unnominee = nominee_movies_zero.shape\n",
        "\n",
        "no_nominee = nominee_movies.shape\n",
        "\n",
        "print(str(no_unnominee[0] * 100 / no_nominee[0]) + \"%\")"
      ]
    },
    {
      "cell_type": "markdown",
      "metadata": {
        "id": "OuVPgnWc6tY5"
      },
      "source": [
        "### 6. Returnati filmele care: au o nota mai mare strict decat 8.5 pe IMDB, sunt regizate de unul dintre regizorii [\"Quentin Tarantino\", \"David Fincher\", \"Stanley Kubrik\", \"Christopher Nolan\"] si sunt mai recente de 1989."
      ]
    },
    {
      "cell_type": "markdown",
      "metadata": {
        "id": "G0WgJ6577Gan"
      },
      "source": [
        "*Hint: boolean mask.*"
      ]
    },
    {
      "cell_type": "code",
      "execution_count": 138,
      "metadata": {
        "id": "3SPSGs2f9mEo"
      },
      "outputs": [
        {
          "name": "stdout",
          "output_type": "stream",
          "text": [
            "     original_title  avg_vote           director  year\n",
            "3   The Dark Knight       9.0  Christopher Nolan  2008\n",
            "11       Fight Club       8.8      David Fincher  1999\n",
            "12        Inception       8.8  Christopher Nolan  2010\n",
            "24            Se7en       8.6      David Fincher  1995\n",
            "30     Interstellar       8.6  Christopher Nolan  2014\n"
          ]
        }
      ],
      "source": [
        "movies = pd.read_csv(\"datasets/movies.csv\")\n",
        "movies = movies[(movies['avg_vote'] > 8.5)]\n",
        "movies = movies[(movies['year'] > 1989)]\n",
        "movies = movies[(movies['director'] == \"Quentin Tantino\") |\n",
        "                (movies['director'] == \"David Fincher\") |\n",
        "                (movies['director'] == \"Stanley Kubrik\") |\n",
        "                (movies['director'] == \"Christopher Nolan\")]\n",
        "\n",
        "print(movies[['original_title', 'avg_vote', 'director', 'year']])"
      ]
    },
    {
      "cell_type": "markdown",
      "metadata": {
        "id": "S_rykUVSEQLP"
      },
      "source": [
        "### 7. Calculati deviatia standard a rating-ului fiecarui film fata de nota medie a filmelor din acelasi gen.\n",
        "\n"
      ]
    },
    {
      "cell_type": "markdown",
      "metadata": {
        "id": "pvk3qh0KEmC2"
      },
      "source": [
        "Rezultatul poate fi fie o noua coloana, fie un Series."
      ]
    },
    {
      "cell_type": "code",
      "execution_count": 140,
      "metadata": {
        "id": "IYLzVyz-FAKP"
      },
      "outputs": [
        {
          "name": "stdout",
          "output_type": "stream",
          "text": [
            "0     0.700000\n",
            "1     0.500000\n",
            "2     0.300000\n",
            "3     0.250000\n",
            "4     0.200000\n",
            "        ...   \n",
            "95    0.400000\n",
            "96    0.000000\n",
            "97    0.233333\n",
            "98    0.400000\n",
            "99    0.300000\n",
            "Length: 100, dtype: float64\n"
          ]
        }
      ],
      "source": [
        "def add_avg_genre_vote(group):\n",
        "  group['avg_genre_vote'] = np.average(group['avg_vote'])\n",
        "  return group\n",
        "\n",
        "movies = pd.read_csv(\"datasets/movies.csv\")\n",
        "\n",
        "movies_avg = movies.groupby('genre').apply(add_avg_genre_vote)\n",
        "\n",
        "standard_deviation = movies_avg['avg_vote'] - movies_avg['avg_genre_vote']\n",
        "standard_deviation = np.abs(standard_deviation)\n",
        "print(standard_deviation)"
      ]
    },
    {
      "cell_type": "markdown",
      "metadata": {
        "id": "Um7LHD4EFBsn"
      },
      "source": [
        "### 8. Filtrati dataframe-ul movies, astfel incat sa contina doar filmele cu media rating-ului genului mai mare decat 8.65."
      ]
    },
    {
      "cell_type": "code",
      "execution_count": 141,
      "metadata": {
        "id": "qJlMXqVNFfGT"
      },
      "outputs": [
        {
          "name": "stdout",
          "output_type": "stream",
          "text": [
            "   imdb_title_id               original_title  year                    genre  \\\n",
            "1      tt0068646                The Godfather  1972             Crime, Drama   \n",
            "2      tt0071562       The Godfather: Part II  1974             Crime, Drama   \n",
            "3      tt0468569              The Dark Knight  2008     Action, Crime, Drama   \n",
            "4      tt0050083                 12 Angry Men  1957             Crime, Drama   \n",
            "6      tt0110912                 Pulp Fiction  1994             Crime, Drama   \n",
            "9      tt0109830                 Forrest Gump  1994           Drama, Romance   \n",
            "13     tt5813916                       Dag II  2016       Action, Drama, War   \n",
            "17     tt0099685                   Goodfellas  1990  Biography, Crime, Drama   \n",
            "29     tt0317248               Cidade de Deus  2002             Crime, Drama   \n",
            "42     tt0110413                         Léon  1994     Action, Crime, Drama   \n",
            "62     tt0087843  Once Upon a Time in America  1984             Crime, Drama   \n",
            "95     tt0075314                  Taxi Driver  1976             Crime, Drama   \n",
            "98     tt0086250                     Scarface  1983             Crime, Drama   \n",
            "\n",
            "    duration                        director  \\\n",
            "1        175            Francis Ford Coppola   \n",
            "2        202            Francis Ford Coppola   \n",
            "3        152               Christopher Nolan   \n",
            "4         96                    Sidney Lumet   \n",
            "6        154               Quentin Tarantino   \n",
            "9        142                 Robert Zemeckis   \n",
            "13       135                    Alper Caglar   \n",
            "17       146                 Martin Scorsese   \n",
            "29       130  Fernando Meirelles, Kátia Lund   \n",
            "42       110                      Luc Besson   \n",
            "62       229                    Sergio Leone   \n",
            "95       114                 Martin Scorsese   \n",
            "98       170                  Brian De Palma   \n",
            "\n",
            "                                writer      production_company  \\\n",
            "1     Mario Puzo, Francis Ford Coppola      Paramount Pictures   \n",
            "2     Francis Ford Coppola, Mario Puzo      Paramount Pictures   \n",
            "3    Jonathan Nolan, Christopher Nolan            Warner Bros.   \n",
            "4         Reginald Rose, Reginald Rose  Orion-Nova Productions   \n",
            "6       Quentin Tarantino, Roger Avary                 Miramax   \n",
            "9             Winston Groom, Eric Roth      Paramount Pictures   \n",
            "13                        Alper Caglar                  3leven   \n",
            "17  Nicholas Pileggi, Nicholas Pileggi            Warner Bros.   \n",
            "29       Paulo Lins, Bráulio Mantovani               O2 Filmes   \n",
            "42                          Luc Besson                 Gaumont   \n",
            "62      Harry Grey, Leonardo Benvenuti        The Ladd Company   \n",
            "95                       Paul Schrader       Columbia Pictures   \n",
            "98                        Oliver Stone      Universal Pictures   \n",
            "\n",
            "                                               actors  \\\n",
            "1   Marlon Brando, Al Pacino, James Caan, Richard ...   \n",
            "2   Al Pacino, Robert Duvall, Diane Keaton, Robert...   \n",
            "3   Christian Bale, Heath Ledger, Aaron Eckhart, M...   \n",
            "4   Martin Balsam, John Fiedler, Lee J. Cobb, E.G....   \n",
            "6   Tim Roth, Amanda Plummer, Laura Lovelace, John...   \n",
            "9   Tom Hanks, Rebecca Williams, Sally Field, Mich...   \n",
            "13  Caglar Ertugrul, Ufuk Bayraktar, Ahu Türkpençe...   \n",
            "17  Robert De Niro, Ray Liotta, Joe Pesci, Lorrain...   \n",
            "29  Alexandre Rodrigues, Leandro Firmino, Phellipe...   \n",
            "42  Jean Reno, Gary Oldman, Natalie Portman, Danny...   \n",
            "62  Robert De Niro, James Woods, Elizabeth McGover...   \n",
            "95  Diahnne Abbott, Frank Adu, Victor Argo, Gino A...   \n",
            "98  Al Pacino, Steven Bauer, Michelle Pfeiffer, Ma...   \n",
            "\n",
            "                                          description  avg_vote    votes  \\\n",
            "1   The aging patriarch of an organized crime dyna...       9.2  1572674   \n",
            "2   The early life and career of Vito Corleone in ...       9.0  1098714   \n",
            "3   When the menace known as the Joker wreaks havo...       9.0  2241615   \n",
            "4   A jury holdout attempts to prevent a miscarria...       8.9   668473   \n",
            "6   The lives of two mob hitmen, a boxer, a gangst...       8.9  1780147   \n",
            "9   The presidencies of Kennedy and Johnson, the e...       8.8  1755490   \n",
            "13  In a desolate war zone where screams of the in...       8.8   103949   \n",
            "17                                       The story of       8.7   991505   \n",
            "29  In the slums of Rio, two kids' paths diverge a...       8.6   685856   \n",
            "42  Mathilda, a 12-year-old girl, is reluctantly t...       8.5  1007598   \n",
            "62  A former Prohibition-era Jewish gangster retur...       8.4   302317   \n",
            "95  A mentally unstable veteran works as a nightti...       8.3   703264   \n",
            "98  In 1980 Miami, a determined Cuban immigrant ta...       8.3   721343   \n",
            "\n",
            "    avg_genre_vote  \n",
            "1             8.70  \n",
            "2             8.70  \n",
            "3             8.75  \n",
            "4             8.70  \n",
            "6             8.70  \n",
            "9             8.80  \n",
            "13            8.80  \n",
            "17            8.70  \n",
            "29            8.70  \n",
            "42            8.75  \n",
            "62            8.70  \n",
            "95            8.70  \n",
            "98            8.70  \n"
          ]
        }
      ],
      "source": [
        "movies_avg = movies_avg[movies_avg['avg_genre_vote'] > 8.65]\n",
        "\n",
        "print(movies_avg)"
      ]
    },
    {
      "cell_type": "markdown",
      "metadata": {
        "id": "EqnvA5_pGTkW"
      },
      "source": [
        "### 9. Extrageti deceniul cu cea mai mare medie a rating-ului filmelor."
      ]
    },
    {
      "cell_type": "markdown",
      "metadata": {
        "id": "v2Lqq4oJGrjS"
      },
      "source": [
        "*Hint: apply, groupby*"
      ]
    },
    {
      "cell_type": "code",
      "execution_count": 142,
      "metadata": {
        "id": "0bdTJdC_G67r"
      },
      "outputs": [
        {
          "name": "stdout",
          "output_type": "stream",
          "text": [
            "First year of the decade: 2020\n"
          ]
        }
      ],
      "source": [
        "def add_avg_decade_vote(group):\n",
        "  group['avg_decade_vote'] = np.average(group['avg_vote'])\n",
        "  return group\n",
        "\n",
        "movies['decade'] = movies['year'] // 10\n",
        "movies = movies.groupby('decade').apply(add_avg_decade_vote)\n",
        "movies = movies[movies['avg_decade_vote'] == np.max(movies['avg_decade_vote'])]\n",
        "print(\"First year of the decade: \" + str(movies['decade'].values[0]) + '0')"
      ]
    },
    {
      "cell_type": "markdown",
      "metadata": {
        "id": "rQz01DRzGyH_"
      },
      "source": [
        "### 10. Care pereche actor-regizor are cele mai multe colaborari?"
      ]
    },
    {
      "cell_type": "code",
      "execution_count": 146,
      "metadata": {
        "id": "bcTX4eNwHHLp"
      },
      "outputs": [
        {
          "name": "stdout",
          "output_type": "stream",
          "text": [
            "   imdb_title_id original_title  year                  genre  duration  \\\n",
            "79     tt0012349        The Kid  1921  Comedy, Drama, Family        68   \n",
            "\n",
            "           director           writer           production_company  \\\n",
            "79  Charles Chaplin  Charles Chaplin  Charles Chaplin Productions   \n",
            "\n",
            "                                               actors  \\\n",
            "79  Carl Miller, Edna Purviance, Jackie Coogan, Ch...   \n",
            "\n",
            "                                          description  avg_vote   votes  \n",
            "79  The Tramp cares for an abandoned child, but ev...       8.3  109038  \n",
            "   imdb_title_id original_title  year                  genre  duration  \\\n",
            "79     tt0012349        The Kid  1921  Comedy, Drama, Family        68   \n",
            "\n",
            "           director           writer           production_company  \\\n",
            "79  Charles Chaplin  Charles Chaplin  Charles Chaplin Productions   \n",
            "\n",
            "                                               actors  \\\n",
            "79  Carl Miller, Edna Purviance, Jackie Coogan, Ch...   \n",
            "\n",
            "                                          description  avg_vote   votes  \n",
            "79  The Tramp cares for an abandoned child, but ev...       8.3  109038  \n"
          ]
        },
        {
          "ename": "AttributeError",
          "evalue": "'Series' object has no attribute 'split'",
          "output_type": "error",
          "traceback": [
            "\u001b[1;31m---------------------------------------------------------------------------\u001b[0m",
            "\u001b[1;31mAttributeError\u001b[0m                            Traceback (most recent call last)",
            "\u001b[1;32m<ipython-input-146-fae2c3fd92e4>\u001b[0m in \u001b[0;36m<module>\u001b[1;34m\u001b[0m\n\u001b[0;32m     23\u001b[0m \u001b[1;33m\u001b[0m\u001b[0m\n\u001b[0;32m     24\u001b[0m \u001b[0mmovies\u001b[0m \u001b[1;33m=\u001b[0m \u001b[0mpd\u001b[0m\u001b[1;33m.\u001b[0m\u001b[0mread_csv\u001b[0m\u001b[1;33m(\u001b[0m\u001b[1;34m\"datasets/movies.csv\"\u001b[0m\u001b[1;33m)\u001b[0m\u001b[1;33m\u001b[0m\u001b[1;33m\u001b[0m\u001b[0m\n\u001b[1;32m---> 25\u001b[1;33m \u001b[0mmovies\u001b[0m \u001b[1;33m=\u001b[0m \u001b[0mmovies\u001b[0m\u001b[1;33m.\u001b[0m\u001b[0mgroupby\u001b[0m\u001b[1;33m(\u001b[0m\u001b[1;34m'imdb_title_id'\u001b[0m\u001b[1;33m)\u001b[0m\u001b[1;33m.\u001b[0m\u001b[0mapply\u001b[0m\u001b[1;33m(\u001b[0m\u001b[0mbreak_line\u001b[0m\u001b[1;33m)\u001b[0m\u001b[1;33m\u001b[0m\u001b[1;33m\u001b[0m\u001b[0m\n\u001b[0m\u001b[0;32m     26\u001b[0m \u001b[1;31m# print(new_movies)\u001b[0m\u001b[1;33m\u001b[0m\u001b[1;33m\u001b[0m\u001b[1;33m\u001b[0m\u001b[0m\n",
            "\u001b[1;32me:\\Users\\Dorian\\anaconda3\\lib\\site-packages\\pandas\\core\\groupby\\groupby.py\u001b[0m in \u001b[0;36mapply\u001b[1;34m(self, func, *args, **kwargs)\u001b[0m\n\u001b[0;32m    892\u001b[0m         \u001b[1;32mwith\u001b[0m \u001b[0moption_context\u001b[0m\u001b[1;33m(\u001b[0m\u001b[1;34m\"mode.chained_assignment\"\u001b[0m\u001b[1;33m,\u001b[0m \u001b[1;32mNone\u001b[0m\u001b[1;33m)\u001b[0m\u001b[1;33m:\u001b[0m\u001b[1;33m\u001b[0m\u001b[1;33m\u001b[0m\u001b[0m\n\u001b[0;32m    893\u001b[0m             \u001b[1;32mtry\u001b[0m\u001b[1;33m:\u001b[0m\u001b[1;33m\u001b[0m\u001b[1;33m\u001b[0m\u001b[0m\n\u001b[1;32m--> 894\u001b[1;33m                 \u001b[0mresult\u001b[0m \u001b[1;33m=\u001b[0m \u001b[0mself\u001b[0m\u001b[1;33m.\u001b[0m\u001b[0m_python_apply_general\u001b[0m\u001b[1;33m(\u001b[0m\u001b[0mf\u001b[0m\u001b[1;33m,\u001b[0m \u001b[0mself\u001b[0m\u001b[1;33m.\u001b[0m\u001b[0m_selected_obj\u001b[0m\u001b[1;33m)\u001b[0m\u001b[1;33m\u001b[0m\u001b[1;33m\u001b[0m\u001b[0m\n\u001b[0m\u001b[0;32m    895\u001b[0m             \u001b[1;32mexcept\u001b[0m \u001b[0mTypeError\u001b[0m\u001b[1;33m:\u001b[0m\u001b[1;33m\u001b[0m\u001b[1;33m\u001b[0m\u001b[0m\n\u001b[0;32m    896\u001b[0m                 \u001b[1;31m# gh-20949\u001b[0m\u001b[1;33m\u001b[0m\u001b[1;33m\u001b[0m\u001b[1;33m\u001b[0m\u001b[0m\n",
            "\u001b[1;32me:\\Users\\Dorian\\anaconda3\\lib\\site-packages\\pandas\\core\\groupby\\groupby.py\u001b[0m in \u001b[0;36m_python_apply_general\u001b[1;34m(self, f, data)\u001b[0m\n\u001b[0;32m    926\u001b[0m             \u001b[0mdata\u001b[0m \u001b[0mafter\u001b[0m \u001b[0mapplying\u001b[0m \u001b[0mf\u001b[0m\u001b[1;33m\u001b[0m\u001b[1;33m\u001b[0m\u001b[0m\n\u001b[0;32m    927\u001b[0m         \"\"\"\n\u001b[1;32m--> 928\u001b[1;33m         \u001b[0mkeys\u001b[0m\u001b[1;33m,\u001b[0m \u001b[0mvalues\u001b[0m\u001b[1;33m,\u001b[0m \u001b[0mmutated\u001b[0m \u001b[1;33m=\u001b[0m \u001b[0mself\u001b[0m\u001b[1;33m.\u001b[0m\u001b[0mgrouper\u001b[0m\u001b[1;33m.\u001b[0m\u001b[0mapply\u001b[0m\u001b[1;33m(\u001b[0m\u001b[0mf\u001b[0m\u001b[1;33m,\u001b[0m \u001b[0mdata\u001b[0m\u001b[1;33m,\u001b[0m \u001b[0mself\u001b[0m\u001b[1;33m.\u001b[0m\u001b[0maxis\u001b[0m\u001b[1;33m)\u001b[0m\u001b[1;33m\u001b[0m\u001b[1;33m\u001b[0m\u001b[0m\n\u001b[0m\u001b[0;32m    929\u001b[0m \u001b[1;33m\u001b[0m\u001b[0m\n\u001b[0;32m    930\u001b[0m         return self._wrap_applied_output(\n",
            "\u001b[1;32me:\\Users\\Dorian\\anaconda3\\lib\\site-packages\\pandas\\core\\groupby\\ops.py\u001b[0m in \u001b[0;36mapply\u001b[1;34m(self, f, data, axis)\u001b[0m\n\u001b[0;32m    236\u001b[0m             \u001b[1;31m# group might be modified\u001b[0m\u001b[1;33m\u001b[0m\u001b[1;33m\u001b[0m\u001b[1;33m\u001b[0m\u001b[0m\n\u001b[0;32m    237\u001b[0m             \u001b[0mgroup_axes\u001b[0m \u001b[1;33m=\u001b[0m \u001b[0mgroup\u001b[0m\u001b[1;33m.\u001b[0m\u001b[0maxes\u001b[0m\u001b[1;33m\u001b[0m\u001b[1;33m\u001b[0m\u001b[0m\n\u001b[1;32m--> 238\u001b[1;33m             \u001b[0mres\u001b[0m \u001b[1;33m=\u001b[0m \u001b[0mf\u001b[0m\u001b[1;33m(\u001b[0m\u001b[0mgroup\u001b[0m\u001b[1;33m)\u001b[0m\u001b[1;33m\u001b[0m\u001b[1;33m\u001b[0m\u001b[0m\n\u001b[0m\u001b[0;32m    239\u001b[0m             \u001b[1;32mif\u001b[0m \u001b[1;32mnot\u001b[0m \u001b[0m_is_indexed_like\u001b[0m\u001b[1;33m(\u001b[0m\u001b[0mres\u001b[0m\u001b[1;33m,\u001b[0m \u001b[0mgroup_axes\u001b[0m\u001b[1;33m,\u001b[0m \u001b[0maxis\u001b[0m\u001b[1;33m)\u001b[0m\u001b[1;33m:\u001b[0m\u001b[1;33m\u001b[0m\u001b[1;33m\u001b[0m\u001b[0m\n\u001b[0;32m    240\u001b[0m                 \u001b[0mmutated\u001b[0m \u001b[1;33m=\u001b[0m \u001b[1;32mTrue\u001b[0m\u001b[1;33m\u001b[0m\u001b[1;33m\u001b[0m\u001b[0m\n",
            "\u001b[1;32m<ipython-input-146-fae2c3fd92e4>\u001b[0m in \u001b[0;36mbreak_line\u001b[1;34m(row)\u001b[0m\n\u001b[0;32m      6\u001b[0m   \u001b[0mprint\u001b[0m\u001b[1;33m(\u001b[0m\u001b[0mrow\u001b[0m\u001b[1;33m)\u001b[0m\u001b[1;33m\u001b[0m\u001b[1;33m\u001b[0m\u001b[0m\n\u001b[0;32m      7\u001b[0m   \u001b[0mres\u001b[0m \u001b[1;33m=\u001b[0m \u001b[0mcopy\u001b[0m\u001b[1;33m.\u001b[0m\u001b[0mdeepcopy\u001b[0m\u001b[1;33m(\u001b[0m\u001b[0mrow\u001b[0m\u001b[1;33m)\u001b[0m\u001b[1;33m\u001b[0m\u001b[1;33m\u001b[0m\u001b[0m\n\u001b[1;32m----> 8\u001b[1;33m   \u001b[0mactors\u001b[0m \u001b[1;33m=\u001b[0m \u001b[0mrow\u001b[0m\u001b[1;33m[\u001b[0m\u001b[1;34m'actors'\u001b[0m\u001b[1;33m]\u001b[0m\u001b[1;33m.\u001b[0m\u001b[0msplit\u001b[0m\u001b[1;33m(\u001b[0m\u001b[1;33m)\u001b[0m\u001b[1;33m\u001b[0m\u001b[1;33m\u001b[0m\u001b[0m\n\u001b[0m\u001b[0;32m      9\u001b[0m \u001b[1;33m\u001b[0m\u001b[0m\n\u001b[0;32m     10\u001b[0m   \u001b[0mrow\u001b[0m\u001b[1;33m[\u001b[0m\u001b[1;34m'actors'\u001b[0m\u001b[1;33m]\u001b[0m \u001b[1;33m=\u001b[0m \u001b[0mactors\u001b[0m\u001b[1;33m[\u001b[0m\u001b[1;36m0\u001b[0m\u001b[1;33m]\u001b[0m\u001b[1;33m\u001b[0m\u001b[1;33m\u001b[0m\u001b[0m\n",
            "\u001b[1;32me:\\Users\\Dorian\\anaconda3\\lib\\site-packages\\pandas\\core\\generic.py\u001b[0m in \u001b[0;36m__getattr__\u001b[1;34m(self, name)\u001b[0m\n\u001b[0;32m   5463\u001b[0m             \u001b[1;32mif\u001b[0m \u001b[0mself\u001b[0m\u001b[1;33m.\u001b[0m\u001b[0m_info_axis\u001b[0m\u001b[1;33m.\u001b[0m\u001b[0m_can_hold_identifiers_and_holds_name\u001b[0m\u001b[1;33m(\u001b[0m\u001b[0mname\u001b[0m\u001b[1;33m)\u001b[0m\u001b[1;33m:\u001b[0m\u001b[1;33m\u001b[0m\u001b[1;33m\u001b[0m\u001b[0m\n\u001b[0;32m   5464\u001b[0m                 \u001b[1;32mreturn\u001b[0m \u001b[0mself\u001b[0m\u001b[1;33m[\u001b[0m\u001b[0mname\u001b[0m\u001b[1;33m]\u001b[0m\u001b[1;33m\u001b[0m\u001b[1;33m\u001b[0m\u001b[0m\n\u001b[1;32m-> 5465\u001b[1;33m             \u001b[1;32mreturn\u001b[0m \u001b[0mobject\u001b[0m\u001b[1;33m.\u001b[0m\u001b[0m__getattribute__\u001b[0m\u001b[1;33m(\u001b[0m\u001b[0mself\u001b[0m\u001b[1;33m,\u001b[0m \u001b[0mname\u001b[0m\u001b[1;33m)\u001b[0m\u001b[1;33m\u001b[0m\u001b[1;33m\u001b[0m\u001b[0m\n\u001b[0m\u001b[0;32m   5466\u001b[0m \u001b[1;33m\u001b[0m\u001b[0m\n\u001b[0;32m   5467\u001b[0m     \u001b[1;32mdef\u001b[0m \u001b[0m__setattr__\u001b[0m\u001b[1;33m(\u001b[0m\u001b[0mself\u001b[0m\u001b[1;33m,\u001b[0m \u001b[0mname\u001b[0m\u001b[1;33m:\u001b[0m \u001b[0mstr\u001b[0m\u001b[1;33m,\u001b[0m \u001b[0mvalue\u001b[0m\u001b[1;33m)\u001b[0m \u001b[1;33m->\u001b[0m \u001b[1;32mNone\u001b[0m\u001b[1;33m:\u001b[0m\u001b[1;33m\u001b[0m\u001b[1;33m\u001b[0m\u001b[0m\n",
            "\u001b[1;31mAttributeError\u001b[0m: 'Series' object has no attribute 'split'"
          ]
        }
      ],
      "source": [
        "import copy\n",
        "\n",
        "new_movies = None\n",
        "\n",
        "def break_line(row):\n",
        "  print(row)\n",
        "  res = copy.deepcopy(row)\n",
        "  actors = row['actors'].split()\n",
        "\n",
        "  row['actors'] = actors[0]\n",
        "  row_copy = copy.deepcopy(row)\n",
        "  for i in range(1, len(actors)):\n",
        "    global new_movies\n",
        "    row_copy_aux = copy.deepcopy(row_copy)\n",
        "    row_copy_aux['actors'] = actors[i]\n",
        "    row = pd.concat([row, row_copy_aux], axis=0)\n",
        "  if new_movies is None:\n",
        "    new_movies = row\n",
        "  else:\n",
        "    new_movies = pd.concat([row, new_movies], axis=0)\n",
        "  return res\n",
        "\n",
        "\n",
        "movies = pd.read_csv(\"datasets/movies.csv\")\n",
        "movies = movies.groupby('imdb_title_id').apply(break_line)\n",
        "# print(new_movies)"
      ]
    },
    {
      "cell_type": "markdown",
      "metadata": {
        "id": "DvsRHv6SqKlS"
      },
      "source": [
        "Referinte bibliografice:\n",
        "\n",
        "[1] https://docs.dask.org/en/stable/\n",
        "\n",
        "[2] https://spark.apache.org/docs/latest/api/python/"
      ]
    }
  ],
  "metadata": {
    "colab": {
      "collapsed_sections": [
        "OuVPgnWc6tY5",
        "hDwUafD19Sn1",
        "S_rykUVSEQLP"
      ],
      "provenance": []
    },
    "kernelspec": {
      "display_name": "Python 3.8.6 ('.venv': venv)",
      "language": "python",
      "name": "python3"
    },
    "language_info": {
      "codemirror_mode": {
        "name": "ipython",
        "version": 3
      },
      "file_extension": ".py",
      "mimetype": "text/x-python",
      "name": "python",
      "nbconvert_exporter": "python",
      "pygments_lexer": "ipython3",
      "version": "3.8.8"
    },
    "vscode": {
      "interpreter": {
        "hash": "84aa76af62a4a79bffe63805d5c6218bd616b4b46aea3f09074d1973a1d61827"
      }
    }
  },
  "nbformat": 4,
  "nbformat_minor": 0
}
